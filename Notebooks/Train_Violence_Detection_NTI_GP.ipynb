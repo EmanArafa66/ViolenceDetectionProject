{
  "nbformat": 4,
  "nbformat_minor": 0,
  "metadata": {
    "colab": {
      "provenance": [],
      "gpuType": "T4"
    },
    "kernelspec": {
      "name": "python3",
      "display_name": "Python 3"
    },
    "language_info": {
      "name": "python"
    },
    "accelerator": "GPU",
    "widgets": {
      "application/vnd.jupyter.widget-state+json": {
        "0f5b88b3f3bb487298262fcd849f44fb": {
          "model_module": "@jupyter-widgets/controls",
          "model_name": "HBoxModel",
          "model_module_version": "1.5.0",
          "state": {
            "_dom_classes": [],
            "_model_module": "@jupyter-widgets/controls",
            "_model_module_version": "1.5.0",
            "_model_name": "HBoxModel",
            "_view_count": null,
            "_view_module": "@jupyter-widgets/controls",
            "_view_module_version": "1.5.0",
            "_view_name": "HBoxView",
            "box_style": "",
            "children": [
              "IPY_MODEL_b9c0122de44d432ba3cc9f2a0039721b",
              "IPY_MODEL_e3bdb2c57ea94da681f86756f1a41ba1",
              "IPY_MODEL_5281699219914688a08352fe512ba550"
            ],
            "layout": "IPY_MODEL_376cfe689a0d4a82bce3fd6f485eabd4"
          }
        },
        "b9c0122de44d432ba3cc9f2a0039721b": {
          "model_module": "@jupyter-widgets/controls",
          "model_name": "HTMLModel",
          "model_module_version": "1.5.0",
          "state": {
            "_dom_classes": [],
            "_model_module": "@jupyter-widgets/controls",
            "_model_module_version": "1.5.0",
            "_model_name": "HTMLModel",
            "_view_count": null,
            "_view_module": "@jupyter-widgets/controls",
            "_view_module_version": "1.5.0",
            "_view_name": "HTMLView",
            "description": "",
            "description_tooltip": null,
            "layout": "IPY_MODEL_5bf1693450ba4eb0a9eb18af681c7536",
            "placeholder": "​",
            "style": "IPY_MODEL_15713fdedaed43be8c3f78d0ea61fe72",
            "value": "Loading checkpoint shards: 100%"
          }
        },
        "e3bdb2c57ea94da681f86756f1a41ba1": {
          "model_module": "@jupyter-widgets/controls",
          "model_name": "FloatProgressModel",
          "model_module_version": "1.5.0",
          "state": {
            "_dom_classes": [],
            "_model_module": "@jupyter-widgets/controls",
            "_model_module_version": "1.5.0",
            "_model_name": "FloatProgressModel",
            "_view_count": null,
            "_view_module": "@jupyter-widgets/controls",
            "_view_module_version": "1.5.0",
            "_view_name": "ProgressView",
            "bar_style": "success",
            "description": "",
            "description_tooltip": null,
            "layout": "IPY_MODEL_146e2230a5c3464dbbe0c1f51b77164f",
            "max": 2,
            "min": 0,
            "orientation": "horizontal",
            "style": "IPY_MODEL_1e281a754d78489db957b87f9f2750cb",
            "value": 2
          }
        },
        "5281699219914688a08352fe512ba550": {
          "model_module": "@jupyter-widgets/controls",
          "model_name": "HTMLModel",
          "model_module_version": "1.5.0",
          "state": {
            "_dom_classes": [],
            "_model_module": "@jupyter-widgets/controls",
            "_model_module_version": "1.5.0",
            "_model_name": "HTMLModel",
            "_view_count": null,
            "_view_module": "@jupyter-widgets/controls",
            "_view_module_version": "1.5.0",
            "_view_name": "HTMLView",
            "description": "",
            "description_tooltip": null,
            "layout": "IPY_MODEL_77147e46bcac45e3aa36b3e16cb8fe52",
            "placeholder": "​",
            "style": "IPY_MODEL_f03febe5446f473c812843e79d3d5bd3",
            "value": " 2/2 [01:04&lt;00:00, 30.70s/it]"
          }
        },
        "376cfe689a0d4a82bce3fd6f485eabd4": {
          "model_module": "@jupyter-widgets/base",
          "model_name": "LayoutModel",
          "model_module_version": "1.2.0",
          "state": {
            "_model_module": "@jupyter-widgets/base",
            "_model_module_version": "1.2.0",
            "_model_name": "LayoutModel",
            "_view_count": null,
            "_view_module": "@jupyter-widgets/base",
            "_view_module_version": "1.2.0",
            "_view_name": "LayoutView",
            "align_content": null,
            "align_items": null,
            "align_self": null,
            "border": null,
            "bottom": null,
            "display": null,
            "flex": null,
            "flex_flow": null,
            "grid_area": null,
            "grid_auto_columns": null,
            "grid_auto_flow": null,
            "grid_auto_rows": null,
            "grid_column": null,
            "grid_gap": null,
            "grid_row": null,
            "grid_template_areas": null,
            "grid_template_columns": null,
            "grid_template_rows": null,
            "height": null,
            "justify_content": null,
            "justify_items": null,
            "left": null,
            "margin": null,
            "max_height": null,
            "max_width": null,
            "min_height": null,
            "min_width": null,
            "object_fit": null,
            "object_position": null,
            "order": null,
            "overflow": null,
            "overflow_x": null,
            "overflow_y": null,
            "padding": null,
            "right": null,
            "top": null,
            "visibility": null,
            "width": null
          }
        },
        "5bf1693450ba4eb0a9eb18af681c7536": {
          "model_module": "@jupyter-widgets/base",
          "model_name": "LayoutModel",
          "model_module_version": "1.2.0",
          "state": {
            "_model_module": "@jupyter-widgets/base",
            "_model_module_version": "1.2.0",
            "_model_name": "LayoutModel",
            "_view_count": null,
            "_view_module": "@jupyter-widgets/base",
            "_view_module_version": "1.2.0",
            "_view_name": "LayoutView",
            "align_content": null,
            "align_items": null,
            "align_self": null,
            "border": null,
            "bottom": null,
            "display": null,
            "flex": null,
            "flex_flow": null,
            "grid_area": null,
            "grid_auto_columns": null,
            "grid_auto_flow": null,
            "grid_auto_rows": null,
            "grid_column": null,
            "grid_gap": null,
            "grid_row": null,
            "grid_template_areas": null,
            "grid_template_columns": null,
            "grid_template_rows": null,
            "height": null,
            "justify_content": null,
            "justify_items": null,
            "left": null,
            "margin": null,
            "max_height": null,
            "max_width": null,
            "min_height": null,
            "min_width": null,
            "object_fit": null,
            "object_position": null,
            "order": null,
            "overflow": null,
            "overflow_x": null,
            "overflow_y": null,
            "padding": null,
            "right": null,
            "top": null,
            "visibility": null,
            "width": null
          }
        },
        "15713fdedaed43be8c3f78d0ea61fe72": {
          "model_module": "@jupyter-widgets/controls",
          "model_name": "DescriptionStyleModel",
          "model_module_version": "1.5.0",
          "state": {
            "_model_module": "@jupyter-widgets/controls",
            "_model_module_version": "1.5.0",
            "_model_name": "DescriptionStyleModel",
            "_view_count": null,
            "_view_module": "@jupyter-widgets/base",
            "_view_module_version": "1.2.0",
            "_view_name": "StyleView",
            "description_width": ""
          }
        },
        "146e2230a5c3464dbbe0c1f51b77164f": {
          "model_module": "@jupyter-widgets/base",
          "model_name": "LayoutModel",
          "model_module_version": "1.2.0",
          "state": {
            "_model_module": "@jupyter-widgets/base",
            "_model_module_version": "1.2.0",
            "_model_name": "LayoutModel",
            "_view_count": null,
            "_view_module": "@jupyter-widgets/base",
            "_view_module_version": "1.2.0",
            "_view_name": "LayoutView",
            "align_content": null,
            "align_items": null,
            "align_self": null,
            "border": null,
            "bottom": null,
            "display": null,
            "flex": null,
            "flex_flow": null,
            "grid_area": null,
            "grid_auto_columns": null,
            "grid_auto_flow": null,
            "grid_auto_rows": null,
            "grid_column": null,
            "grid_gap": null,
            "grid_row": null,
            "grid_template_areas": null,
            "grid_template_columns": null,
            "grid_template_rows": null,
            "height": null,
            "justify_content": null,
            "justify_items": null,
            "left": null,
            "margin": null,
            "max_height": null,
            "max_width": null,
            "min_height": null,
            "min_width": null,
            "object_fit": null,
            "object_position": null,
            "order": null,
            "overflow": null,
            "overflow_x": null,
            "overflow_y": null,
            "padding": null,
            "right": null,
            "top": null,
            "visibility": null,
            "width": null
          }
        },
        "1e281a754d78489db957b87f9f2750cb": {
          "model_module": "@jupyter-widgets/controls",
          "model_name": "ProgressStyleModel",
          "model_module_version": "1.5.0",
          "state": {
            "_model_module": "@jupyter-widgets/controls",
            "_model_module_version": "1.5.0",
            "_model_name": "ProgressStyleModel",
            "_view_count": null,
            "_view_module": "@jupyter-widgets/base",
            "_view_module_version": "1.2.0",
            "_view_name": "StyleView",
            "bar_color": null,
            "description_width": ""
          }
        },
        "77147e46bcac45e3aa36b3e16cb8fe52": {
          "model_module": "@jupyter-widgets/base",
          "model_name": "LayoutModel",
          "model_module_version": "1.2.0",
          "state": {
            "_model_module": "@jupyter-widgets/base",
            "_model_module_version": "1.2.0",
            "_model_name": "LayoutModel",
            "_view_count": null,
            "_view_module": "@jupyter-widgets/base",
            "_view_module_version": "1.2.0",
            "_view_name": "LayoutView",
            "align_content": null,
            "align_items": null,
            "align_self": null,
            "border": null,
            "bottom": null,
            "display": null,
            "flex": null,
            "flex_flow": null,
            "grid_area": null,
            "grid_auto_columns": null,
            "grid_auto_flow": null,
            "grid_auto_rows": null,
            "grid_column": null,
            "grid_gap": null,
            "grid_row": null,
            "grid_template_areas": null,
            "grid_template_columns": null,
            "grid_template_rows": null,
            "height": null,
            "justify_content": null,
            "justify_items": null,
            "left": null,
            "margin": null,
            "max_height": null,
            "max_width": null,
            "min_height": null,
            "min_width": null,
            "object_fit": null,
            "object_position": null,
            "order": null,
            "overflow": null,
            "overflow_x": null,
            "overflow_y": null,
            "padding": null,
            "right": null,
            "top": null,
            "visibility": null,
            "width": null
          }
        },
        "f03febe5446f473c812843e79d3d5bd3": {
          "model_module": "@jupyter-widgets/controls",
          "model_name": "DescriptionStyleModel",
          "model_module_version": "1.5.0",
          "state": {
            "_model_module": "@jupyter-widgets/controls",
            "_model_module_version": "1.5.0",
            "_model_name": "DescriptionStyleModel",
            "_view_count": null,
            "_view_module": "@jupyter-widgets/base",
            "_view_module_version": "1.2.0",
            "_view_name": "StyleView",
            "description_width": ""
          }
        },
        "63170daeccd747398d79ca0898345da4": {
          "model_module": "@jupyter-widgets/controls",
          "model_name": "HBoxModel",
          "model_module_version": "1.5.0",
          "state": {
            "_dom_classes": [],
            "_model_module": "@jupyter-widgets/controls",
            "_model_module_version": "1.5.0",
            "_model_name": "HBoxModel",
            "_view_count": null,
            "_view_module": "@jupyter-widgets/controls",
            "_view_module_version": "1.5.0",
            "_view_name": "HBoxView",
            "box_style": "",
            "children": [
              "IPY_MODEL_7c16a5f575554310998eb9e91a414857",
              "IPY_MODEL_92784e6d291f4da78cb60fa0cb3c7b0c",
              "IPY_MODEL_33d79a4295e44c1ba2fa765a08b45472"
            ],
            "layout": "IPY_MODEL_38a6f8a1d4c2453e89fcab9c11bdfa63"
          }
        },
        "7c16a5f575554310998eb9e91a414857": {
          "model_module": "@jupyter-widgets/controls",
          "model_name": "HTMLModel",
          "model_module_version": "1.5.0",
          "state": {
            "_dom_classes": [],
            "_model_module": "@jupyter-widgets/controls",
            "_model_module_version": "1.5.0",
            "_model_name": "HTMLModel",
            "_view_count": null,
            "_view_module": "@jupyter-widgets/controls",
            "_view_module_version": "1.5.0",
            "_view_name": "HTMLView",
            "description": "",
            "description_tooltip": null,
            "layout": "IPY_MODEL_642975eb108743d7b9bfdaa9f39da3d6",
            "placeholder": "​",
            "style": "IPY_MODEL_3661f4419ec74142ba610d555fe418c1",
            "value": "Loading checkpoint shards: 100%"
          }
        },
        "92784e6d291f4da78cb60fa0cb3c7b0c": {
          "model_module": "@jupyter-widgets/controls",
          "model_name": "FloatProgressModel",
          "model_module_version": "1.5.0",
          "state": {
            "_dom_classes": [],
            "_model_module": "@jupyter-widgets/controls",
            "_model_module_version": "1.5.0",
            "_model_name": "FloatProgressModel",
            "_view_count": null,
            "_view_module": "@jupyter-widgets/controls",
            "_view_module_version": "1.5.0",
            "_view_name": "ProgressView",
            "bar_style": "success",
            "description": "",
            "description_tooltip": null,
            "layout": "IPY_MODEL_6ec8e09ec1d1450a99869dfaff02c817",
            "max": 2,
            "min": 0,
            "orientation": "horizontal",
            "style": "IPY_MODEL_de9acdbfb1c549bf8dcee7008eb58a8e",
            "value": 2
          }
        },
        "33d79a4295e44c1ba2fa765a08b45472": {
          "model_module": "@jupyter-widgets/controls",
          "model_name": "HTMLModel",
          "model_module_version": "1.5.0",
          "state": {
            "_dom_classes": [],
            "_model_module": "@jupyter-widgets/controls",
            "_model_module_version": "1.5.0",
            "_model_name": "HTMLModel",
            "_view_count": null,
            "_view_module": "@jupyter-widgets/controls",
            "_view_module_version": "1.5.0",
            "_view_name": "HTMLView",
            "description": "",
            "description_tooltip": null,
            "layout": "IPY_MODEL_fb6891f502bd4b519ab4b3f3e3152bc3",
            "placeholder": "​",
            "style": "IPY_MODEL_87cc968e44e344339ed0dc7ce0b24a2f",
            "value": " 2/2 [01:08&lt;00:00, 32.34s/it]"
          }
        },
        "38a6f8a1d4c2453e89fcab9c11bdfa63": {
          "model_module": "@jupyter-widgets/base",
          "model_name": "LayoutModel",
          "model_module_version": "1.2.0",
          "state": {
            "_model_module": "@jupyter-widgets/base",
            "_model_module_version": "1.2.0",
            "_model_name": "LayoutModel",
            "_view_count": null,
            "_view_module": "@jupyter-widgets/base",
            "_view_module_version": "1.2.0",
            "_view_name": "LayoutView",
            "align_content": null,
            "align_items": null,
            "align_self": null,
            "border": null,
            "bottom": null,
            "display": null,
            "flex": null,
            "flex_flow": null,
            "grid_area": null,
            "grid_auto_columns": null,
            "grid_auto_flow": null,
            "grid_auto_rows": null,
            "grid_column": null,
            "grid_gap": null,
            "grid_row": null,
            "grid_template_areas": null,
            "grid_template_columns": null,
            "grid_template_rows": null,
            "height": null,
            "justify_content": null,
            "justify_items": null,
            "left": null,
            "margin": null,
            "max_height": null,
            "max_width": null,
            "min_height": null,
            "min_width": null,
            "object_fit": null,
            "object_position": null,
            "order": null,
            "overflow": null,
            "overflow_x": null,
            "overflow_y": null,
            "padding": null,
            "right": null,
            "top": null,
            "visibility": null,
            "width": null
          }
        },
        "642975eb108743d7b9bfdaa9f39da3d6": {
          "model_module": "@jupyter-widgets/base",
          "model_name": "LayoutModel",
          "model_module_version": "1.2.0",
          "state": {
            "_model_module": "@jupyter-widgets/base",
            "_model_module_version": "1.2.0",
            "_model_name": "LayoutModel",
            "_view_count": null,
            "_view_module": "@jupyter-widgets/base",
            "_view_module_version": "1.2.0",
            "_view_name": "LayoutView",
            "align_content": null,
            "align_items": null,
            "align_self": null,
            "border": null,
            "bottom": null,
            "display": null,
            "flex": null,
            "flex_flow": null,
            "grid_area": null,
            "grid_auto_columns": null,
            "grid_auto_flow": null,
            "grid_auto_rows": null,
            "grid_column": null,
            "grid_gap": null,
            "grid_row": null,
            "grid_template_areas": null,
            "grid_template_columns": null,
            "grid_template_rows": null,
            "height": null,
            "justify_content": null,
            "justify_items": null,
            "left": null,
            "margin": null,
            "max_height": null,
            "max_width": null,
            "min_height": null,
            "min_width": null,
            "object_fit": null,
            "object_position": null,
            "order": null,
            "overflow": null,
            "overflow_x": null,
            "overflow_y": null,
            "padding": null,
            "right": null,
            "top": null,
            "visibility": null,
            "width": null
          }
        },
        "3661f4419ec74142ba610d555fe418c1": {
          "model_module": "@jupyter-widgets/controls",
          "model_name": "DescriptionStyleModel",
          "model_module_version": "1.5.0",
          "state": {
            "_model_module": "@jupyter-widgets/controls",
            "_model_module_version": "1.5.0",
            "_model_name": "DescriptionStyleModel",
            "_view_count": null,
            "_view_module": "@jupyter-widgets/base",
            "_view_module_version": "1.2.0",
            "_view_name": "StyleView",
            "description_width": ""
          }
        },
        "6ec8e09ec1d1450a99869dfaff02c817": {
          "model_module": "@jupyter-widgets/base",
          "model_name": "LayoutModel",
          "model_module_version": "1.2.0",
          "state": {
            "_model_module": "@jupyter-widgets/base",
            "_model_module_version": "1.2.0",
            "_model_name": "LayoutModel",
            "_view_count": null,
            "_view_module": "@jupyter-widgets/base",
            "_view_module_version": "1.2.0",
            "_view_name": "LayoutView",
            "align_content": null,
            "align_items": null,
            "align_self": null,
            "border": null,
            "bottom": null,
            "display": null,
            "flex": null,
            "flex_flow": null,
            "grid_area": null,
            "grid_auto_columns": null,
            "grid_auto_flow": null,
            "grid_auto_rows": null,
            "grid_column": null,
            "grid_gap": null,
            "grid_row": null,
            "grid_template_areas": null,
            "grid_template_columns": null,
            "grid_template_rows": null,
            "height": null,
            "justify_content": null,
            "justify_items": null,
            "left": null,
            "margin": null,
            "max_height": null,
            "max_width": null,
            "min_height": null,
            "min_width": null,
            "object_fit": null,
            "object_position": null,
            "order": null,
            "overflow": null,
            "overflow_x": null,
            "overflow_y": null,
            "padding": null,
            "right": null,
            "top": null,
            "visibility": null,
            "width": null
          }
        },
        "de9acdbfb1c549bf8dcee7008eb58a8e": {
          "model_module": "@jupyter-widgets/controls",
          "model_name": "ProgressStyleModel",
          "model_module_version": "1.5.0",
          "state": {
            "_model_module": "@jupyter-widgets/controls",
            "_model_module_version": "1.5.0",
            "_model_name": "ProgressStyleModel",
            "_view_count": null,
            "_view_module": "@jupyter-widgets/base",
            "_view_module_version": "1.2.0",
            "_view_name": "StyleView",
            "bar_color": null,
            "description_width": ""
          }
        },
        "fb6891f502bd4b519ab4b3f3e3152bc3": {
          "model_module": "@jupyter-widgets/base",
          "model_name": "LayoutModel",
          "model_module_version": "1.2.0",
          "state": {
            "_model_module": "@jupyter-widgets/base",
            "_model_module_version": "1.2.0",
            "_model_name": "LayoutModel",
            "_view_count": null,
            "_view_module": "@jupyter-widgets/base",
            "_view_module_version": "1.2.0",
            "_view_name": "LayoutView",
            "align_content": null,
            "align_items": null,
            "align_self": null,
            "border": null,
            "bottom": null,
            "display": null,
            "flex": null,
            "flex_flow": null,
            "grid_area": null,
            "grid_auto_columns": null,
            "grid_auto_flow": null,
            "grid_auto_rows": null,
            "grid_column": null,
            "grid_gap": null,
            "grid_row": null,
            "grid_template_areas": null,
            "grid_template_columns": null,
            "grid_template_rows": null,
            "height": null,
            "justify_content": null,
            "justify_items": null,
            "left": null,
            "margin": null,
            "max_height": null,
            "max_width": null,
            "min_height": null,
            "min_width": null,
            "object_fit": null,
            "object_position": null,
            "order": null,
            "overflow": null,
            "overflow_x": null,
            "overflow_y": null,
            "padding": null,
            "right": null,
            "top": null,
            "visibility": null,
            "width": null
          }
        },
        "87cc968e44e344339ed0dc7ce0b24a2f": {
          "model_module": "@jupyter-widgets/controls",
          "model_name": "DescriptionStyleModel",
          "model_module_version": "1.5.0",
          "state": {
            "_model_module": "@jupyter-widgets/controls",
            "_model_module_version": "1.5.0",
            "_model_name": "DescriptionStyleModel",
            "_view_count": null,
            "_view_module": "@jupyter-widgets/base",
            "_view_module_version": "1.2.0",
            "_view_name": "StyleView",
            "description_width": ""
          }
        },
        "8448ac6826644513b86b1d4b19180399": {
          "model_module": "@jupyter-widgets/controls",
          "model_name": "HBoxModel",
          "model_module_version": "1.5.0",
          "state": {
            "_dom_classes": [],
            "_model_module": "@jupyter-widgets/controls",
            "_model_module_version": "1.5.0",
            "_model_name": "HBoxModel",
            "_view_count": null,
            "_view_module": "@jupyter-widgets/controls",
            "_view_module_version": "1.5.0",
            "_view_name": "HBoxView",
            "box_style": "",
            "children": [
              "IPY_MODEL_f83e2698344e467ca03f102f7193710a",
              "IPY_MODEL_4e7edb73df604b318bd3070e812cafb8",
              "IPY_MODEL_398d5a10b72b40f4bb576e6798a6f34d"
            ],
            "layout": "IPY_MODEL_1998b7cba17a4ad985179fdd4edfb87f"
          }
        },
        "f83e2698344e467ca03f102f7193710a": {
          "model_module": "@jupyter-widgets/controls",
          "model_name": "HTMLModel",
          "model_module_version": "1.5.0",
          "state": {
            "_dom_classes": [],
            "_model_module": "@jupyter-widgets/controls",
            "_model_module_version": "1.5.0",
            "_model_name": "HTMLModel",
            "_view_count": null,
            "_view_module": "@jupyter-widgets/controls",
            "_view_module_version": "1.5.0",
            "_view_name": "HTMLView",
            "description": "",
            "description_tooltip": null,
            "layout": "IPY_MODEL_317fbe3238f64d56996102d4fdb14230",
            "placeholder": "​",
            "style": "IPY_MODEL_62ca9bbafe444cda9750a690acd838ed",
            "value": "Loading checkpoint shards: 100%"
          }
        },
        "4e7edb73df604b318bd3070e812cafb8": {
          "model_module": "@jupyter-widgets/controls",
          "model_name": "FloatProgressModel",
          "model_module_version": "1.5.0",
          "state": {
            "_dom_classes": [],
            "_model_module": "@jupyter-widgets/controls",
            "_model_module_version": "1.5.0",
            "_model_name": "FloatProgressModel",
            "_view_count": null,
            "_view_module": "@jupyter-widgets/controls",
            "_view_module_version": "1.5.0",
            "_view_name": "ProgressView",
            "bar_style": "success",
            "description": "",
            "description_tooltip": null,
            "layout": "IPY_MODEL_ee926d69644c45e285fe0a443dbc592d",
            "max": 2,
            "min": 0,
            "orientation": "horizontal",
            "style": "IPY_MODEL_6bad09fffde0445e8e5c2d8113523614",
            "value": 2
          }
        },
        "398d5a10b72b40f4bb576e6798a6f34d": {
          "model_module": "@jupyter-widgets/controls",
          "model_name": "HTMLModel",
          "model_module_version": "1.5.0",
          "state": {
            "_dom_classes": [],
            "_model_module": "@jupyter-widgets/controls",
            "_model_module_version": "1.5.0",
            "_model_name": "HTMLModel",
            "_view_count": null,
            "_view_module": "@jupyter-widgets/controls",
            "_view_module_version": "1.5.0",
            "_view_name": "HTMLView",
            "description": "",
            "description_tooltip": null,
            "layout": "IPY_MODEL_4906d581646946f4868966aa93edc30e",
            "placeholder": "​",
            "style": "IPY_MODEL_322d3e01e1574b12a3224abcde74872e",
            "value": " 2/2 [01:13&lt;00:00, 35.56s/it]"
          }
        },
        "1998b7cba17a4ad985179fdd4edfb87f": {
          "model_module": "@jupyter-widgets/base",
          "model_name": "LayoutModel",
          "model_module_version": "1.2.0",
          "state": {
            "_model_module": "@jupyter-widgets/base",
            "_model_module_version": "1.2.0",
            "_model_name": "LayoutModel",
            "_view_count": null,
            "_view_module": "@jupyter-widgets/base",
            "_view_module_version": "1.2.0",
            "_view_name": "LayoutView",
            "align_content": null,
            "align_items": null,
            "align_self": null,
            "border": null,
            "bottom": null,
            "display": null,
            "flex": null,
            "flex_flow": null,
            "grid_area": null,
            "grid_auto_columns": null,
            "grid_auto_flow": null,
            "grid_auto_rows": null,
            "grid_column": null,
            "grid_gap": null,
            "grid_row": null,
            "grid_template_areas": null,
            "grid_template_columns": null,
            "grid_template_rows": null,
            "height": null,
            "justify_content": null,
            "justify_items": null,
            "left": null,
            "margin": null,
            "max_height": null,
            "max_width": null,
            "min_height": null,
            "min_width": null,
            "object_fit": null,
            "object_position": null,
            "order": null,
            "overflow": null,
            "overflow_x": null,
            "overflow_y": null,
            "padding": null,
            "right": null,
            "top": null,
            "visibility": null,
            "width": null
          }
        },
        "317fbe3238f64d56996102d4fdb14230": {
          "model_module": "@jupyter-widgets/base",
          "model_name": "LayoutModel",
          "model_module_version": "1.2.0",
          "state": {
            "_model_module": "@jupyter-widgets/base",
            "_model_module_version": "1.2.0",
            "_model_name": "LayoutModel",
            "_view_count": null,
            "_view_module": "@jupyter-widgets/base",
            "_view_module_version": "1.2.0",
            "_view_name": "LayoutView",
            "align_content": null,
            "align_items": null,
            "align_self": null,
            "border": null,
            "bottom": null,
            "display": null,
            "flex": null,
            "flex_flow": null,
            "grid_area": null,
            "grid_auto_columns": null,
            "grid_auto_flow": null,
            "grid_auto_rows": null,
            "grid_column": null,
            "grid_gap": null,
            "grid_row": null,
            "grid_template_areas": null,
            "grid_template_columns": null,
            "grid_template_rows": null,
            "height": null,
            "justify_content": null,
            "justify_items": null,
            "left": null,
            "margin": null,
            "max_height": null,
            "max_width": null,
            "min_height": null,
            "min_width": null,
            "object_fit": null,
            "object_position": null,
            "order": null,
            "overflow": null,
            "overflow_x": null,
            "overflow_y": null,
            "padding": null,
            "right": null,
            "top": null,
            "visibility": null,
            "width": null
          }
        },
        "62ca9bbafe444cda9750a690acd838ed": {
          "model_module": "@jupyter-widgets/controls",
          "model_name": "DescriptionStyleModel",
          "model_module_version": "1.5.0",
          "state": {
            "_model_module": "@jupyter-widgets/controls",
            "_model_module_version": "1.5.0",
            "_model_name": "DescriptionStyleModel",
            "_view_count": null,
            "_view_module": "@jupyter-widgets/base",
            "_view_module_version": "1.2.0",
            "_view_name": "StyleView",
            "description_width": ""
          }
        },
        "ee926d69644c45e285fe0a443dbc592d": {
          "model_module": "@jupyter-widgets/base",
          "model_name": "LayoutModel",
          "model_module_version": "1.2.0",
          "state": {
            "_model_module": "@jupyter-widgets/base",
            "_model_module_version": "1.2.0",
            "_model_name": "LayoutModel",
            "_view_count": null,
            "_view_module": "@jupyter-widgets/base",
            "_view_module_version": "1.2.0",
            "_view_name": "LayoutView",
            "align_content": null,
            "align_items": null,
            "align_self": null,
            "border": null,
            "bottom": null,
            "display": null,
            "flex": null,
            "flex_flow": null,
            "grid_area": null,
            "grid_auto_columns": null,
            "grid_auto_flow": null,
            "grid_auto_rows": null,
            "grid_column": null,
            "grid_gap": null,
            "grid_row": null,
            "grid_template_areas": null,
            "grid_template_columns": null,
            "grid_template_rows": null,
            "height": null,
            "justify_content": null,
            "justify_items": null,
            "left": null,
            "margin": null,
            "max_height": null,
            "max_width": null,
            "min_height": null,
            "min_width": null,
            "object_fit": null,
            "object_position": null,
            "order": null,
            "overflow": null,
            "overflow_x": null,
            "overflow_y": null,
            "padding": null,
            "right": null,
            "top": null,
            "visibility": null,
            "width": null
          }
        },
        "6bad09fffde0445e8e5c2d8113523614": {
          "model_module": "@jupyter-widgets/controls",
          "model_name": "ProgressStyleModel",
          "model_module_version": "1.5.0",
          "state": {
            "_model_module": "@jupyter-widgets/controls",
            "_model_module_version": "1.5.0",
            "_model_name": "ProgressStyleModel",
            "_view_count": null,
            "_view_module": "@jupyter-widgets/base",
            "_view_module_version": "1.2.0",
            "_view_name": "StyleView",
            "bar_color": null,
            "description_width": ""
          }
        },
        "4906d581646946f4868966aa93edc30e": {
          "model_module": "@jupyter-widgets/base",
          "model_name": "LayoutModel",
          "model_module_version": "1.2.0",
          "state": {
            "_model_module": "@jupyter-widgets/base",
            "_model_module_version": "1.2.0",
            "_model_name": "LayoutModel",
            "_view_count": null,
            "_view_module": "@jupyter-widgets/base",
            "_view_module_version": "1.2.0",
            "_view_name": "LayoutView",
            "align_content": null,
            "align_items": null,
            "align_self": null,
            "border": null,
            "bottom": null,
            "display": null,
            "flex": null,
            "flex_flow": null,
            "grid_area": null,
            "grid_auto_columns": null,
            "grid_auto_flow": null,
            "grid_auto_rows": null,
            "grid_column": null,
            "grid_gap": null,
            "grid_row": null,
            "grid_template_areas": null,
            "grid_template_columns": null,
            "grid_template_rows": null,
            "height": null,
            "justify_content": null,
            "justify_items": null,
            "left": null,
            "margin": null,
            "max_height": null,
            "max_width": null,
            "min_height": null,
            "min_width": null,
            "object_fit": null,
            "object_position": null,
            "order": null,
            "overflow": null,
            "overflow_x": null,
            "overflow_y": null,
            "padding": null,
            "right": null,
            "top": null,
            "visibility": null,
            "width": null
          }
        },
        "322d3e01e1574b12a3224abcde74872e": {
          "model_module": "@jupyter-widgets/controls",
          "model_name": "DescriptionStyleModel",
          "model_module_version": "1.5.0",
          "state": {
            "_model_module": "@jupyter-widgets/controls",
            "_model_module_version": "1.5.0",
            "_model_name": "DescriptionStyleModel",
            "_view_count": null,
            "_view_module": "@jupyter-widgets/base",
            "_view_module_version": "1.2.0",
            "_view_name": "StyleView",
            "description_width": ""
          }
        },
        "7d2ed87ad8aa421d9438ae2699798537": {
          "model_module": "@jupyter-widgets/controls",
          "model_name": "HBoxModel",
          "model_module_version": "1.5.0",
          "state": {
            "_dom_classes": [],
            "_model_module": "@jupyter-widgets/controls",
            "_model_module_version": "1.5.0",
            "_model_name": "HBoxModel",
            "_view_count": null,
            "_view_module": "@jupyter-widgets/controls",
            "_view_module_version": "1.5.0",
            "_view_name": "HBoxView",
            "box_style": "",
            "children": [
              "IPY_MODEL_5f322e541a364f8c80eafaff19310dfd",
              "IPY_MODEL_1ec47e4288a347959c59f7f1df7b6441",
              "IPY_MODEL_72b2785c0efe4464b3275a20c17459d5"
            ],
            "layout": "IPY_MODEL_69122683202e4df2b984c1f9ccad639a"
          }
        },
        "5f322e541a364f8c80eafaff19310dfd": {
          "model_module": "@jupyter-widgets/controls",
          "model_name": "HTMLModel",
          "model_module_version": "1.5.0",
          "state": {
            "_dom_classes": [],
            "_model_module": "@jupyter-widgets/controls",
            "_model_module_version": "1.5.0",
            "_model_name": "HTMLModel",
            "_view_count": null,
            "_view_module": "@jupyter-widgets/controls",
            "_view_module_version": "1.5.0",
            "_view_name": "HTMLView",
            "description": "",
            "description_tooltip": null,
            "layout": "IPY_MODEL_f47dc72753f640d19d93c39f2ef0c41c",
            "placeholder": "​",
            "style": "IPY_MODEL_6c8c7ee06386457e9083159843165575",
            "value": "Loading checkpoint shards: 100%"
          }
        },
        "1ec47e4288a347959c59f7f1df7b6441": {
          "model_module": "@jupyter-widgets/controls",
          "model_name": "FloatProgressModel",
          "model_module_version": "1.5.0",
          "state": {
            "_dom_classes": [],
            "_model_module": "@jupyter-widgets/controls",
            "_model_module_version": "1.5.0",
            "_model_name": "FloatProgressModel",
            "_view_count": null,
            "_view_module": "@jupyter-widgets/controls",
            "_view_module_version": "1.5.0",
            "_view_name": "ProgressView",
            "bar_style": "success",
            "description": "",
            "description_tooltip": null,
            "layout": "IPY_MODEL_ae806f97dbed4860bde7b1ff32d351f5",
            "max": 2,
            "min": 0,
            "orientation": "horizontal",
            "style": "IPY_MODEL_0e7aa7eee43d4f9f808a188d1c69badc",
            "value": 2
          }
        },
        "72b2785c0efe4464b3275a20c17459d5": {
          "model_module": "@jupyter-widgets/controls",
          "model_name": "HTMLModel",
          "model_module_version": "1.5.0",
          "state": {
            "_dom_classes": [],
            "_model_module": "@jupyter-widgets/controls",
            "_model_module_version": "1.5.0",
            "_model_name": "HTMLModel",
            "_view_count": null,
            "_view_module": "@jupyter-widgets/controls",
            "_view_module_version": "1.5.0",
            "_view_name": "HTMLView",
            "description": "",
            "description_tooltip": null,
            "layout": "IPY_MODEL_e710457dec034cc7a58fba039dc0af5c",
            "placeholder": "​",
            "style": "IPY_MODEL_8fcb70e84445419dad8b08ef3ec6cb0a",
            "value": " 2/2 [01:10&lt;00:00, 33.21s/it]"
          }
        },
        "69122683202e4df2b984c1f9ccad639a": {
          "model_module": "@jupyter-widgets/base",
          "model_name": "LayoutModel",
          "model_module_version": "1.2.0",
          "state": {
            "_model_module": "@jupyter-widgets/base",
            "_model_module_version": "1.2.0",
            "_model_name": "LayoutModel",
            "_view_count": null,
            "_view_module": "@jupyter-widgets/base",
            "_view_module_version": "1.2.0",
            "_view_name": "LayoutView",
            "align_content": null,
            "align_items": null,
            "align_self": null,
            "border": null,
            "bottom": null,
            "display": null,
            "flex": null,
            "flex_flow": null,
            "grid_area": null,
            "grid_auto_columns": null,
            "grid_auto_flow": null,
            "grid_auto_rows": null,
            "grid_column": null,
            "grid_gap": null,
            "grid_row": null,
            "grid_template_areas": null,
            "grid_template_columns": null,
            "grid_template_rows": null,
            "height": null,
            "justify_content": null,
            "justify_items": null,
            "left": null,
            "margin": null,
            "max_height": null,
            "max_width": null,
            "min_height": null,
            "min_width": null,
            "object_fit": null,
            "object_position": null,
            "order": null,
            "overflow": null,
            "overflow_x": null,
            "overflow_y": null,
            "padding": null,
            "right": null,
            "top": null,
            "visibility": null,
            "width": null
          }
        },
        "f47dc72753f640d19d93c39f2ef0c41c": {
          "model_module": "@jupyter-widgets/base",
          "model_name": "LayoutModel",
          "model_module_version": "1.2.0",
          "state": {
            "_model_module": "@jupyter-widgets/base",
            "_model_module_version": "1.2.0",
            "_model_name": "LayoutModel",
            "_view_count": null,
            "_view_module": "@jupyter-widgets/base",
            "_view_module_version": "1.2.0",
            "_view_name": "LayoutView",
            "align_content": null,
            "align_items": null,
            "align_self": null,
            "border": null,
            "bottom": null,
            "display": null,
            "flex": null,
            "flex_flow": null,
            "grid_area": null,
            "grid_auto_columns": null,
            "grid_auto_flow": null,
            "grid_auto_rows": null,
            "grid_column": null,
            "grid_gap": null,
            "grid_row": null,
            "grid_template_areas": null,
            "grid_template_columns": null,
            "grid_template_rows": null,
            "height": null,
            "justify_content": null,
            "justify_items": null,
            "left": null,
            "margin": null,
            "max_height": null,
            "max_width": null,
            "min_height": null,
            "min_width": null,
            "object_fit": null,
            "object_position": null,
            "order": null,
            "overflow": null,
            "overflow_x": null,
            "overflow_y": null,
            "padding": null,
            "right": null,
            "top": null,
            "visibility": null,
            "width": null
          }
        },
        "6c8c7ee06386457e9083159843165575": {
          "model_module": "@jupyter-widgets/controls",
          "model_name": "DescriptionStyleModel",
          "model_module_version": "1.5.0",
          "state": {
            "_model_module": "@jupyter-widgets/controls",
            "_model_module_version": "1.5.0",
            "_model_name": "DescriptionStyleModel",
            "_view_count": null,
            "_view_module": "@jupyter-widgets/base",
            "_view_module_version": "1.2.0",
            "_view_name": "StyleView",
            "description_width": ""
          }
        },
        "ae806f97dbed4860bde7b1ff32d351f5": {
          "model_module": "@jupyter-widgets/base",
          "model_name": "LayoutModel",
          "model_module_version": "1.2.0",
          "state": {
            "_model_module": "@jupyter-widgets/base",
            "_model_module_version": "1.2.0",
            "_model_name": "LayoutModel",
            "_view_count": null,
            "_view_module": "@jupyter-widgets/base",
            "_view_module_version": "1.2.0",
            "_view_name": "LayoutView",
            "align_content": null,
            "align_items": null,
            "align_self": null,
            "border": null,
            "bottom": null,
            "display": null,
            "flex": null,
            "flex_flow": null,
            "grid_area": null,
            "grid_auto_columns": null,
            "grid_auto_flow": null,
            "grid_auto_rows": null,
            "grid_column": null,
            "grid_gap": null,
            "grid_row": null,
            "grid_template_areas": null,
            "grid_template_columns": null,
            "grid_template_rows": null,
            "height": null,
            "justify_content": null,
            "justify_items": null,
            "left": null,
            "margin": null,
            "max_height": null,
            "max_width": null,
            "min_height": null,
            "min_width": null,
            "object_fit": null,
            "object_position": null,
            "order": null,
            "overflow": null,
            "overflow_x": null,
            "overflow_y": null,
            "padding": null,
            "right": null,
            "top": null,
            "visibility": null,
            "width": null
          }
        },
        "0e7aa7eee43d4f9f808a188d1c69badc": {
          "model_module": "@jupyter-widgets/controls",
          "model_name": "ProgressStyleModel",
          "model_module_version": "1.5.0",
          "state": {
            "_model_module": "@jupyter-widgets/controls",
            "_model_module_version": "1.5.0",
            "_model_name": "ProgressStyleModel",
            "_view_count": null,
            "_view_module": "@jupyter-widgets/base",
            "_view_module_version": "1.2.0",
            "_view_name": "StyleView",
            "bar_color": null,
            "description_width": ""
          }
        },
        "e710457dec034cc7a58fba039dc0af5c": {
          "model_module": "@jupyter-widgets/base",
          "model_name": "LayoutModel",
          "model_module_version": "1.2.0",
          "state": {
            "_model_module": "@jupyter-widgets/base",
            "_model_module_version": "1.2.0",
            "_model_name": "LayoutModel",
            "_view_count": null,
            "_view_module": "@jupyter-widgets/base",
            "_view_module_version": "1.2.0",
            "_view_name": "LayoutView",
            "align_content": null,
            "align_items": null,
            "align_self": null,
            "border": null,
            "bottom": null,
            "display": null,
            "flex": null,
            "flex_flow": null,
            "grid_area": null,
            "grid_auto_columns": null,
            "grid_auto_flow": null,
            "grid_auto_rows": null,
            "grid_column": null,
            "grid_gap": null,
            "grid_row": null,
            "grid_template_areas": null,
            "grid_template_columns": null,
            "grid_template_rows": null,
            "height": null,
            "justify_content": null,
            "justify_items": null,
            "left": null,
            "margin": null,
            "max_height": null,
            "max_width": null,
            "min_height": null,
            "min_width": null,
            "object_fit": null,
            "object_position": null,
            "order": null,
            "overflow": null,
            "overflow_x": null,
            "overflow_y": null,
            "padding": null,
            "right": null,
            "top": null,
            "visibility": null,
            "width": null
          }
        },
        "8fcb70e84445419dad8b08ef3ec6cb0a": {
          "model_module": "@jupyter-widgets/controls",
          "model_name": "DescriptionStyleModel",
          "model_module_version": "1.5.0",
          "state": {
            "_model_module": "@jupyter-widgets/controls",
            "_model_module_version": "1.5.0",
            "_model_name": "DescriptionStyleModel",
            "_view_count": null,
            "_view_module": "@jupyter-widgets/base",
            "_view_module_version": "1.2.0",
            "_view_name": "StyleView",
            "description_width": ""
          }
        }
      }
    }
  },
  "cells": [
    {
      "cell_type": "markdown",
      "source": [
        "# Prepare Dataset"
      ],
      "metadata": {
        "id": "EzrMDkvYIXwG"
      }
    },
    {
      "cell_type": "code",
      "source": [
        "import locale\n",
        "def getpreferredencoding(do_setlocale = True):\n",
        "    return \"UTF-8\"\n",
        "locale.getpreferredencoding = getpreferredencoding"
      ],
      "metadata": {
        "id": "odoibVE2FYAB"
      },
      "execution_count": null,
      "outputs": []
    },
    {
      "cell_type": "code",
      "source": [
        "!git clone https://github.com/WongKinYiu/yolov7.git\n"
      ],
      "metadata": {
        "colab": {
          "base_uri": "https://localhost:8080/"
        },
        "id": "p0ZY-XwU4rqh",
        "outputId": "80eca604-d935-40f7-cf6a-168d23babd80"
      },
      "execution_count": null,
      "outputs": [
        {
          "output_type": "stream",
          "name": "stdout",
          "text": [
            "Cloning into 'yolov7'...\n",
            "remote: Enumerating objects: 1197, done.\u001b[K\n",
            "remote: Total 1197 (delta 0), reused 0 (delta 0), pack-reused 1197 (from 1)\u001b[K\n",
            "Receiving objects: 100% (1197/1197), 74.23 MiB | 12.62 MiB/s, done.\n",
            "Resolving deltas: 100% (519/519), done.\n"
          ]
        }
      ]
    },
    {
      "cell_type": "code",
      "source": [
        "!pip install roboflow"
      ],
      "metadata": {
        "colab": {
          "base_uri": "https://localhost:8080/"
        },
        "id": "6x0bBWqY4usy",
        "outputId": "1f9dd49a-28bb-4bd7-fe10-c01f508bb385"
      },
      "execution_count": null,
      "outputs": [
        {
          "output_type": "stream",
          "name": "stdout",
          "text": [
            "Collecting roboflow\n",
            "  Downloading roboflow-1.1.45-py3-none-any.whl.metadata (9.7 kB)\n",
            "Requirement already satisfied: certifi in /usr/local/lib/python3.10/dist-packages (from roboflow) (2024.8.30)\n",
            "Collecting idna==3.7 (from roboflow)\n",
            "  Downloading idna-3.7-py3-none-any.whl.metadata (9.9 kB)\n",
            "Requirement already satisfied: cycler in /usr/local/lib/python3.10/dist-packages (from roboflow) (0.12.1)\n",
            "Requirement already satisfied: kiwisolver>=1.3.1 in /usr/local/lib/python3.10/dist-packages (from roboflow) (1.4.7)\n",
            "Requirement already satisfied: matplotlib in /usr/local/lib/python3.10/dist-packages (from roboflow) (3.7.1)\n",
            "Requirement already satisfied: numpy>=1.18.5 in /usr/local/lib/python3.10/dist-packages (from roboflow) (1.26.4)\n",
            "Requirement already satisfied: opencv-python-headless==4.10.0.84 in /usr/local/lib/python3.10/dist-packages (from roboflow) (4.10.0.84)\n",
            "Requirement already satisfied: Pillow>=7.1.2 in /usr/local/lib/python3.10/dist-packages (from roboflow) (10.4.0)\n",
            "Requirement already satisfied: python-dateutil in /usr/local/lib/python3.10/dist-packages (from roboflow) (2.8.2)\n",
            "Collecting python-dotenv (from roboflow)\n",
            "  Downloading python_dotenv-1.0.1-py3-none-any.whl.metadata (23 kB)\n",
            "Requirement already satisfied: requests in /usr/local/lib/python3.10/dist-packages (from roboflow) (2.32.3)\n",
            "Requirement already satisfied: six in /usr/local/lib/python3.10/dist-packages (from roboflow) (1.16.0)\n",
            "Requirement already satisfied: urllib3>=1.26.6 in /usr/local/lib/python3.10/dist-packages (from roboflow) (2.0.7)\n",
            "Requirement already satisfied: tqdm>=4.41.0 in /usr/local/lib/python3.10/dist-packages (from roboflow) (4.66.5)\n",
            "Requirement already satisfied: PyYAML>=5.3.1 in /usr/local/lib/python3.10/dist-packages (from roboflow) (6.0.2)\n",
            "Collecting requests-toolbelt (from roboflow)\n",
            "  Downloading requests_toolbelt-1.0.0-py2.py3-none-any.whl.metadata (14 kB)\n",
            "Collecting filetype (from roboflow)\n",
            "  Downloading filetype-1.2.0-py2.py3-none-any.whl.metadata (6.5 kB)\n",
            "Requirement already satisfied: contourpy>=1.0.1 in /usr/local/lib/python3.10/dist-packages (from matplotlib->roboflow) (1.3.0)\n",
            "Requirement already satisfied: fonttools>=4.22.0 in /usr/local/lib/python3.10/dist-packages (from matplotlib->roboflow) (4.53.1)\n",
            "Requirement already satisfied: packaging>=20.0 in /usr/local/lib/python3.10/dist-packages (from matplotlib->roboflow) (24.1)\n",
            "Requirement already satisfied: pyparsing>=2.3.1 in /usr/local/lib/python3.10/dist-packages (from matplotlib->roboflow) (3.1.4)\n",
            "Requirement already satisfied: charset-normalizer<4,>=2 in /usr/local/lib/python3.10/dist-packages (from requests->roboflow) (3.3.2)\n",
            "Downloading roboflow-1.1.45-py3-none-any.whl (80 kB)\n",
            "\u001b[2K   \u001b[90m━━━━━━━━━━━━━━━━━━━━━━━━━━━━━━━━━━━━━━━━\u001b[0m \u001b[32m80.3/80.3 kB\u001b[0m \u001b[31m4.6 MB/s\u001b[0m eta \u001b[36m0:00:00\u001b[0m\n",
            "\u001b[?25hDownloading idna-3.7-py3-none-any.whl (66 kB)\n",
            "\u001b[2K   \u001b[90m━━━━━━━━━━━━━━━━━━━━━━━━━━━━━━━━━━━━━━━━\u001b[0m \u001b[32m66.8/66.8 kB\u001b[0m \u001b[31m5.7 MB/s\u001b[0m eta \u001b[36m0:00:00\u001b[0m\n",
            "\u001b[?25hDownloading filetype-1.2.0-py2.py3-none-any.whl (19 kB)\n",
            "Downloading python_dotenv-1.0.1-py3-none-any.whl (19 kB)\n",
            "Downloading requests_toolbelt-1.0.0-py2.py3-none-any.whl (54 kB)\n",
            "\u001b[2K   \u001b[90m━━━━━━━━━━━━━━━━━━━━━━━━━━━━━━━━━━━━━━━━\u001b[0m \u001b[32m54.5/54.5 kB\u001b[0m \u001b[31m1.8 MB/s\u001b[0m eta \u001b[36m0:00:00\u001b[0m\n",
            "\u001b[?25hInstalling collected packages: filetype, python-dotenv, idna, requests-toolbelt, roboflow\n",
            "  Attempting uninstall: idna\n",
            "    Found existing installation: idna 3.10\n",
            "    Uninstalling idna-3.10:\n",
            "      Successfully uninstalled idna-3.10\n",
            "Successfully installed filetype-1.2.0 idna-3.7 python-dotenv-1.0.1 requests-toolbelt-1.0.0 roboflow-1.1.45\n"
          ]
        }
      ]
    },
    {
      "cell_type": "code",
      "source": [
        "!pip install ultralytics"
      ],
      "metadata": {
        "id": "5WAcwPWI40dI",
        "colab": {
          "base_uri": "https://localhost:8080/"
        },
        "outputId": "5fdb0735-d57e-4367-eabb-d2331f102496"
      },
      "execution_count": null,
      "outputs": [
        {
          "output_type": "stream",
          "name": "stdout",
          "text": [
            "Collecting ultralytics\n",
            "  Downloading ultralytics-8.2.96-py3-none-any.whl.metadata (39 kB)\n",
            "Requirement already satisfied: numpy<2.0.0,>=1.23.0 in /usr/local/lib/python3.10/dist-packages (from ultralytics) (1.26.4)\n",
            "Requirement already satisfied: matplotlib>=3.3.0 in /usr/local/lib/python3.10/dist-packages (from ultralytics) (3.7.1)\n",
            "Requirement already satisfied: opencv-python>=4.6.0 in /usr/local/lib/python3.10/dist-packages (from ultralytics) (4.10.0.84)\n",
            "Requirement already satisfied: pillow>=7.1.2 in /usr/local/lib/python3.10/dist-packages (from ultralytics) (10.4.0)\n",
            "Requirement already satisfied: pyyaml>=5.3.1 in /usr/local/lib/python3.10/dist-packages (from ultralytics) (6.0.2)\n",
            "Requirement already satisfied: requests>=2.23.0 in /usr/local/lib/python3.10/dist-packages (from ultralytics) (2.32.3)\n",
            "Requirement already satisfied: scipy>=1.4.1 in /usr/local/lib/python3.10/dist-packages (from ultralytics) (1.13.1)\n",
            "Requirement already satisfied: torch>=1.8.0 in /usr/local/lib/python3.10/dist-packages (from ultralytics) (2.4.0+cu121)\n",
            "Requirement already satisfied: torchvision>=0.9.0 in /usr/local/lib/python3.10/dist-packages (from ultralytics) (0.19.0+cu121)\n",
            "Requirement already satisfied: tqdm>=4.64.0 in /usr/local/lib/python3.10/dist-packages (from ultralytics) (4.66.5)\n",
            "Requirement already satisfied: psutil in /usr/local/lib/python3.10/dist-packages (from ultralytics) (5.9.5)\n",
            "Requirement already satisfied: py-cpuinfo in /usr/local/lib/python3.10/dist-packages (from ultralytics) (9.0.0)\n",
            "Requirement already satisfied: pandas>=1.1.4 in /usr/local/lib/python3.10/dist-packages (from ultralytics) (2.1.4)\n",
            "Requirement already satisfied: seaborn>=0.11.0 in /usr/local/lib/python3.10/dist-packages (from ultralytics) (0.13.1)\n",
            "Collecting ultralytics-thop>=2.0.0 (from ultralytics)\n",
            "  Downloading ultralytics_thop-2.0.6-py3-none-any.whl.metadata (9.1 kB)\n",
            "Requirement already satisfied: contourpy>=1.0.1 in /usr/local/lib/python3.10/dist-packages (from matplotlib>=3.3.0->ultralytics) (1.3.0)\n",
            "Requirement already satisfied: cycler>=0.10 in /usr/local/lib/python3.10/dist-packages (from matplotlib>=3.3.0->ultralytics) (0.12.1)\n",
            "Requirement already satisfied: fonttools>=4.22.0 in /usr/local/lib/python3.10/dist-packages (from matplotlib>=3.3.0->ultralytics) (4.53.1)\n",
            "Requirement already satisfied: kiwisolver>=1.0.1 in /usr/local/lib/python3.10/dist-packages (from matplotlib>=3.3.0->ultralytics) (1.4.7)\n",
            "Requirement already satisfied: packaging>=20.0 in /usr/local/lib/python3.10/dist-packages (from matplotlib>=3.3.0->ultralytics) (24.1)\n",
            "Requirement already satisfied: pyparsing>=2.3.1 in /usr/local/lib/python3.10/dist-packages (from matplotlib>=3.3.0->ultralytics) (3.1.4)\n",
            "Requirement already satisfied: python-dateutil>=2.7 in /usr/local/lib/python3.10/dist-packages (from matplotlib>=3.3.0->ultralytics) (2.8.2)\n",
            "Requirement already satisfied: pytz>=2020.1 in /usr/local/lib/python3.10/dist-packages (from pandas>=1.1.4->ultralytics) (2024.2)\n",
            "Requirement already satisfied: tzdata>=2022.1 in /usr/local/lib/python3.10/dist-packages (from pandas>=1.1.4->ultralytics) (2024.1)\n",
            "Requirement already satisfied: charset-normalizer<4,>=2 in /usr/local/lib/python3.10/dist-packages (from requests>=2.23.0->ultralytics) (3.3.2)\n",
            "Requirement already satisfied: idna<4,>=2.5 in /usr/local/lib/python3.10/dist-packages (from requests>=2.23.0->ultralytics) (3.7)\n",
            "Requirement already satisfied: urllib3<3,>=1.21.1 in /usr/local/lib/python3.10/dist-packages (from requests>=2.23.0->ultralytics) (2.0.7)\n",
            "Requirement already satisfied: certifi>=2017.4.17 in /usr/local/lib/python3.10/dist-packages (from requests>=2.23.0->ultralytics) (2024.8.30)\n",
            "Requirement already satisfied: filelock in /usr/local/lib/python3.10/dist-packages (from torch>=1.8.0->ultralytics) (3.16.0)\n",
            "Requirement already satisfied: typing-extensions>=4.8.0 in /usr/local/lib/python3.10/dist-packages (from torch>=1.8.0->ultralytics) (4.12.2)\n",
            "Requirement already satisfied: sympy in /usr/local/lib/python3.10/dist-packages (from torch>=1.8.0->ultralytics) (1.13.2)\n",
            "Requirement already satisfied: networkx in /usr/local/lib/python3.10/dist-packages (from torch>=1.8.0->ultralytics) (3.3)\n",
            "Requirement already satisfied: jinja2 in /usr/local/lib/python3.10/dist-packages (from torch>=1.8.0->ultralytics) (3.1.4)\n",
            "Requirement already satisfied: fsspec in /usr/local/lib/python3.10/dist-packages (from torch>=1.8.0->ultralytics) (2024.6.1)\n",
            "Requirement already satisfied: six>=1.5 in /usr/local/lib/python3.10/dist-packages (from python-dateutil>=2.7->matplotlib>=3.3.0->ultralytics) (1.16.0)\n",
            "Requirement already satisfied: MarkupSafe>=2.0 in /usr/local/lib/python3.10/dist-packages (from jinja2->torch>=1.8.0->ultralytics) (2.1.5)\n",
            "Requirement already satisfied: mpmath<1.4,>=1.1.0 in /usr/local/lib/python3.10/dist-packages (from sympy->torch>=1.8.0->ultralytics) (1.3.0)\n",
            "Downloading ultralytics-8.2.96-py3-none-any.whl (873 kB)\n",
            "\u001b[2K   \u001b[90m━━━━━━━━━━━━━━━━━━━━━━━━━━━━━━━━━━━━━━━━\u001b[0m \u001b[32m873.3/873.3 kB\u001b[0m \u001b[31m50.4 MB/s\u001b[0m eta \u001b[36m0:00:00\u001b[0m\n",
            "\u001b[?25hDownloading ultralytics_thop-2.0.6-py3-none-any.whl (26 kB)\n",
            "Installing collected packages: ultralytics-thop, ultralytics\n",
            "Successfully installed ultralytics-8.2.96 ultralytics-thop-2.0.6\n"
          ]
        }
      ]
    },
    {
      "cell_type": "code",
      "source": [
        "from google.colab import drive\n",
        "drive.mount('/content/drive/')"
      ],
      "metadata": {
        "colab": {
          "base_uri": "https://localhost:8080/"
        },
        "id": "uo-PpGzkh1Ss",
        "outputId": "bb2ca320-544e-44f9-8cd9-2afef0925bd8"
      },
      "execution_count": null,
      "outputs": [
        {
          "output_type": "stream",
          "name": "stdout",
          "text": [
            "Mounted at /content/drive/\n"
          ]
        }
      ]
    },
    {
      "cell_type": "code",
      "source": [
        "%cd /content/drive/MyDrive/NTI_GP"
      ],
      "metadata": {
        "colab": {
          "base_uri": "https://localhost:8080/"
        },
        "id": "XZvEKjB9nUKt",
        "outputId": "829dd613-8017-4db2-da7c-da6365266d7a"
      },
      "execution_count": null,
      "outputs": [
        {
          "output_type": "stream",
          "name": "stdout",
          "text": [
            "/content/drive/MyDrive/NTI_GP\n"
          ]
        }
      ]
    },
    {
      "cell_type": "code",
      "source": [
        "\n",
        "from roboflow import Roboflow\n",
        "rf = Roboflow(api_key=\"dZtrnF63aDa6P0VhuGkj\")\n",
        "project = rf.workspace(\"fyp-pz5zs\").project(\"violence-nonviolence-behavior\")\n",
        "version = project.version(34)\n",
        "dataset = version.download(\"yolov8\")\n"
      ],
      "metadata": {
        "colab": {
          "base_uri": "https://localhost:8080/"
        },
        "id": "-N5eFC3Xm1T3",
        "outputId": "77299e9f-e5f2-4a5c-a8e4-15953980e552"
      },
      "execution_count": null,
      "outputs": [
        {
          "output_type": "stream",
          "name": "stdout",
          "text": [
            "loading Roboflow workspace...\n",
            "loading Roboflow project...\n",
            "Dependency ultralytics==8.0.196 is required but found version=8.2.96, to fix: `pip install ultralytics==8.0.196`\n"
          ]
        },
        {
          "output_type": "stream",
          "name": "stderr",
          "text": [
            "Downloading Dataset Version Zip in Violence-NonViolence-Behavior-34 to yolov8:: 100%|██████████| 244021/244021 [00:26<00:00, 9135.07it/s] "
          ]
        },
        {
          "output_type": "stream",
          "name": "stdout",
          "text": [
            "\n"
          ]
        },
        {
          "output_type": "stream",
          "name": "stderr",
          "text": [
            "\n",
            "Extracting Dataset Version Zip to Violence-NonViolence-Behavior-34 in yolov8:: 100%|██████████| 12542/12542 [01:41<00:00, 123.40it/s]\n"
          ]
        }
      ]
    },
    {
      "cell_type": "markdown",
      "source": [
        "# Train Yolov8"
      ],
      "metadata": {
        "id": "nEFpwwKEIhNv"
      }
    },
    {
      "cell_type": "code",
      "source": [
        "from ultralytics import YOLO\n",
        "model = YOLO('yolov8n.pt')  # load a pretrained YOLOv8n detection model\n",
        "model.train(data='/content/drive/MyDrive/NTI_GP/Violence-NonViolence-Behavior-34/data.yaml', epochs=30)  # train the model"
      ],
      "metadata": {
        "colab": {
          "base_uri": "https://localhost:8080/"
        },
        "id": "XD3L1AaGnYoe",
        "outputId": "73b9b98f-0efe-4f7f-a9ae-c0f77c3d1335"
      },
      "execution_count": null,
      "outputs": [
        {
          "output_type": "stream",
          "name": "stdout",
          "text": [
            "Downloading https://github.com/ultralytics/assets/releases/download/v8.2.0/yolov8n.pt to 'yolov8n.pt'...\n"
          ]
        },
        {
          "output_type": "stream",
          "name": "stderr",
          "text": [
            "100%|██████████| 6.25M/6.25M [00:00<00:00, 175MB/s]\n"
          ]
        },
        {
          "output_type": "stream",
          "name": "stdout",
          "text": [
            "Ultralytics YOLOv8.2.96 🚀 Python-3.10.12 torch-2.4.0+cu121 CUDA:0 (Tesla T4, 15102MiB)\n",
            "\u001b[34m\u001b[1mengine/trainer: \u001b[0mtask=detect, mode=train, model=yolov8n.pt, data=/content/drive/MyDrive/NTI_GP/Violence-NonViolence-Behavior-34/data.yaml, epochs=30, time=None, patience=100, batch=16, imgsz=640, save=True, save_period=-1, cache=False, device=None, workers=8, project=None, name=train, exist_ok=False, pretrained=True, optimizer=auto, verbose=True, seed=0, deterministic=True, single_cls=False, rect=False, cos_lr=False, close_mosaic=10, resume=False, amp=True, fraction=1.0, profile=False, freeze=None, multi_scale=False, overlap_mask=True, mask_ratio=4, dropout=0.0, val=True, split=val, save_json=False, save_hybrid=False, conf=None, iou=0.7, max_det=300, half=False, dnn=False, plots=True, source=None, vid_stride=1, stream_buffer=False, visualize=False, augment=False, agnostic_nms=False, classes=None, retina_masks=False, embed=None, show=False, save_frames=False, save_txt=False, save_conf=False, save_crop=False, show_labels=True, show_conf=True, show_boxes=True, line_width=None, format=torchscript, keras=False, optimize=False, int8=False, dynamic=False, simplify=False, opset=None, workspace=4, nms=False, lr0=0.01, lrf=0.01, momentum=0.937, weight_decay=0.0005, warmup_epochs=3.0, warmup_momentum=0.8, warmup_bias_lr=0.1, box=7.5, cls=0.5, dfl=1.5, pose=12.0, kobj=1.0, label_smoothing=0.0, nbs=64, hsv_h=0.015, hsv_s=0.7, hsv_v=0.4, degrees=0.0, translate=0.1, scale=0.5, shear=0.0, perspective=0.0, flipud=0.0, fliplr=0.5, bgr=0.0, mosaic=1.0, mixup=0.0, copy_paste=0.0, auto_augment=randaugment, erasing=0.4, crop_fraction=1.0, cfg=None, tracker=botsort.yaml, save_dir=runs/detect/train\n",
            "Downloading https://ultralytics.com/assets/Arial.ttf to '/root/.config/Ultralytics/Arial.ttf'...\n"
          ]
        },
        {
          "output_type": "stream",
          "name": "stderr",
          "text": [
            "100%|██████████| 755k/755k [00:00<00:00, 66.8MB/s]\n"
          ]
        },
        {
          "output_type": "stream",
          "name": "stdout",
          "text": [
            "Overriding model.yaml nc=80 with nc=2\n",
            "\n",
            "                   from  n    params  module                                       arguments                     \n",
            "  0                  -1  1       464  ultralytics.nn.modules.conv.Conv             [3, 16, 3, 2]                 \n",
            "  1                  -1  1      4672  ultralytics.nn.modules.conv.Conv             [16, 32, 3, 2]                \n",
            "  2                  -1  1      7360  ultralytics.nn.modules.block.C2f             [32, 32, 1, True]             \n",
            "  3                  -1  1     18560  ultralytics.nn.modules.conv.Conv             [32, 64, 3, 2]                \n",
            "  4                  -1  2     49664  ultralytics.nn.modules.block.C2f             [64, 64, 2, True]             \n",
            "  5                  -1  1     73984  ultralytics.nn.modules.conv.Conv             [64, 128, 3, 2]               \n",
            "  6                  -1  2    197632  ultralytics.nn.modules.block.C2f             [128, 128, 2, True]           \n",
            "  7                  -1  1    295424  ultralytics.nn.modules.conv.Conv             [128, 256, 3, 2]              \n",
            "  8                  -1  1    460288  ultralytics.nn.modules.block.C2f             [256, 256, 1, True]           \n",
            "  9                  -1  1    164608  ultralytics.nn.modules.block.SPPF            [256, 256, 5]                 \n",
            " 10                  -1  1         0  torch.nn.modules.upsampling.Upsample         [None, 2, 'nearest']          \n",
            " 11             [-1, 6]  1         0  ultralytics.nn.modules.conv.Concat           [1]                           \n",
            " 12                  -1  1    148224  ultralytics.nn.modules.block.C2f             [384, 128, 1]                 \n",
            " 13                  -1  1         0  torch.nn.modules.upsampling.Upsample         [None, 2, 'nearest']          \n",
            " 14             [-1, 4]  1         0  ultralytics.nn.modules.conv.Concat           [1]                           \n",
            " 15                  -1  1     37248  ultralytics.nn.modules.block.C2f             [192, 64, 1]                  \n",
            " 16                  -1  1     36992  ultralytics.nn.modules.conv.Conv             [64, 64, 3, 2]                \n",
            " 17            [-1, 12]  1         0  ultralytics.nn.modules.conv.Concat           [1]                           \n",
            " 18                  -1  1    123648  ultralytics.nn.modules.block.C2f             [192, 128, 1]                 \n",
            " 19                  -1  1    147712  ultralytics.nn.modules.conv.Conv             [128, 128, 3, 2]              \n",
            " 20             [-1, 9]  1         0  ultralytics.nn.modules.conv.Concat           [1]                           \n",
            " 21                  -1  1    493056  ultralytics.nn.modules.block.C2f             [384, 256, 1]                 \n",
            " 22        [15, 18, 21]  1    751702  ultralytics.nn.modules.head.Detect           [2, [64, 128, 256]]           \n",
            "Model summary: 225 layers, 3,011,238 parameters, 3,011,222 gradients, 8.2 GFLOPs\n",
            "\n",
            "Transferred 319/355 items from pretrained weights\n",
            "\u001b[34m\u001b[1mTensorBoard: \u001b[0mStart with 'tensorboard --logdir runs/detect/train', view at http://localhost:6006/\n",
            "Freezing layer 'model.22.dfl.conv.weight'\n",
            "\u001b[34m\u001b[1mAMP: \u001b[0mrunning Automatic Mixed Precision (AMP) checks with YOLOv8n...\n",
            "\u001b[34m\u001b[1mAMP: \u001b[0mchecks passed ✅\n"
          ]
        },
        {
          "output_type": "stream",
          "name": "stderr",
          "text": [
            "\u001b[34m\u001b[1mtrain: \u001b[0mScanning /content/drive/MyDrive/NTI_GP/Violence-NonViolence-Behavior-34/train/labels... 5070 images, 78 backgrounds, 0 corrupt: 100%|██████████| 5070/5070 [01:41<00:00, 50.16it/s] \n"
          ]
        },
        {
          "output_type": "stream",
          "name": "stdout",
          "text": [
            "\u001b[34m\u001b[1mtrain: \u001b[0mNew cache created: /content/drive/MyDrive/NTI_GP/Violence-NonViolence-Behavior-34/train/labels.cache\n",
            "\u001b[34m\u001b[1malbumentations: \u001b[0mBlur(p=0.01, blur_limit=(3, 7)), MedianBlur(p=0.01, blur_limit=(3, 7)), ToGray(p=0.01, num_output_channels=3, method='weighted_average'), CLAHE(p=0.01, clip_limit=(1, 4.0), tile_grid_size=(8, 8))\n"
          ]
        },
        {
          "output_type": "stream",
          "name": "stderr",
          "text": [
            "os.fork() was called. os.fork() is incompatible with multithreaded code, and JAX is multithreaded, so this will likely lead to a deadlock.\n",
            "\u001b[34m\u001b[1mval: \u001b[0mScanning /content/drive/MyDrive/NTI_GP/Violence-NonViolence-Behavior-34/valid/labels... 599 images, 0 backgrounds, 0 corrupt: 100%|██████████| 599/599 [00:09<00:00, 64.28it/s] \n"
          ]
        },
        {
          "output_type": "stream",
          "name": "stdout",
          "text": [
            "\u001b[34m\u001b[1mval: \u001b[0mNew cache created: /content/drive/MyDrive/NTI_GP/Violence-NonViolence-Behavior-34/valid/labels.cache\n",
            "Plotting labels to runs/detect/train/labels.jpg... \n",
            "\u001b[34m\u001b[1moptimizer:\u001b[0m 'optimizer=auto' found, ignoring 'lr0=0.01' and 'momentum=0.937' and determining best 'optimizer', 'lr0' and 'momentum' automatically... \n",
            "\u001b[34m\u001b[1moptimizer:\u001b[0m AdamW(lr=0.001667, momentum=0.9) with parameter groups 57 weight(decay=0.0), 64 weight(decay=0.0005), 63 bias(decay=0.0)\n",
            "\u001b[34m\u001b[1mTensorBoard: \u001b[0mmodel graph visualization added ✅\n",
            "Image sizes 640 train, 640 val\n",
            "Using 2 dataloader workers\n",
            "Logging results to \u001b[1mruns/detect/train\u001b[0m\n",
            "Starting training for 30 epochs...\n",
            "\n",
            "      Epoch    GPU_mem   box_loss   cls_loss   dfl_loss  Instances       Size\n"
          ]
        },
        {
          "output_type": "stream",
          "name": "stderr",
          "text": [
            "       1/30      2.29G      1.271       2.28      1.451         28        640: 100%|██████████| 317/317 [02:14<00:00,  2.35it/s]\n",
            "                 Class     Images  Instances      Box(P          R      mAP50  mAP50-95): 100%|██████████| 19/19 [00:12<00:00,  1.57it/s]\n"
          ]
        },
        {
          "output_type": "stream",
          "name": "stdout",
          "text": [
            "                   all        599        942      0.478      0.433      0.425      0.221\n",
            "\n",
            "      Epoch    GPU_mem   box_loss   cls_loss   dfl_loss  Instances       Size\n"
          ]
        },
        {
          "output_type": "stream",
          "name": "stderr",
          "text": [
            "       2/30      2.19G      1.457      2.059      1.586         40        640: 100%|██████████| 317/317 [02:17<00:00,  2.31it/s]\n",
            "                 Class     Images  Instances      Box(P          R      mAP50  mAP50-95): 100%|██████████| 19/19 [00:12<00:00,  1.52it/s]\n"
          ]
        },
        {
          "output_type": "stream",
          "name": "stdout",
          "text": [
            "                   all        599        942       0.48      0.501      0.485      0.254\n",
            "\n",
            "      Epoch    GPU_mem   box_loss   cls_loss   dfl_loss  Instances       Size\n"
          ]
        },
        {
          "output_type": "stream",
          "name": "stderr",
          "text": [
            "       3/30      2.16G      1.499      1.983      1.621         44        640: 100%|██████████| 317/317 [02:23<00:00,  2.21it/s]\n",
            "                 Class     Images  Instances      Box(P          R      mAP50  mAP50-95): 100%|██████████| 19/19 [00:06<00:00,  2.73it/s]"
          ]
        },
        {
          "output_type": "stream",
          "name": "stdout",
          "text": [
            "                   all        599        942      0.547      0.481        0.5      0.258\n"
          ]
        },
        {
          "output_type": "stream",
          "name": "stderr",
          "text": [
            "\n"
          ]
        },
        {
          "output_type": "stream",
          "name": "stdout",
          "text": [
            "\n",
            "      Epoch    GPU_mem   box_loss   cls_loss   dfl_loss  Instances       Size\n"
          ]
        },
        {
          "output_type": "stream",
          "name": "stderr",
          "text": [
            "       4/30      2.16G      1.481      1.903      1.603         36        640: 100%|██████████| 317/317 [02:13<00:00,  2.37it/s]\n",
            "                 Class     Images  Instances      Box(P          R      mAP50  mAP50-95): 100%|██████████| 19/19 [00:12<00:00,  1.57it/s]"
          ]
        },
        {
          "output_type": "stream",
          "name": "stdout",
          "text": [
            "                   all        599        942      0.601      0.565      0.589      0.327\n"
          ]
        },
        {
          "output_type": "stream",
          "name": "stderr",
          "text": [
            "\n"
          ]
        },
        {
          "output_type": "stream",
          "name": "stdout",
          "text": [
            "\n",
            "      Epoch    GPU_mem   box_loss   cls_loss   dfl_loss  Instances       Size\n"
          ]
        },
        {
          "output_type": "stream",
          "name": "stderr",
          "text": [
            "       5/30      2.18G      1.427      1.843      1.564         45        640: 100%|██████████| 317/317 [02:47<00:00,  1.90it/s]\n",
            "                 Class     Images  Instances      Box(P          R      mAP50  mAP50-95): 100%|██████████| 19/19 [00:07<00:00,  2.70it/s]"
          ]
        },
        {
          "output_type": "stream",
          "name": "stdout",
          "text": [
            "                   all        599        942      0.609      0.583      0.601      0.345\n"
          ]
        },
        {
          "output_type": "stream",
          "name": "stderr",
          "text": [
            "\n"
          ]
        },
        {
          "output_type": "stream",
          "name": "stdout",
          "text": [
            "\n",
            "      Epoch    GPU_mem   box_loss   cls_loss   dfl_loss  Instances       Size\n"
          ]
        },
        {
          "output_type": "stream",
          "name": "stderr",
          "text": [
            "       6/30      2.18G      1.388      1.764      1.535         26        640: 100%|██████████| 317/317 [02:07<00:00,  2.48it/s]\n",
            "                 Class     Images  Instances      Box(P          R      mAP50  mAP50-95): 100%|██████████| 19/19 [00:10<00:00,  1.86it/s]"
          ]
        },
        {
          "output_type": "stream",
          "name": "stdout",
          "text": [
            "                   all        599        942      0.614       0.54      0.594      0.361\n"
          ]
        },
        {
          "output_type": "stream",
          "name": "stderr",
          "text": [
            "\n"
          ]
        },
        {
          "output_type": "stream",
          "name": "stdout",
          "text": [
            "\n",
            "      Epoch    GPU_mem   box_loss   cls_loss   dfl_loss  Instances       Size\n"
          ]
        },
        {
          "output_type": "stream",
          "name": "stderr",
          "text": [
            "       7/30      2.24G       1.35      1.717      1.513         45        640: 100%|██████████| 317/317 [02:08<00:00,  2.47it/s]\n",
            "                 Class     Images  Instances      Box(P          R      mAP50  mAP50-95): 100%|██████████| 19/19 [00:06<00:00,  2.89it/s]"
          ]
        },
        {
          "output_type": "stream",
          "name": "stdout",
          "text": [
            "                   all        599        942      0.575      0.643      0.655      0.418\n"
          ]
        },
        {
          "output_type": "stream",
          "name": "stderr",
          "text": [
            "\n"
          ]
        },
        {
          "output_type": "stream",
          "name": "stdout",
          "text": [
            "\n",
            "      Epoch    GPU_mem   box_loss   cls_loss   dfl_loss  Instances       Size\n"
          ]
        },
        {
          "output_type": "stream",
          "name": "stderr",
          "text": [
            "       8/30      2.16G      1.313      1.645       1.49         44        640: 100%|██████████| 317/317 [02:05<00:00,  2.54it/s]\n",
            "                 Class     Images  Instances      Box(P          R      mAP50  mAP50-95): 100%|██████████| 19/19 [00:07<00:00,  2.43it/s]"
          ]
        },
        {
          "output_type": "stream",
          "name": "stdout",
          "text": [
            "                   all        599        942      0.628      0.622      0.622      0.384\n"
          ]
        },
        {
          "output_type": "stream",
          "name": "stderr",
          "text": [
            "\n"
          ]
        },
        {
          "output_type": "stream",
          "name": "stdout",
          "text": [
            "\n",
            "      Epoch    GPU_mem   box_loss   cls_loss   dfl_loss  Instances       Size\n"
          ]
        },
        {
          "output_type": "stream",
          "name": "stderr",
          "text": [
            "       9/30      2.16G      1.306      1.625      1.482         34        640: 100%|██████████| 317/317 [02:02<00:00,  2.59it/s]\n",
            "                 Class     Images  Instances      Box(P          R      mAP50  mAP50-95): 100%|██████████| 19/19 [00:10<00:00,  1.87it/s]\n"
          ]
        },
        {
          "output_type": "stream",
          "name": "stdout",
          "text": [
            "                   all        599        942       0.62      0.605      0.633      0.401\n",
            "\n",
            "      Epoch    GPU_mem   box_loss   cls_loss   dfl_loss  Instances       Size\n"
          ]
        },
        {
          "output_type": "stream",
          "name": "stderr",
          "text": [
            "      10/30      2.16G      1.256      1.566      1.444         54        640: 100%|██████████| 317/317 [02:01<00:00,  2.62it/s]\n",
            "                 Class     Images  Instances      Box(P          R      mAP50  mAP50-95): 100%|██████████| 19/19 [00:08<00:00,  2.17it/s]"
          ]
        },
        {
          "output_type": "stream",
          "name": "stdout",
          "text": [
            "                   all        599        942      0.644       0.63      0.677      0.441\n"
          ]
        },
        {
          "output_type": "stream",
          "name": "stderr",
          "text": [
            "\n"
          ]
        },
        {
          "output_type": "stream",
          "name": "stdout",
          "text": [
            "\n",
            "      Epoch    GPU_mem   box_loss   cls_loss   dfl_loss  Instances       Size\n"
          ]
        },
        {
          "output_type": "stream",
          "name": "stderr",
          "text": [
            "      11/30      2.24G      1.242      1.521      1.442         42        640: 100%|██████████| 317/317 [02:03<00:00,  2.56it/s]\n",
            "                 Class     Images  Instances      Box(P          R      mAP50  mAP50-95): 100%|██████████| 19/19 [00:06<00:00,  2.81it/s]"
          ]
        },
        {
          "output_type": "stream",
          "name": "stdout",
          "text": [
            "                   all        599        942      0.631      0.622      0.656      0.415\n"
          ]
        },
        {
          "output_type": "stream",
          "name": "stderr",
          "text": [
            "\n"
          ]
        },
        {
          "output_type": "stream",
          "name": "stdout",
          "text": [
            "\n",
            "      Epoch    GPU_mem   box_loss   cls_loss   dfl_loss  Instances       Size\n"
          ]
        },
        {
          "output_type": "stream",
          "name": "stderr",
          "text": [
            "      12/30      2.16G       1.23      1.482      1.424         36        640: 100%|██████████| 317/317 [02:03<00:00,  2.57it/s]\n",
            "                 Class     Images  Instances      Box(P          R      mAP50  mAP50-95): 100%|██████████| 19/19 [00:07<00:00,  2.44it/s]"
          ]
        },
        {
          "output_type": "stream",
          "name": "stdout",
          "text": [
            "                   all        599        942      0.657      0.673      0.692      0.458\n"
          ]
        },
        {
          "output_type": "stream",
          "name": "stderr",
          "text": [
            "\n"
          ]
        },
        {
          "output_type": "stream",
          "name": "stdout",
          "text": [
            "\n",
            "      Epoch    GPU_mem   box_loss   cls_loss   dfl_loss  Instances       Size\n"
          ]
        },
        {
          "output_type": "stream",
          "name": "stderr",
          "text": [
            "      13/30      2.16G      1.198      1.447        1.4         41        640: 100%|██████████| 317/317 [02:03<00:00,  2.57it/s]\n",
            "                 Class     Images  Instances      Box(P          R      mAP50  mAP50-95): 100%|██████████| 19/19 [00:09<00:00,  1.93it/s]\n"
          ]
        },
        {
          "output_type": "stream",
          "name": "stdout",
          "text": [
            "                   all        599        942      0.701      0.679      0.726      0.489\n",
            "\n",
            "      Epoch    GPU_mem   box_loss   cls_loss   dfl_loss  Instances       Size\n"
          ]
        },
        {
          "output_type": "stream",
          "name": "stderr",
          "text": [
            "      14/30      2.16G      1.178      1.418      1.396         44        640: 100%|██████████| 317/317 [02:02<00:00,  2.58it/s]\n",
            "                 Class     Images  Instances      Box(P          R      mAP50  mAP50-95): 100%|██████████| 19/19 [00:08<00:00,  2.28it/s]"
          ]
        },
        {
          "output_type": "stream",
          "name": "stdout",
          "text": [
            "                   all        599        942      0.685      0.672      0.732        0.5\n"
          ]
        },
        {
          "output_type": "stream",
          "name": "stderr",
          "text": [
            "\n"
          ]
        },
        {
          "output_type": "stream",
          "name": "stdout",
          "text": [
            "\n",
            "      Epoch    GPU_mem   box_loss   cls_loss   dfl_loss  Instances       Size\n"
          ]
        },
        {
          "output_type": "stream",
          "name": "stderr",
          "text": [
            "      15/30      2.24G      1.182      1.408      1.392         38        640: 100%|██████████| 317/317 [02:05<00:00,  2.53it/s]\n",
            "                 Class     Images  Instances      Box(P          R      mAP50  mAP50-95): 100%|██████████| 19/19 [00:06<00:00,  2.86it/s]"
          ]
        },
        {
          "output_type": "stream",
          "name": "stdout",
          "text": [
            "                   all        599        942      0.687      0.682      0.734      0.491\n"
          ]
        },
        {
          "output_type": "stream",
          "name": "stderr",
          "text": [
            "\n"
          ]
        },
        {
          "output_type": "stream",
          "name": "stdout",
          "text": [
            "\n",
            "      Epoch    GPU_mem   box_loss   cls_loss   dfl_loss  Instances       Size\n"
          ]
        },
        {
          "output_type": "stream",
          "name": "stderr",
          "text": [
            "      16/30      2.16G      1.155      1.366      1.383         34        640: 100%|██████████| 317/317 [02:03<00:00,  2.57it/s]\n",
            "                 Class     Images  Instances      Box(P          R      mAP50  mAP50-95): 100%|██████████| 19/19 [00:08<00:00,  2.15it/s]"
          ]
        },
        {
          "output_type": "stream",
          "name": "stdout",
          "text": [
            "                   all        599        942      0.701      0.678      0.737      0.503\n"
          ]
        },
        {
          "output_type": "stream",
          "name": "stderr",
          "text": [
            "\n"
          ]
        },
        {
          "output_type": "stream",
          "name": "stdout",
          "text": [
            "\n",
            "      Epoch    GPU_mem   box_loss   cls_loss   dfl_loss  Instances       Size\n"
          ]
        },
        {
          "output_type": "stream",
          "name": "stderr",
          "text": [
            "      17/30      2.19G      1.142       1.34      1.369         36        640: 100%|██████████| 317/317 [02:00<00:00,  2.63it/s]\n",
            "                 Class     Images  Instances      Box(P          R      mAP50  mAP50-95): 100%|██████████| 19/19 [00:10<00:00,  1.90it/s]"
          ]
        },
        {
          "output_type": "stream",
          "name": "stdout",
          "text": [
            "                   all        599        942      0.732      0.653      0.746      0.514\n"
          ]
        },
        {
          "output_type": "stream",
          "name": "stderr",
          "text": [
            "\n"
          ]
        },
        {
          "output_type": "stream",
          "name": "stdout",
          "text": [
            "\n",
            "      Epoch    GPU_mem   box_loss   cls_loss   dfl_loss  Instances       Size\n"
          ]
        },
        {
          "output_type": "stream",
          "name": "stderr",
          "text": [
            "      18/30      2.16G      1.131      1.328      1.369         47        640: 100%|██████████| 317/317 [02:01<00:00,  2.60it/s]\n",
            "                 Class     Images  Instances      Box(P          R      mAP50  mAP50-95): 100%|██████████| 19/19 [00:07<00:00,  2.39it/s]"
          ]
        },
        {
          "output_type": "stream",
          "name": "stdout",
          "text": [
            "                   all        599        942       0.72      0.727      0.781      0.538\n"
          ]
        },
        {
          "output_type": "stream",
          "name": "stderr",
          "text": [
            "\n"
          ]
        },
        {
          "output_type": "stream",
          "name": "stdout",
          "text": [
            "\n",
            "      Epoch    GPU_mem   box_loss   cls_loss   dfl_loss  Instances       Size\n"
          ]
        },
        {
          "output_type": "stream",
          "name": "stderr",
          "text": [
            "      19/30      2.26G      1.108      1.271      1.339         52        640: 100%|██████████| 317/317 [02:03<00:00,  2.56it/s]\n",
            "                 Class     Images  Instances      Box(P          R      mAP50  mAP50-95): 100%|██████████| 19/19 [00:06<00:00,  2.85it/s]"
          ]
        },
        {
          "output_type": "stream",
          "name": "stdout",
          "text": [
            "                   all        599        942      0.722      0.739      0.789      0.544\n"
          ]
        },
        {
          "output_type": "stream",
          "name": "stderr",
          "text": [
            "\n"
          ]
        },
        {
          "output_type": "stream",
          "name": "stdout",
          "text": [
            "\n",
            "      Epoch    GPU_mem   box_loss   cls_loss   dfl_loss  Instances       Size\n"
          ]
        },
        {
          "output_type": "stream",
          "name": "stderr",
          "text": [
            "      20/30      2.16G      1.087      1.249      1.325         43        640: 100%|██████████| 317/317 [02:04<00:00,  2.55it/s]\n",
            "                 Class     Images  Instances      Box(P          R      mAP50  mAP50-95): 100%|██████████| 19/19 [00:06<00:00,  2.83it/s]"
          ]
        },
        {
          "output_type": "stream",
          "name": "stdout",
          "text": [
            "                   all        599        942      0.724      0.738      0.783      0.553\n"
          ]
        },
        {
          "output_type": "stream",
          "name": "stderr",
          "text": [
            "\n"
          ]
        },
        {
          "output_type": "stream",
          "name": "stdout",
          "text": [
            "Closing dataloader mosaic\n",
            "\u001b[34m\u001b[1malbumentations: \u001b[0mBlur(p=0.01, blur_limit=(3, 7)), MedianBlur(p=0.01, blur_limit=(3, 7)), ToGray(p=0.01, num_output_channels=3, method='weighted_average'), CLAHE(p=0.01, clip_limit=(1, 4.0), tile_grid_size=(8, 8))\n"
          ]
        },
        {
          "output_type": "stream",
          "name": "stderr",
          "text": [
            "os.fork() was called. os.fork() is incompatible with multithreaded code, and JAX is multithreaded, so this will likely lead to a deadlock.\n"
          ]
        },
        {
          "output_type": "stream",
          "name": "stdout",
          "text": [
            "\n",
            "      Epoch    GPU_mem   box_loss   cls_loss   dfl_loss  Instances       Size\n"
          ]
        },
        {
          "output_type": "stream",
          "name": "stderr",
          "text": [
            "      21/30      2.23G      1.006      1.092      1.308         30        640: 100%|██████████| 317/317 [02:01<00:00,  2.61it/s]\n",
            "                 Class     Images  Instances      Box(P          R      mAP50  mAP50-95): 100%|██████████| 19/19 [00:07<00:00,  2.64it/s]"
          ]
        },
        {
          "output_type": "stream",
          "name": "stdout",
          "text": [
            "                   all        599        942      0.765      0.745       0.81      0.578\n"
          ]
        },
        {
          "output_type": "stream",
          "name": "stderr",
          "text": [
            "\n"
          ]
        },
        {
          "output_type": "stream",
          "name": "stdout",
          "text": [
            "\n",
            "      Epoch    GPU_mem   box_loss   cls_loss   dfl_loss  Instances       Size\n"
          ]
        },
        {
          "output_type": "stream",
          "name": "stderr",
          "text": [
            "      22/30      2.14G     0.9803      1.047      1.294         23        640: 100%|██████████| 317/317 [01:59<00:00,  2.66it/s]\n",
            "                 Class     Images  Instances      Box(P          R      mAP50  mAP50-95): 100%|██████████| 19/19 [00:06<00:00,  2.96it/s]"
          ]
        },
        {
          "output_type": "stream",
          "name": "stdout",
          "text": [
            "                   all        599        942      0.771      0.759      0.819      0.593\n"
          ]
        },
        {
          "output_type": "stream",
          "name": "stderr",
          "text": [
            "\n"
          ]
        },
        {
          "output_type": "stream",
          "name": "stdout",
          "text": [
            "\n",
            "      Epoch    GPU_mem   box_loss   cls_loss   dfl_loss  Instances       Size\n"
          ]
        },
        {
          "output_type": "stream",
          "name": "stderr",
          "text": [
            "      23/30      2.22G     0.9567     0.9967      1.274         19        640: 100%|██████████| 317/317 [01:59<00:00,  2.66it/s]\n",
            "                 Class     Images  Instances      Box(P          R      mAP50  mAP50-95): 100%|██████████| 19/19 [00:07<00:00,  2.70it/s]"
          ]
        },
        {
          "output_type": "stream",
          "name": "stdout",
          "text": [
            "                   all        599        942      0.732      0.715      0.796      0.574\n"
          ]
        },
        {
          "output_type": "stream",
          "name": "stderr",
          "text": [
            "\n"
          ]
        },
        {
          "output_type": "stream",
          "name": "stdout",
          "text": [
            "\n",
            "      Epoch    GPU_mem   box_loss   cls_loss   dfl_loss  Instances       Size\n"
          ]
        },
        {
          "output_type": "stream",
          "name": "stderr",
          "text": [
            "      24/30      2.16G     0.9374     0.9675       1.26         24        640: 100%|██████████| 317/317 [01:58<00:00,  2.68it/s]\n",
            "                 Class     Images  Instances      Box(P          R      mAP50  mAP50-95): 100%|██████████| 19/19 [00:08<00:00,  2.13it/s]\n"
          ]
        },
        {
          "output_type": "stream",
          "name": "stdout",
          "text": [
            "                   all        599        942      0.779       0.76      0.824      0.601\n",
            "\n",
            "      Epoch    GPU_mem   box_loss   cls_loss   dfl_loss  Instances       Size\n"
          ]
        },
        {
          "output_type": "stream",
          "name": "stderr",
          "text": [
            "      25/30      2.14G     0.9065     0.9385      1.238         21        640: 100%|██████████| 317/317 [01:56<00:00,  2.71it/s]\n",
            "                 Class     Images  Instances      Box(P          R      mAP50  mAP50-95): 100%|██████████| 19/19 [00:09<00:00,  1.92it/s]"
          ]
        },
        {
          "output_type": "stream",
          "name": "stdout",
          "text": [
            "                   all        599        942      0.775      0.748      0.833      0.619\n"
          ]
        },
        {
          "output_type": "stream",
          "name": "stderr",
          "text": [
            "\n"
          ]
        },
        {
          "output_type": "stream",
          "name": "stdout",
          "text": [
            "\n",
            "      Epoch    GPU_mem   box_loss   cls_loss   dfl_loss  Instances       Size\n"
          ]
        },
        {
          "output_type": "stream",
          "name": "stderr",
          "text": [
            "      26/30      2.14G     0.8933     0.8949      1.224         28        640: 100%|██████████| 317/317 [01:55<00:00,  2.75it/s]\n",
            "                 Class     Images  Instances      Box(P          R      mAP50  mAP50-95): 100%|██████████| 19/19 [00:08<00:00,  2.19it/s]"
          ]
        },
        {
          "output_type": "stream",
          "name": "stdout",
          "text": [
            "                   all        599        942      0.806      0.766      0.845      0.625\n"
          ]
        },
        {
          "output_type": "stream",
          "name": "stderr",
          "text": [
            "\n"
          ]
        },
        {
          "output_type": "stream",
          "name": "stdout",
          "text": [
            "\n",
            "      Epoch    GPU_mem   box_loss   cls_loss   dfl_loss  Instances       Size\n"
          ]
        },
        {
          "output_type": "stream",
          "name": "stderr",
          "text": [
            "      27/30      2.22G     0.8721     0.8796      1.211         27        640: 100%|██████████| 317/317 [01:57<00:00,  2.70it/s]\n",
            "                 Class     Images  Instances      Box(P          R      mAP50  mAP50-95): 100%|██████████| 19/19 [00:06<00:00,  2.88it/s]"
          ]
        },
        {
          "output_type": "stream",
          "name": "stdout",
          "text": [
            "                   all        599        942      0.776      0.768      0.834      0.625\n"
          ]
        },
        {
          "output_type": "stream",
          "name": "stderr",
          "text": [
            "\n"
          ]
        },
        {
          "output_type": "stream",
          "name": "stdout",
          "text": [
            "\n",
            "      Epoch    GPU_mem   box_loss   cls_loss   dfl_loss  Instances       Size\n"
          ]
        },
        {
          "output_type": "stream",
          "name": "stderr",
          "text": [
            "      28/30      2.14G     0.8524     0.8398       1.19         20        640: 100%|██████████| 317/317 [01:59<00:00,  2.65it/s]\n",
            "                 Class     Images  Instances      Box(P          R      mAP50  mAP50-95): 100%|██████████| 19/19 [00:06<00:00,  3.03it/s]\n"
          ]
        },
        {
          "output_type": "stream",
          "name": "stdout",
          "text": [
            "                   all        599        942      0.785      0.776       0.84      0.629\n",
            "\n",
            "      Epoch    GPU_mem   box_loss   cls_loss   dfl_loss  Instances       Size\n"
          ]
        },
        {
          "output_type": "stream",
          "name": "stderr",
          "text": [
            "      29/30      2.14G     0.8469     0.8205       1.18         17        640: 100%|██████████| 317/317 [01:57<00:00,  2.69it/s]\n",
            "                 Class     Images  Instances      Box(P          R      mAP50  mAP50-95): 100%|██████████| 19/19 [00:07<00:00,  2.44it/s]"
          ]
        },
        {
          "output_type": "stream",
          "name": "stdout",
          "text": [
            "                   all        599        942       0.78      0.775      0.839      0.631\n"
          ]
        },
        {
          "output_type": "stream",
          "name": "stderr",
          "text": [
            "\n"
          ]
        },
        {
          "output_type": "stream",
          "name": "stdout",
          "text": [
            "\n",
            "      Epoch    GPU_mem   box_loss   cls_loss   dfl_loss  Instances       Size\n"
          ]
        },
        {
          "output_type": "stream",
          "name": "stderr",
          "text": [
            "      30/30      2.16G     0.8158     0.7945      1.168         16        640: 100%|██████████| 317/317 [01:55<00:00,  2.75it/s]\n",
            "                 Class     Images  Instances      Box(P          R      mAP50  mAP50-95): 100%|██████████| 19/19 [00:09<00:00,  1.93it/s]"
          ]
        },
        {
          "output_type": "stream",
          "name": "stdout",
          "text": [
            "                   all        599        942      0.793       0.77      0.844      0.635\n"
          ]
        },
        {
          "output_type": "stream",
          "name": "stderr",
          "text": [
            "\n"
          ]
        },
        {
          "output_type": "stream",
          "name": "stdout",
          "text": [
            "\n",
            "30 epochs completed in 1.125 hours.\n",
            "Optimizer stripped from runs/detect/train/weights/last.pt, 6.2MB\n",
            "Optimizer stripped from runs/detect/train/weights/best.pt, 6.2MB\n",
            "\n",
            "Validating runs/detect/train/weights/best.pt...\n",
            "Ultralytics YOLOv8.2.96 🚀 Python-3.10.12 torch-2.4.0+cu121 CUDA:0 (Tesla T4, 15102MiB)\n",
            "Model summary (fused): 168 layers, 3,006,038 parameters, 0 gradients, 8.1 GFLOPs\n"
          ]
        },
        {
          "output_type": "stream",
          "name": "stderr",
          "text": [
            "                 Class     Images  Instances      Box(P          R      mAP50  mAP50-95): 100%|██████████| 19/19 [00:08<00:00,  2.17it/s]\n"
          ]
        },
        {
          "output_type": "stream",
          "name": "stdout",
          "text": [
            "                   all        599        942      0.794       0.77      0.844      0.635\n",
            "           nonviolence        340        592      0.723      0.679      0.774      0.572\n",
            "              violence        336        350      0.865       0.86      0.915      0.698\n",
            "Speed: 0.3ms preprocess, 2.4ms inference, 0.0ms loss, 3.0ms postprocess per image\n",
            "Results saved to \u001b[1mruns/detect/train\u001b[0m\n"
          ]
        },
        {
          "output_type": "execute_result",
          "data": {
            "text/plain": [
              "ultralytics.utils.metrics.DetMetrics object with attributes:\n",
              "\n",
              "ap_class_index: array([0, 1])\n",
              "box: ultralytics.utils.metrics.Metric object\n",
              "confusion_matrix: <ultralytics.utils.metrics.ConfusionMatrix object at 0x7eecf0fafe20>\n",
              "curves: ['Precision-Recall(B)', 'F1-Confidence(B)', 'Precision-Confidence(B)', 'Recall-Confidence(B)']\n",
              "curves_results: [[array([          0,    0.001001,    0.002002,    0.003003,    0.004004,    0.005005,    0.006006,    0.007007,    0.008008,    0.009009,     0.01001,    0.011011,    0.012012,    0.013013,    0.014014,    0.015015,    0.016016,    0.017017,    0.018018,    0.019019,     0.02002,    0.021021,    0.022022,    0.023023,\n",
              "          0.024024,    0.025025,    0.026026,    0.027027,    0.028028,    0.029029,     0.03003,    0.031031,    0.032032,    0.033033,    0.034034,    0.035035,    0.036036,    0.037037,    0.038038,    0.039039,     0.04004,    0.041041,    0.042042,    0.043043,    0.044044,    0.045045,    0.046046,    0.047047,\n",
              "          0.048048,    0.049049,     0.05005,    0.051051,    0.052052,    0.053053,    0.054054,    0.055055,    0.056056,    0.057057,    0.058058,    0.059059,     0.06006,    0.061061,    0.062062,    0.063063,    0.064064,    0.065065,    0.066066,    0.067067,    0.068068,    0.069069,     0.07007,    0.071071,\n",
              "          0.072072,    0.073073,    0.074074,    0.075075,    0.076076,    0.077077,    0.078078,    0.079079,     0.08008,    0.081081,    0.082082,    0.083083,    0.084084,    0.085085,    0.086086,    0.087087,    0.088088,    0.089089,     0.09009,    0.091091,    0.092092,    0.093093,    0.094094,    0.095095,\n",
              "          0.096096,    0.097097,    0.098098,    0.099099,      0.1001,      0.1011,      0.1021,      0.1031,      0.1041,     0.10511,     0.10611,     0.10711,     0.10811,     0.10911,     0.11011,     0.11111,     0.11211,     0.11311,     0.11411,     0.11512,     0.11612,     0.11712,     0.11812,     0.11912,\n",
              "           0.12012,     0.12112,     0.12212,     0.12312,     0.12412,     0.12513,     0.12613,     0.12713,     0.12813,     0.12913,     0.13013,     0.13113,     0.13213,     0.13313,     0.13413,     0.13514,     0.13614,     0.13714,     0.13814,     0.13914,     0.14014,     0.14114,     0.14214,     0.14314,\n",
              "           0.14414,     0.14515,     0.14615,     0.14715,     0.14815,     0.14915,     0.15015,     0.15115,     0.15215,     0.15315,     0.15415,     0.15516,     0.15616,     0.15716,     0.15816,     0.15916,     0.16016,     0.16116,     0.16216,     0.16316,     0.16416,     0.16517,     0.16617,     0.16717,\n",
              "           0.16817,     0.16917,     0.17017,     0.17117,     0.17217,     0.17317,     0.17417,     0.17518,     0.17618,     0.17718,     0.17818,     0.17918,     0.18018,     0.18118,     0.18218,     0.18318,     0.18418,     0.18519,     0.18619,     0.18719,     0.18819,     0.18919,     0.19019,     0.19119,\n",
              "           0.19219,     0.19319,     0.19419,      0.1952,      0.1962,      0.1972,      0.1982,      0.1992,      0.2002,      0.2012,      0.2022,      0.2032,      0.2042,     0.20521,     0.20621,     0.20721,     0.20821,     0.20921,     0.21021,     0.21121,     0.21221,     0.21321,     0.21421,     0.21522,\n",
              "           0.21622,     0.21722,     0.21822,     0.21922,     0.22022,     0.22122,     0.22222,     0.22322,     0.22422,     0.22523,     0.22623,     0.22723,     0.22823,     0.22923,     0.23023,     0.23123,     0.23223,     0.23323,     0.23423,     0.23524,     0.23624,     0.23724,     0.23824,     0.23924,\n",
              "           0.24024,     0.24124,     0.24224,     0.24324,     0.24424,     0.24525,     0.24625,     0.24725,     0.24825,     0.24925,     0.25025,     0.25125,     0.25225,     0.25325,     0.25425,     0.25526,     0.25626,     0.25726,     0.25826,     0.25926,     0.26026,     0.26126,     0.26226,     0.26326,\n",
              "           0.26426,     0.26527,     0.26627,     0.26727,     0.26827,     0.26927,     0.27027,     0.27127,     0.27227,     0.27327,     0.27427,     0.27528,     0.27628,     0.27728,     0.27828,     0.27928,     0.28028,     0.28128,     0.28228,     0.28328,     0.28428,     0.28529,     0.28629,     0.28729,\n",
              "           0.28829,     0.28929,     0.29029,     0.29129,     0.29229,     0.29329,     0.29429,      0.2953,      0.2963,      0.2973,      0.2983,      0.2993,      0.3003,      0.3013,      0.3023,      0.3033,      0.3043,     0.30531,     0.30631,     0.30731,     0.30831,     0.30931,     0.31031,     0.31131,\n",
              "           0.31231,     0.31331,     0.31431,     0.31532,     0.31632,     0.31732,     0.31832,     0.31932,     0.32032,     0.32132,     0.32232,     0.32332,     0.32432,     0.32533,     0.32633,     0.32733,     0.32833,     0.32933,     0.33033,     0.33133,     0.33233,     0.33333,     0.33433,     0.33534,\n",
              "           0.33634,     0.33734,     0.33834,     0.33934,     0.34034,     0.34134,     0.34234,     0.34334,     0.34434,     0.34535,     0.34635,     0.34735,     0.34835,     0.34935,     0.35035,     0.35135,     0.35235,     0.35335,     0.35435,     0.35536,     0.35636,     0.35736,     0.35836,     0.35936,\n",
              "           0.36036,     0.36136,     0.36236,     0.36336,     0.36436,     0.36537,     0.36637,     0.36737,     0.36837,     0.36937,     0.37037,     0.37137,     0.37237,     0.37337,     0.37437,     0.37538,     0.37638,     0.37738,     0.37838,     0.37938,     0.38038,     0.38138,     0.38238,     0.38338,\n",
              "           0.38438,     0.38539,     0.38639,     0.38739,     0.38839,     0.38939,     0.39039,     0.39139,     0.39239,     0.39339,     0.39439,      0.3954,      0.3964,      0.3974,      0.3984,      0.3994,      0.4004,      0.4014,      0.4024,      0.4034,      0.4044,     0.40541,     0.40641,     0.40741,\n",
              "           0.40841,     0.40941,     0.41041,     0.41141,     0.41241,     0.41341,     0.41441,     0.41542,     0.41642,     0.41742,     0.41842,     0.41942,     0.42042,     0.42142,     0.42242,     0.42342,     0.42442,     0.42543,     0.42643,     0.42743,     0.42843,     0.42943,     0.43043,     0.43143,\n",
              "           0.43243,     0.43343,     0.43443,     0.43544,     0.43644,     0.43744,     0.43844,     0.43944,     0.44044,     0.44144,     0.44244,     0.44344,     0.44444,     0.44545,     0.44645,     0.44745,     0.44845,     0.44945,     0.45045,     0.45145,     0.45245,     0.45345,     0.45445,     0.45546,\n",
              "           0.45646,     0.45746,     0.45846,     0.45946,     0.46046,     0.46146,     0.46246,     0.46346,     0.46446,     0.46547,     0.46647,     0.46747,     0.46847,     0.46947,     0.47047,     0.47147,     0.47247,     0.47347,     0.47447,     0.47548,     0.47648,     0.47748,     0.47848,     0.47948,\n",
              "           0.48048,     0.48148,     0.48248,     0.48348,     0.48448,     0.48549,     0.48649,     0.48749,     0.48849,     0.48949,     0.49049,     0.49149,     0.49249,     0.49349,     0.49449,      0.4955,      0.4965,      0.4975,      0.4985,      0.4995,      0.5005,      0.5015,      0.5025,      0.5035,\n",
              "            0.5045,     0.50551,     0.50651,     0.50751,     0.50851,     0.50951,     0.51051,     0.51151,     0.51251,     0.51351,     0.51451,     0.51552,     0.51652,     0.51752,     0.51852,     0.51952,     0.52052,     0.52152,     0.52252,     0.52352,     0.52452,     0.52553,     0.52653,     0.52753,\n",
              "           0.52853,     0.52953,     0.53053,     0.53153,     0.53253,     0.53353,     0.53453,     0.53554,     0.53654,     0.53754,     0.53854,     0.53954,     0.54054,     0.54154,     0.54254,     0.54354,     0.54454,     0.54555,     0.54655,     0.54755,     0.54855,     0.54955,     0.55055,     0.55155,\n",
              "           0.55255,     0.55355,     0.55455,     0.55556,     0.55656,     0.55756,     0.55856,     0.55956,     0.56056,     0.56156,     0.56256,     0.56356,     0.56456,     0.56557,     0.56657,     0.56757,     0.56857,     0.56957,     0.57057,     0.57157,     0.57257,     0.57357,     0.57457,     0.57558,\n",
              "           0.57658,     0.57758,     0.57858,     0.57958,     0.58058,     0.58158,     0.58258,     0.58358,     0.58458,     0.58559,     0.58659,     0.58759,     0.58859,     0.58959,     0.59059,     0.59159,     0.59259,     0.59359,     0.59459,      0.5956,      0.5966,      0.5976,      0.5986,      0.5996,\n",
              "            0.6006,      0.6016,      0.6026,      0.6036,      0.6046,     0.60561,     0.60661,     0.60761,     0.60861,     0.60961,     0.61061,     0.61161,     0.61261,     0.61361,     0.61461,     0.61562,     0.61662,     0.61762,     0.61862,     0.61962,     0.62062,     0.62162,     0.62262,     0.62362,\n",
              "           0.62462,     0.62563,     0.62663,     0.62763,     0.62863,     0.62963,     0.63063,     0.63163,     0.63263,     0.63363,     0.63463,     0.63564,     0.63664,     0.63764,     0.63864,     0.63964,     0.64064,     0.64164,     0.64264,     0.64364,     0.64464,     0.64565,     0.64665,     0.64765,\n",
              "           0.64865,     0.64965,     0.65065,     0.65165,     0.65265,     0.65365,     0.65465,     0.65566,     0.65666,     0.65766,     0.65866,     0.65966,     0.66066,     0.66166,     0.66266,     0.66366,     0.66466,     0.66567,     0.66667,     0.66767,     0.66867,     0.66967,     0.67067,     0.67167,\n",
              "           0.67267,     0.67367,     0.67467,     0.67568,     0.67668,     0.67768,     0.67868,     0.67968,     0.68068,     0.68168,     0.68268,     0.68368,     0.68468,     0.68569,     0.68669,     0.68769,     0.68869,     0.68969,     0.69069,     0.69169,     0.69269,     0.69369,     0.69469,      0.6957,\n",
              "            0.6967,      0.6977,      0.6987,      0.6997,      0.7007,      0.7017,      0.7027,      0.7037,      0.7047,     0.70571,     0.70671,     0.70771,     0.70871,     0.70971,     0.71071,     0.71171,     0.71271,     0.71371,     0.71471,     0.71572,     0.71672,     0.71772,     0.71872,     0.71972,\n",
              "           0.72072,     0.72172,     0.72272,     0.72372,     0.72472,     0.72573,     0.72673,     0.72773,     0.72873,     0.72973,     0.73073,     0.73173,     0.73273,     0.73373,     0.73473,     0.73574,     0.73674,     0.73774,     0.73874,     0.73974,     0.74074,     0.74174,     0.74274,     0.74374,\n",
              "           0.74474,     0.74575,     0.74675,     0.74775,     0.74875,     0.74975,     0.75075,     0.75175,     0.75275,     0.75375,     0.75475,     0.75576,     0.75676,     0.75776,     0.75876,     0.75976,     0.76076,     0.76176,     0.76276,     0.76376,     0.76476,     0.76577,     0.76677,     0.76777,\n",
              "           0.76877,     0.76977,     0.77077,     0.77177,     0.77277,     0.77377,     0.77477,     0.77578,     0.77678,     0.77778,     0.77878,     0.77978,     0.78078,     0.78178,     0.78278,     0.78378,     0.78478,     0.78579,     0.78679,     0.78779,     0.78879,     0.78979,     0.79079,     0.79179,\n",
              "           0.79279,     0.79379,     0.79479,      0.7958,      0.7968,      0.7978,      0.7988,      0.7998,      0.8008,      0.8018,      0.8028,      0.8038,      0.8048,     0.80581,     0.80681,     0.80781,     0.80881,     0.80981,     0.81081,     0.81181,     0.81281,     0.81381,     0.81481,     0.81582,\n",
              "           0.81682,     0.81782,     0.81882,     0.81982,     0.82082,     0.82182,     0.82282,     0.82382,     0.82482,     0.82583,     0.82683,     0.82783,     0.82883,     0.82983,     0.83083,     0.83183,     0.83283,     0.83383,     0.83483,     0.83584,     0.83684,     0.83784,     0.83884,     0.83984,\n",
              "           0.84084,     0.84184,     0.84284,     0.84384,     0.84484,     0.84585,     0.84685,     0.84785,     0.84885,     0.84985,     0.85085,     0.85185,     0.85285,     0.85385,     0.85485,     0.85586,     0.85686,     0.85786,     0.85886,     0.85986,     0.86086,     0.86186,     0.86286,     0.86386,\n",
              "           0.86486,     0.86587,     0.86687,     0.86787,     0.86887,     0.86987,     0.87087,     0.87187,     0.87287,     0.87387,     0.87487,     0.87588,     0.87688,     0.87788,     0.87888,     0.87988,     0.88088,     0.88188,     0.88288,     0.88388,     0.88488,     0.88589,     0.88689,     0.88789,\n",
              "           0.88889,     0.88989,     0.89089,     0.89189,     0.89289,     0.89389,     0.89489,      0.8959,      0.8969,      0.8979,      0.8989,      0.8999,      0.9009,      0.9019,      0.9029,      0.9039,      0.9049,     0.90591,     0.90691,     0.90791,     0.90891,     0.90991,     0.91091,     0.91191,\n",
              "           0.91291,     0.91391,     0.91491,     0.91592,     0.91692,     0.91792,     0.91892,     0.91992,     0.92092,     0.92192,     0.92292,     0.92392,     0.92492,     0.92593,     0.92693,     0.92793,     0.92893,     0.92993,     0.93093,     0.93193,     0.93293,     0.93393,     0.93493,     0.93594,\n",
              "           0.93694,     0.93794,     0.93894,     0.93994,     0.94094,     0.94194,     0.94294,     0.94394,     0.94494,     0.94595,     0.94695,     0.94795,     0.94895,     0.94995,     0.95095,     0.95195,     0.95295,     0.95395,     0.95495,     0.95596,     0.95696,     0.95796,     0.95896,     0.95996,\n",
              "           0.96096,     0.96196,     0.96296,     0.96396,     0.96496,     0.96597,     0.96697,     0.96797,     0.96897,     0.96997,     0.97097,     0.97197,     0.97297,     0.97397,     0.97497,     0.97598,     0.97698,     0.97798,     0.97898,     0.97998,     0.98098,     0.98198,     0.98298,     0.98398,\n",
              "           0.98498,     0.98599,     0.98699,     0.98799,     0.98899,     0.98999,     0.99099,     0.99199,     0.99299,     0.99399,     0.99499,       0.996,       0.997,       0.998,       0.999,           1]), array([[          1,           1,           1, ...,   0.0077747,   0.0038873,           0],\n",
              "       [          1,           1,           1, ...,    0.030746,    0.015373,           0]]), 'Recall', 'Precision'], [array([          0,    0.001001,    0.002002,    0.003003,    0.004004,    0.005005,    0.006006,    0.007007,    0.008008,    0.009009,     0.01001,    0.011011,    0.012012,    0.013013,    0.014014,    0.015015,    0.016016,    0.017017,    0.018018,    0.019019,     0.02002,    0.021021,    0.022022,    0.023023,\n",
              "          0.024024,    0.025025,    0.026026,    0.027027,    0.028028,    0.029029,     0.03003,    0.031031,    0.032032,    0.033033,    0.034034,    0.035035,    0.036036,    0.037037,    0.038038,    0.039039,     0.04004,    0.041041,    0.042042,    0.043043,    0.044044,    0.045045,    0.046046,    0.047047,\n",
              "          0.048048,    0.049049,     0.05005,    0.051051,    0.052052,    0.053053,    0.054054,    0.055055,    0.056056,    0.057057,    0.058058,    0.059059,     0.06006,    0.061061,    0.062062,    0.063063,    0.064064,    0.065065,    0.066066,    0.067067,    0.068068,    0.069069,     0.07007,    0.071071,\n",
              "          0.072072,    0.073073,    0.074074,    0.075075,    0.076076,    0.077077,    0.078078,    0.079079,     0.08008,    0.081081,    0.082082,    0.083083,    0.084084,    0.085085,    0.086086,    0.087087,    0.088088,    0.089089,     0.09009,    0.091091,    0.092092,    0.093093,    0.094094,    0.095095,\n",
              "          0.096096,    0.097097,    0.098098,    0.099099,      0.1001,      0.1011,      0.1021,      0.1031,      0.1041,     0.10511,     0.10611,     0.10711,     0.10811,     0.10911,     0.11011,     0.11111,     0.11211,     0.11311,     0.11411,     0.11512,     0.11612,     0.11712,     0.11812,     0.11912,\n",
              "           0.12012,     0.12112,     0.12212,     0.12312,     0.12412,     0.12513,     0.12613,     0.12713,     0.12813,     0.12913,     0.13013,     0.13113,     0.13213,     0.13313,     0.13413,     0.13514,     0.13614,     0.13714,     0.13814,     0.13914,     0.14014,     0.14114,     0.14214,     0.14314,\n",
              "           0.14414,     0.14515,     0.14615,     0.14715,     0.14815,     0.14915,     0.15015,     0.15115,     0.15215,     0.15315,     0.15415,     0.15516,     0.15616,     0.15716,     0.15816,     0.15916,     0.16016,     0.16116,     0.16216,     0.16316,     0.16416,     0.16517,     0.16617,     0.16717,\n",
              "           0.16817,     0.16917,     0.17017,     0.17117,     0.17217,     0.17317,     0.17417,     0.17518,     0.17618,     0.17718,     0.17818,     0.17918,     0.18018,     0.18118,     0.18218,     0.18318,     0.18418,     0.18519,     0.18619,     0.18719,     0.18819,     0.18919,     0.19019,     0.19119,\n",
              "           0.19219,     0.19319,     0.19419,      0.1952,      0.1962,      0.1972,      0.1982,      0.1992,      0.2002,      0.2012,      0.2022,      0.2032,      0.2042,     0.20521,     0.20621,     0.20721,     0.20821,     0.20921,     0.21021,     0.21121,     0.21221,     0.21321,     0.21421,     0.21522,\n",
              "           0.21622,     0.21722,     0.21822,     0.21922,     0.22022,     0.22122,     0.22222,     0.22322,     0.22422,     0.22523,     0.22623,     0.22723,     0.22823,     0.22923,     0.23023,     0.23123,     0.23223,     0.23323,     0.23423,     0.23524,     0.23624,     0.23724,     0.23824,     0.23924,\n",
              "           0.24024,     0.24124,     0.24224,     0.24324,     0.24424,     0.24525,     0.24625,     0.24725,     0.24825,     0.24925,     0.25025,     0.25125,     0.25225,     0.25325,     0.25425,     0.25526,     0.25626,     0.25726,     0.25826,     0.25926,     0.26026,     0.26126,     0.26226,     0.26326,\n",
              "           0.26426,     0.26527,     0.26627,     0.26727,     0.26827,     0.26927,     0.27027,     0.27127,     0.27227,     0.27327,     0.27427,     0.27528,     0.27628,     0.27728,     0.27828,     0.27928,     0.28028,     0.28128,     0.28228,     0.28328,     0.28428,     0.28529,     0.28629,     0.28729,\n",
              "           0.28829,     0.28929,     0.29029,     0.29129,     0.29229,     0.29329,     0.29429,      0.2953,      0.2963,      0.2973,      0.2983,      0.2993,      0.3003,      0.3013,      0.3023,      0.3033,      0.3043,     0.30531,     0.30631,     0.30731,     0.30831,     0.30931,     0.31031,     0.31131,\n",
              "           0.31231,     0.31331,     0.31431,     0.31532,     0.31632,     0.31732,     0.31832,     0.31932,     0.32032,     0.32132,     0.32232,     0.32332,     0.32432,     0.32533,     0.32633,     0.32733,     0.32833,     0.32933,     0.33033,     0.33133,     0.33233,     0.33333,     0.33433,     0.33534,\n",
              "           0.33634,     0.33734,     0.33834,     0.33934,     0.34034,     0.34134,     0.34234,     0.34334,     0.34434,     0.34535,     0.34635,     0.34735,     0.34835,     0.34935,     0.35035,     0.35135,     0.35235,     0.35335,     0.35435,     0.35536,     0.35636,     0.35736,     0.35836,     0.35936,\n",
              "           0.36036,     0.36136,     0.36236,     0.36336,     0.36436,     0.36537,     0.36637,     0.36737,     0.36837,     0.36937,     0.37037,     0.37137,     0.37237,     0.37337,     0.37437,     0.37538,     0.37638,     0.37738,     0.37838,     0.37938,     0.38038,     0.38138,     0.38238,     0.38338,\n",
              "           0.38438,     0.38539,     0.38639,     0.38739,     0.38839,     0.38939,     0.39039,     0.39139,     0.39239,     0.39339,     0.39439,      0.3954,      0.3964,      0.3974,      0.3984,      0.3994,      0.4004,      0.4014,      0.4024,      0.4034,      0.4044,     0.40541,     0.40641,     0.40741,\n",
              "           0.40841,     0.40941,     0.41041,     0.41141,     0.41241,     0.41341,     0.41441,     0.41542,     0.41642,     0.41742,     0.41842,     0.41942,     0.42042,     0.42142,     0.42242,     0.42342,     0.42442,     0.42543,     0.42643,     0.42743,     0.42843,     0.42943,     0.43043,     0.43143,\n",
              "           0.43243,     0.43343,     0.43443,     0.43544,     0.43644,     0.43744,     0.43844,     0.43944,     0.44044,     0.44144,     0.44244,     0.44344,     0.44444,     0.44545,     0.44645,     0.44745,     0.44845,     0.44945,     0.45045,     0.45145,     0.45245,     0.45345,     0.45445,     0.45546,\n",
              "           0.45646,     0.45746,     0.45846,     0.45946,     0.46046,     0.46146,     0.46246,     0.46346,     0.46446,     0.46547,     0.46647,     0.46747,     0.46847,     0.46947,     0.47047,     0.47147,     0.47247,     0.47347,     0.47447,     0.47548,     0.47648,     0.47748,     0.47848,     0.47948,\n",
              "           0.48048,     0.48148,     0.48248,     0.48348,     0.48448,     0.48549,     0.48649,     0.48749,     0.48849,     0.48949,     0.49049,     0.49149,     0.49249,     0.49349,     0.49449,      0.4955,      0.4965,      0.4975,      0.4985,      0.4995,      0.5005,      0.5015,      0.5025,      0.5035,\n",
              "            0.5045,     0.50551,     0.50651,     0.50751,     0.50851,     0.50951,     0.51051,     0.51151,     0.51251,     0.51351,     0.51451,     0.51552,     0.51652,     0.51752,     0.51852,     0.51952,     0.52052,     0.52152,     0.52252,     0.52352,     0.52452,     0.52553,     0.52653,     0.52753,\n",
              "           0.52853,     0.52953,     0.53053,     0.53153,     0.53253,     0.53353,     0.53453,     0.53554,     0.53654,     0.53754,     0.53854,     0.53954,     0.54054,     0.54154,     0.54254,     0.54354,     0.54454,     0.54555,     0.54655,     0.54755,     0.54855,     0.54955,     0.55055,     0.55155,\n",
              "           0.55255,     0.55355,     0.55455,     0.55556,     0.55656,     0.55756,     0.55856,     0.55956,     0.56056,     0.56156,     0.56256,     0.56356,     0.56456,     0.56557,     0.56657,     0.56757,     0.56857,     0.56957,     0.57057,     0.57157,     0.57257,     0.57357,     0.57457,     0.57558,\n",
              "           0.57658,     0.57758,     0.57858,     0.57958,     0.58058,     0.58158,     0.58258,     0.58358,     0.58458,     0.58559,     0.58659,     0.58759,     0.58859,     0.58959,     0.59059,     0.59159,     0.59259,     0.59359,     0.59459,      0.5956,      0.5966,      0.5976,      0.5986,      0.5996,\n",
              "            0.6006,      0.6016,      0.6026,      0.6036,      0.6046,     0.60561,     0.60661,     0.60761,     0.60861,     0.60961,     0.61061,     0.61161,     0.61261,     0.61361,     0.61461,     0.61562,     0.61662,     0.61762,     0.61862,     0.61962,     0.62062,     0.62162,     0.62262,     0.62362,\n",
              "           0.62462,     0.62563,     0.62663,     0.62763,     0.62863,     0.62963,     0.63063,     0.63163,     0.63263,     0.63363,     0.63463,     0.63564,     0.63664,     0.63764,     0.63864,     0.63964,     0.64064,     0.64164,     0.64264,     0.64364,     0.64464,     0.64565,     0.64665,     0.64765,\n",
              "           0.64865,     0.64965,     0.65065,     0.65165,     0.65265,     0.65365,     0.65465,     0.65566,     0.65666,     0.65766,     0.65866,     0.65966,     0.66066,     0.66166,     0.66266,     0.66366,     0.66466,     0.66567,     0.66667,     0.66767,     0.66867,     0.66967,     0.67067,     0.67167,\n",
              "           0.67267,     0.67367,     0.67467,     0.67568,     0.67668,     0.67768,     0.67868,     0.67968,     0.68068,     0.68168,     0.68268,     0.68368,     0.68468,     0.68569,     0.68669,     0.68769,     0.68869,     0.68969,     0.69069,     0.69169,     0.69269,     0.69369,     0.69469,      0.6957,\n",
              "            0.6967,      0.6977,      0.6987,      0.6997,      0.7007,      0.7017,      0.7027,      0.7037,      0.7047,     0.70571,     0.70671,     0.70771,     0.70871,     0.70971,     0.71071,     0.71171,     0.71271,     0.71371,     0.71471,     0.71572,     0.71672,     0.71772,     0.71872,     0.71972,\n",
              "           0.72072,     0.72172,     0.72272,     0.72372,     0.72472,     0.72573,     0.72673,     0.72773,     0.72873,     0.72973,     0.73073,     0.73173,     0.73273,     0.73373,     0.73473,     0.73574,     0.73674,     0.73774,     0.73874,     0.73974,     0.74074,     0.74174,     0.74274,     0.74374,\n",
              "           0.74474,     0.74575,     0.74675,     0.74775,     0.74875,     0.74975,     0.75075,     0.75175,     0.75275,     0.75375,     0.75475,     0.75576,     0.75676,     0.75776,     0.75876,     0.75976,     0.76076,     0.76176,     0.76276,     0.76376,     0.76476,     0.76577,     0.76677,     0.76777,\n",
              "           0.76877,     0.76977,     0.77077,     0.77177,     0.77277,     0.77377,     0.77477,     0.77578,     0.77678,     0.77778,     0.77878,     0.77978,     0.78078,     0.78178,     0.78278,     0.78378,     0.78478,     0.78579,     0.78679,     0.78779,     0.78879,     0.78979,     0.79079,     0.79179,\n",
              "           0.79279,     0.79379,     0.79479,      0.7958,      0.7968,      0.7978,      0.7988,      0.7998,      0.8008,      0.8018,      0.8028,      0.8038,      0.8048,     0.80581,     0.80681,     0.80781,     0.80881,     0.80981,     0.81081,     0.81181,     0.81281,     0.81381,     0.81481,     0.81582,\n",
              "           0.81682,     0.81782,     0.81882,     0.81982,     0.82082,     0.82182,     0.82282,     0.82382,     0.82482,     0.82583,     0.82683,     0.82783,     0.82883,     0.82983,     0.83083,     0.83183,     0.83283,     0.83383,     0.83483,     0.83584,     0.83684,     0.83784,     0.83884,     0.83984,\n",
              "           0.84084,     0.84184,     0.84284,     0.84384,     0.84484,     0.84585,     0.84685,     0.84785,     0.84885,     0.84985,     0.85085,     0.85185,     0.85285,     0.85385,     0.85485,     0.85586,     0.85686,     0.85786,     0.85886,     0.85986,     0.86086,     0.86186,     0.86286,     0.86386,\n",
              "           0.86486,     0.86587,     0.86687,     0.86787,     0.86887,     0.86987,     0.87087,     0.87187,     0.87287,     0.87387,     0.87487,     0.87588,     0.87688,     0.87788,     0.87888,     0.87988,     0.88088,     0.88188,     0.88288,     0.88388,     0.88488,     0.88589,     0.88689,     0.88789,\n",
              "           0.88889,     0.88989,     0.89089,     0.89189,     0.89289,     0.89389,     0.89489,      0.8959,      0.8969,      0.8979,      0.8989,      0.8999,      0.9009,      0.9019,      0.9029,      0.9039,      0.9049,     0.90591,     0.90691,     0.90791,     0.90891,     0.90991,     0.91091,     0.91191,\n",
              "           0.91291,     0.91391,     0.91491,     0.91592,     0.91692,     0.91792,     0.91892,     0.91992,     0.92092,     0.92192,     0.92292,     0.92392,     0.92492,     0.92593,     0.92693,     0.92793,     0.92893,     0.92993,     0.93093,     0.93193,     0.93293,     0.93393,     0.93493,     0.93594,\n",
              "           0.93694,     0.93794,     0.93894,     0.93994,     0.94094,     0.94194,     0.94294,     0.94394,     0.94494,     0.94595,     0.94695,     0.94795,     0.94895,     0.94995,     0.95095,     0.95195,     0.95295,     0.95395,     0.95495,     0.95596,     0.95696,     0.95796,     0.95896,     0.95996,\n",
              "           0.96096,     0.96196,     0.96296,     0.96396,     0.96496,     0.96597,     0.96697,     0.96797,     0.96897,     0.96997,     0.97097,     0.97197,     0.97297,     0.97397,     0.97497,     0.97598,     0.97698,     0.97798,     0.97898,     0.97998,     0.98098,     0.98198,     0.98298,     0.98398,\n",
              "           0.98498,     0.98599,     0.98699,     0.98799,     0.98899,     0.98999,     0.99099,     0.99199,     0.99299,     0.99399,     0.99499,       0.996,       0.997,       0.998,       0.999,           1]), array([[    0.14573,     0.14573,     0.19937, ...,           0,           0,           0],\n",
              "       [    0.23242,     0.23242,     0.31453, ...,           0,           0,           0]]), 'Confidence', 'F1'], [array([          0,    0.001001,    0.002002,    0.003003,    0.004004,    0.005005,    0.006006,    0.007007,    0.008008,    0.009009,     0.01001,    0.011011,    0.012012,    0.013013,    0.014014,    0.015015,    0.016016,    0.017017,    0.018018,    0.019019,     0.02002,    0.021021,    0.022022,    0.023023,\n",
              "          0.024024,    0.025025,    0.026026,    0.027027,    0.028028,    0.029029,     0.03003,    0.031031,    0.032032,    0.033033,    0.034034,    0.035035,    0.036036,    0.037037,    0.038038,    0.039039,     0.04004,    0.041041,    0.042042,    0.043043,    0.044044,    0.045045,    0.046046,    0.047047,\n",
              "          0.048048,    0.049049,     0.05005,    0.051051,    0.052052,    0.053053,    0.054054,    0.055055,    0.056056,    0.057057,    0.058058,    0.059059,     0.06006,    0.061061,    0.062062,    0.063063,    0.064064,    0.065065,    0.066066,    0.067067,    0.068068,    0.069069,     0.07007,    0.071071,\n",
              "          0.072072,    0.073073,    0.074074,    0.075075,    0.076076,    0.077077,    0.078078,    0.079079,     0.08008,    0.081081,    0.082082,    0.083083,    0.084084,    0.085085,    0.086086,    0.087087,    0.088088,    0.089089,     0.09009,    0.091091,    0.092092,    0.093093,    0.094094,    0.095095,\n",
              "          0.096096,    0.097097,    0.098098,    0.099099,      0.1001,      0.1011,      0.1021,      0.1031,      0.1041,     0.10511,     0.10611,     0.10711,     0.10811,     0.10911,     0.11011,     0.11111,     0.11211,     0.11311,     0.11411,     0.11512,     0.11612,     0.11712,     0.11812,     0.11912,\n",
              "           0.12012,     0.12112,     0.12212,     0.12312,     0.12412,     0.12513,     0.12613,     0.12713,     0.12813,     0.12913,     0.13013,     0.13113,     0.13213,     0.13313,     0.13413,     0.13514,     0.13614,     0.13714,     0.13814,     0.13914,     0.14014,     0.14114,     0.14214,     0.14314,\n",
              "           0.14414,     0.14515,     0.14615,     0.14715,     0.14815,     0.14915,     0.15015,     0.15115,     0.15215,     0.15315,     0.15415,     0.15516,     0.15616,     0.15716,     0.15816,     0.15916,     0.16016,     0.16116,     0.16216,     0.16316,     0.16416,     0.16517,     0.16617,     0.16717,\n",
              "           0.16817,     0.16917,     0.17017,     0.17117,     0.17217,     0.17317,     0.17417,     0.17518,     0.17618,     0.17718,     0.17818,     0.17918,     0.18018,     0.18118,     0.18218,     0.18318,     0.18418,     0.18519,     0.18619,     0.18719,     0.18819,     0.18919,     0.19019,     0.19119,\n",
              "           0.19219,     0.19319,     0.19419,      0.1952,      0.1962,      0.1972,      0.1982,      0.1992,      0.2002,      0.2012,      0.2022,      0.2032,      0.2042,     0.20521,     0.20621,     0.20721,     0.20821,     0.20921,     0.21021,     0.21121,     0.21221,     0.21321,     0.21421,     0.21522,\n",
              "           0.21622,     0.21722,     0.21822,     0.21922,     0.22022,     0.22122,     0.22222,     0.22322,     0.22422,     0.22523,     0.22623,     0.22723,     0.22823,     0.22923,     0.23023,     0.23123,     0.23223,     0.23323,     0.23423,     0.23524,     0.23624,     0.23724,     0.23824,     0.23924,\n",
              "           0.24024,     0.24124,     0.24224,     0.24324,     0.24424,     0.24525,     0.24625,     0.24725,     0.24825,     0.24925,     0.25025,     0.25125,     0.25225,     0.25325,     0.25425,     0.25526,     0.25626,     0.25726,     0.25826,     0.25926,     0.26026,     0.26126,     0.26226,     0.26326,\n",
              "           0.26426,     0.26527,     0.26627,     0.26727,     0.26827,     0.26927,     0.27027,     0.27127,     0.27227,     0.27327,     0.27427,     0.27528,     0.27628,     0.27728,     0.27828,     0.27928,     0.28028,     0.28128,     0.28228,     0.28328,     0.28428,     0.28529,     0.28629,     0.28729,\n",
              "           0.28829,     0.28929,     0.29029,     0.29129,     0.29229,     0.29329,     0.29429,      0.2953,      0.2963,      0.2973,      0.2983,      0.2993,      0.3003,      0.3013,      0.3023,      0.3033,      0.3043,     0.30531,     0.30631,     0.30731,     0.30831,     0.30931,     0.31031,     0.31131,\n",
              "           0.31231,     0.31331,     0.31431,     0.31532,     0.31632,     0.31732,     0.31832,     0.31932,     0.32032,     0.32132,     0.32232,     0.32332,     0.32432,     0.32533,     0.32633,     0.32733,     0.32833,     0.32933,     0.33033,     0.33133,     0.33233,     0.33333,     0.33433,     0.33534,\n",
              "           0.33634,     0.33734,     0.33834,     0.33934,     0.34034,     0.34134,     0.34234,     0.34334,     0.34434,     0.34535,     0.34635,     0.34735,     0.34835,     0.34935,     0.35035,     0.35135,     0.35235,     0.35335,     0.35435,     0.35536,     0.35636,     0.35736,     0.35836,     0.35936,\n",
              "           0.36036,     0.36136,     0.36236,     0.36336,     0.36436,     0.36537,     0.36637,     0.36737,     0.36837,     0.36937,     0.37037,     0.37137,     0.37237,     0.37337,     0.37437,     0.37538,     0.37638,     0.37738,     0.37838,     0.37938,     0.38038,     0.38138,     0.38238,     0.38338,\n",
              "           0.38438,     0.38539,     0.38639,     0.38739,     0.38839,     0.38939,     0.39039,     0.39139,     0.39239,     0.39339,     0.39439,      0.3954,      0.3964,      0.3974,      0.3984,      0.3994,      0.4004,      0.4014,      0.4024,      0.4034,      0.4044,     0.40541,     0.40641,     0.40741,\n",
              "           0.40841,     0.40941,     0.41041,     0.41141,     0.41241,     0.41341,     0.41441,     0.41542,     0.41642,     0.41742,     0.41842,     0.41942,     0.42042,     0.42142,     0.42242,     0.42342,     0.42442,     0.42543,     0.42643,     0.42743,     0.42843,     0.42943,     0.43043,     0.43143,\n",
              "           0.43243,     0.43343,     0.43443,     0.43544,     0.43644,     0.43744,     0.43844,     0.43944,     0.44044,     0.44144,     0.44244,     0.44344,     0.44444,     0.44545,     0.44645,     0.44745,     0.44845,     0.44945,     0.45045,     0.45145,     0.45245,     0.45345,     0.45445,     0.45546,\n",
              "           0.45646,     0.45746,     0.45846,     0.45946,     0.46046,     0.46146,     0.46246,     0.46346,     0.46446,     0.46547,     0.46647,     0.46747,     0.46847,     0.46947,     0.47047,     0.47147,     0.47247,     0.47347,     0.47447,     0.47548,     0.47648,     0.47748,     0.47848,     0.47948,\n",
              "           0.48048,     0.48148,     0.48248,     0.48348,     0.48448,     0.48549,     0.48649,     0.48749,     0.48849,     0.48949,     0.49049,     0.49149,     0.49249,     0.49349,     0.49449,      0.4955,      0.4965,      0.4975,      0.4985,      0.4995,      0.5005,      0.5015,      0.5025,      0.5035,\n",
              "            0.5045,     0.50551,     0.50651,     0.50751,     0.50851,     0.50951,     0.51051,     0.51151,     0.51251,     0.51351,     0.51451,     0.51552,     0.51652,     0.51752,     0.51852,     0.51952,     0.52052,     0.52152,     0.52252,     0.52352,     0.52452,     0.52553,     0.52653,     0.52753,\n",
              "           0.52853,     0.52953,     0.53053,     0.53153,     0.53253,     0.53353,     0.53453,     0.53554,     0.53654,     0.53754,     0.53854,     0.53954,     0.54054,     0.54154,     0.54254,     0.54354,     0.54454,     0.54555,     0.54655,     0.54755,     0.54855,     0.54955,     0.55055,     0.55155,\n",
              "           0.55255,     0.55355,     0.55455,     0.55556,     0.55656,     0.55756,     0.55856,     0.55956,     0.56056,     0.56156,     0.56256,     0.56356,     0.56456,     0.56557,     0.56657,     0.56757,     0.56857,     0.56957,     0.57057,     0.57157,     0.57257,     0.57357,     0.57457,     0.57558,\n",
              "           0.57658,     0.57758,     0.57858,     0.57958,     0.58058,     0.58158,     0.58258,     0.58358,     0.58458,     0.58559,     0.58659,     0.58759,     0.58859,     0.58959,     0.59059,     0.59159,     0.59259,     0.59359,     0.59459,      0.5956,      0.5966,      0.5976,      0.5986,      0.5996,\n",
              "            0.6006,      0.6016,      0.6026,      0.6036,      0.6046,     0.60561,     0.60661,     0.60761,     0.60861,     0.60961,     0.61061,     0.61161,     0.61261,     0.61361,     0.61461,     0.61562,     0.61662,     0.61762,     0.61862,     0.61962,     0.62062,     0.62162,     0.62262,     0.62362,\n",
              "           0.62462,     0.62563,     0.62663,     0.62763,     0.62863,     0.62963,     0.63063,     0.63163,     0.63263,     0.63363,     0.63463,     0.63564,     0.63664,     0.63764,     0.63864,     0.63964,     0.64064,     0.64164,     0.64264,     0.64364,     0.64464,     0.64565,     0.64665,     0.64765,\n",
              "           0.64865,     0.64965,     0.65065,     0.65165,     0.65265,     0.65365,     0.65465,     0.65566,     0.65666,     0.65766,     0.65866,     0.65966,     0.66066,     0.66166,     0.66266,     0.66366,     0.66466,     0.66567,     0.66667,     0.66767,     0.66867,     0.66967,     0.67067,     0.67167,\n",
              "           0.67267,     0.67367,     0.67467,     0.67568,     0.67668,     0.67768,     0.67868,     0.67968,     0.68068,     0.68168,     0.68268,     0.68368,     0.68468,     0.68569,     0.68669,     0.68769,     0.68869,     0.68969,     0.69069,     0.69169,     0.69269,     0.69369,     0.69469,      0.6957,\n",
              "            0.6967,      0.6977,      0.6987,      0.6997,      0.7007,      0.7017,      0.7027,      0.7037,      0.7047,     0.70571,     0.70671,     0.70771,     0.70871,     0.70971,     0.71071,     0.71171,     0.71271,     0.71371,     0.71471,     0.71572,     0.71672,     0.71772,     0.71872,     0.71972,\n",
              "           0.72072,     0.72172,     0.72272,     0.72372,     0.72472,     0.72573,     0.72673,     0.72773,     0.72873,     0.72973,     0.73073,     0.73173,     0.73273,     0.73373,     0.73473,     0.73574,     0.73674,     0.73774,     0.73874,     0.73974,     0.74074,     0.74174,     0.74274,     0.74374,\n",
              "           0.74474,     0.74575,     0.74675,     0.74775,     0.74875,     0.74975,     0.75075,     0.75175,     0.75275,     0.75375,     0.75475,     0.75576,     0.75676,     0.75776,     0.75876,     0.75976,     0.76076,     0.76176,     0.76276,     0.76376,     0.76476,     0.76577,     0.76677,     0.76777,\n",
              "           0.76877,     0.76977,     0.77077,     0.77177,     0.77277,     0.77377,     0.77477,     0.77578,     0.77678,     0.77778,     0.77878,     0.77978,     0.78078,     0.78178,     0.78278,     0.78378,     0.78478,     0.78579,     0.78679,     0.78779,     0.78879,     0.78979,     0.79079,     0.79179,\n",
              "           0.79279,     0.79379,     0.79479,      0.7958,      0.7968,      0.7978,      0.7988,      0.7998,      0.8008,      0.8018,      0.8028,      0.8038,      0.8048,     0.80581,     0.80681,     0.80781,     0.80881,     0.80981,     0.81081,     0.81181,     0.81281,     0.81381,     0.81481,     0.81582,\n",
              "           0.81682,     0.81782,     0.81882,     0.81982,     0.82082,     0.82182,     0.82282,     0.82382,     0.82482,     0.82583,     0.82683,     0.82783,     0.82883,     0.82983,     0.83083,     0.83183,     0.83283,     0.83383,     0.83483,     0.83584,     0.83684,     0.83784,     0.83884,     0.83984,\n",
              "           0.84084,     0.84184,     0.84284,     0.84384,     0.84484,     0.84585,     0.84685,     0.84785,     0.84885,     0.84985,     0.85085,     0.85185,     0.85285,     0.85385,     0.85485,     0.85586,     0.85686,     0.85786,     0.85886,     0.85986,     0.86086,     0.86186,     0.86286,     0.86386,\n",
              "           0.86486,     0.86587,     0.86687,     0.86787,     0.86887,     0.86987,     0.87087,     0.87187,     0.87287,     0.87387,     0.87487,     0.87588,     0.87688,     0.87788,     0.87888,     0.87988,     0.88088,     0.88188,     0.88288,     0.88388,     0.88488,     0.88589,     0.88689,     0.88789,\n",
              "           0.88889,     0.88989,     0.89089,     0.89189,     0.89289,     0.89389,     0.89489,      0.8959,      0.8969,      0.8979,      0.8989,      0.8999,      0.9009,      0.9019,      0.9029,      0.9039,      0.9049,     0.90591,     0.90691,     0.90791,     0.90891,     0.90991,     0.91091,     0.91191,\n",
              "           0.91291,     0.91391,     0.91491,     0.91592,     0.91692,     0.91792,     0.91892,     0.91992,     0.92092,     0.92192,     0.92292,     0.92392,     0.92492,     0.92593,     0.92693,     0.92793,     0.92893,     0.92993,     0.93093,     0.93193,     0.93293,     0.93393,     0.93493,     0.93594,\n",
              "           0.93694,     0.93794,     0.93894,     0.93994,     0.94094,     0.94194,     0.94294,     0.94394,     0.94494,     0.94595,     0.94695,     0.94795,     0.94895,     0.94995,     0.95095,     0.95195,     0.95295,     0.95395,     0.95495,     0.95596,     0.95696,     0.95796,     0.95896,     0.95996,\n",
              "           0.96096,     0.96196,     0.96296,     0.96396,     0.96496,     0.96597,     0.96697,     0.96797,     0.96897,     0.96997,     0.97097,     0.97197,     0.97297,     0.97397,     0.97497,     0.97598,     0.97698,     0.97798,     0.97898,     0.97998,     0.98098,     0.98198,     0.98298,     0.98398,\n",
              "           0.98498,     0.98599,     0.98699,     0.98799,     0.98899,     0.98999,     0.99099,     0.99199,     0.99299,     0.99399,     0.99499,       0.996,       0.997,       0.998,       0.999,           1]), array([[   0.078719,    0.078719,     0.11107, ...,           1,           1,           1],\n",
              "       [    0.13164,     0.13164,     0.18702, ...,           1,           1,           1]]), 'Confidence', 'Precision'], [array([          0,    0.001001,    0.002002,    0.003003,    0.004004,    0.005005,    0.006006,    0.007007,    0.008008,    0.009009,     0.01001,    0.011011,    0.012012,    0.013013,    0.014014,    0.015015,    0.016016,    0.017017,    0.018018,    0.019019,     0.02002,    0.021021,    0.022022,    0.023023,\n",
              "          0.024024,    0.025025,    0.026026,    0.027027,    0.028028,    0.029029,     0.03003,    0.031031,    0.032032,    0.033033,    0.034034,    0.035035,    0.036036,    0.037037,    0.038038,    0.039039,     0.04004,    0.041041,    0.042042,    0.043043,    0.044044,    0.045045,    0.046046,    0.047047,\n",
              "          0.048048,    0.049049,     0.05005,    0.051051,    0.052052,    0.053053,    0.054054,    0.055055,    0.056056,    0.057057,    0.058058,    0.059059,     0.06006,    0.061061,    0.062062,    0.063063,    0.064064,    0.065065,    0.066066,    0.067067,    0.068068,    0.069069,     0.07007,    0.071071,\n",
              "          0.072072,    0.073073,    0.074074,    0.075075,    0.076076,    0.077077,    0.078078,    0.079079,     0.08008,    0.081081,    0.082082,    0.083083,    0.084084,    0.085085,    0.086086,    0.087087,    0.088088,    0.089089,     0.09009,    0.091091,    0.092092,    0.093093,    0.094094,    0.095095,\n",
              "          0.096096,    0.097097,    0.098098,    0.099099,      0.1001,      0.1011,      0.1021,      0.1031,      0.1041,     0.10511,     0.10611,     0.10711,     0.10811,     0.10911,     0.11011,     0.11111,     0.11211,     0.11311,     0.11411,     0.11512,     0.11612,     0.11712,     0.11812,     0.11912,\n",
              "           0.12012,     0.12112,     0.12212,     0.12312,     0.12412,     0.12513,     0.12613,     0.12713,     0.12813,     0.12913,     0.13013,     0.13113,     0.13213,     0.13313,     0.13413,     0.13514,     0.13614,     0.13714,     0.13814,     0.13914,     0.14014,     0.14114,     0.14214,     0.14314,\n",
              "           0.14414,     0.14515,     0.14615,     0.14715,     0.14815,     0.14915,     0.15015,     0.15115,     0.15215,     0.15315,     0.15415,     0.15516,     0.15616,     0.15716,     0.15816,     0.15916,     0.16016,     0.16116,     0.16216,     0.16316,     0.16416,     0.16517,     0.16617,     0.16717,\n",
              "           0.16817,     0.16917,     0.17017,     0.17117,     0.17217,     0.17317,     0.17417,     0.17518,     0.17618,     0.17718,     0.17818,     0.17918,     0.18018,     0.18118,     0.18218,     0.18318,     0.18418,     0.18519,     0.18619,     0.18719,     0.18819,     0.18919,     0.19019,     0.19119,\n",
              "           0.19219,     0.19319,     0.19419,      0.1952,      0.1962,      0.1972,      0.1982,      0.1992,      0.2002,      0.2012,      0.2022,      0.2032,      0.2042,     0.20521,     0.20621,     0.20721,     0.20821,     0.20921,     0.21021,     0.21121,     0.21221,     0.21321,     0.21421,     0.21522,\n",
              "           0.21622,     0.21722,     0.21822,     0.21922,     0.22022,     0.22122,     0.22222,     0.22322,     0.22422,     0.22523,     0.22623,     0.22723,     0.22823,     0.22923,     0.23023,     0.23123,     0.23223,     0.23323,     0.23423,     0.23524,     0.23624,     0.23724,     0.23824,     0.23924,\n",
              "           0.24024,     0.24124,     0.24224,     0.24324,     0.24424,     0.24525,     0.24625,     0.24725,     0.24825,     0.24925,     0.25025,     0.25125,     0.25225,     0.25325,     0.25425,     0.25526,     0.25626,     0.25726,     0.25826,     0.25926,     0.26026,     0.26126,     0.26226,     0.26326,\n",
              "           0.26426,     0.26527,     0.26627,     0.26727,     0.26827,     0.26927,     0.27027,     0.27127,     0.27227,     0.27327,     0.27427,     0.27528,     0.27628,     0.27728,     0.27828,     0.27928,     0.28028,     0.28128,     0.28228,     0.28328,     0.28428,     0.28529,     0.28629,     0.28729,\n",
              "           0.28829,     0.28929,     0.29029,     0.29129,     0.29229,     0.29329,     0.29429,      0.2953,      0.2963,      0.2973,      0.2983,      0.2993,      0.3003,      0.3013,      0.3023,      0.3033,      0.3043,     0.30531,     0.30631,     0.30731,     0.30831,     0.30931,     0.31031,     0.31131,\n",
              "           0.31231,     0.31331,     0.31431,     0.31532,     0.31632,     0.31732,     0.31832,     0.31932,     0.32032,     0.32132,     0.32232,     0.32332,     0.32432,     0.32533,     0.32633,     0.32733,     0.32833,     0.32933,     0.33033,     0.33133,     0.33233,     0.33333,     0.33433,     0.33534,\n",
              "           0.33634,     0.33734,     0.33834,     0.33934,     0.34034,     0.34134,     0.34234,     0.34334,     0.34434,     0.34535,     0.34635,     0.34735,     0.34835,     0.34935,     0.35035,     0.35135,     0.35235,     0.35335,     0.35435,     0.35536,     0.35636,     0.35736,     0.35836,     0.35936,\n",
              "           0.36036,     0.36136,     0.36236,     0.36336,     0.36436,     0.36537,     0.36637,     0.36737,     0.36837,     0.36937,     0.37037,     0.37137,     0.37237,     0.37337,     0.37437,     0.37538,     0.37638,     0.37738,     0.37838,     0.37938,     0.38038,     0.38138,     0.38238,     0.38338,\n",
              "           0.38438,     0.38539,     0.38639,     0.38739,     0.38839,     0.38939,     0.39039,     0.39139,     0.39239,     0.39339,     0.39439,      0.3954,      0.3964,      0.3974,      0.3984,      0.3994,      0.4004,      0.4014,      0.4024,      0.4034,      0.4044,     0.40541,     0.40641,     0.40741,\n",
              "           0.40841,     0.40941,     0.41041,     0.41141,     0.41241,     0.41341,     0.41441,     0.41542,     0.41642,     0.41742,     0.41842,     0.41942,     0.42042,     0.42142,     0.42242,     0.42342,     0.42442,     0.42543,     0.42643,     0.42743,     0.42843,     0.42943,     0.43043,     0.43143,\n",
              "           0.43243,     0.43343,     0.43443,     0.43544,     0.43644,     0.43744,     0.43844,     0.43944,     0.44044,     0.44144,     0.44244,     0.44344,     0.44444,     0.44545,     0.44645,     0.44745,     0.44845,     0.44945,     0.45045,     0.45145,     0.45245,     0.45345,     0.45445,     0.45546,\n",
              "           0.45646,     0.45746,     0.45846,     0.45946,     0.46046,     0.46146,     0.46246,     0.46346,     0.46446,     0.46547,     0.46647,     0.46747,     0.46847,     0.46947,     0.47047,     0.47147,     0.47247,     0.47347,     0.47447,     0.47548,     0.47648,     0.47748,     0.47848,     0.47948,\n",
              "           0.48048,     0.48148,     0.48248,     0.48348,     0.48448,     0.48549,     0.48649,     0.48749,     0.48849,     0.48949,     0.49049,     0.49149,     0.49249,     0.49349,     0.49449,      0.4955,      0.4965,      0.4975,      0.4985,      0.4995,      0.5005,      0.5015,      0.5025,      0.5035,\n",
              "            0.5045,     0.50551,     0.50651,     0.50751,     0.50851,     0.50951,     0.51051,     0.51151,     0.51251,     0.51351,     0.51451,     0.51552,     0.51652,     0.51752,     0.51852,     0.51952,     0.52052,     0.52152,     0.52252,     0.52352,     0.52452,     0.52553,     0.52653,     0.52753,\n",
              "           0.52853,     0.52953,     0.53053,     0.53153,     0.53253,     0.53353,     0.53453,     0.53554,     0.53654,     0.53754,     0.53854,     0.53954,     0.54054,     0.54154,     0.54254,     0.54354,     0.54454,     0.54555,     0.54655,     0.54755,     0.54855,     0.54955,     0.55055,     0.55155,\n",
              "           0.55255,     0.55355,     0.55455,     0.55556,     0.55656,     0.55756,     0.55856,     0.55956,     0.56056,     0.56156,     0.56256,     0.56356,     0.56456,     0.56557,     0.56657,     0.56757,     0.56857,     0.56957,     0.57057,     0.57157,     0.57257,     0.57357,     0.57457,     0.57558,\n",
              "           0.57658,     0.57758,     0.57858,     0.57958,     0.58058,     0.58158,     0.58258,     0.58358,     0.58458,     0.58559,     0.58659,     0.58759,     0.58859,     0.58959,     0.59059,     0.59159,     0.59259,     0.59359,     0.59459,      0.5956,      0.5966,      0.5976,      0.5986,      0.5996,\n",
              "            0.6006,      0.6016,      0.6026,      0.6036,      0.6046,     0.60561,     0.60661,     0.60761,     0.60861,     0.60961,     0.61061,     0.61161,     0.61261,     0.61361,     0.61461,     0.61562,     0.61662,     0.61762,     0.61862,     0.61962,     0.62062,     0.62162,     0.62262,     0.62362,\n",
              "           0.62462,     0.62563,     0.62663,     0.62763,     0.62863,     0.62963,     0.63063,     0.63163,     0.63263,     0.63363,     0.63463,     0.63564,     0.63664,     0.63764,     0.63864,     0.63964,     0.64064,     0.64164,     0.64264,     0.64364,     0.64464,     0.64565,     0.64665,     0.64765,\n",
              "           0.64865,     0.64965,     0.65065,     0.65165,     0.65265,     0.65365,     0.65465,     0.65566,     0.65666,     0.65766,     0.65866,     0.65966,     0.66066,     0.66166,     0.66266,     0.66366,     0.66466,     0.66567,     0.66667,     0.66767,     0.66867,     0.66967,     0.67067,     0.67167,\n",
              "           0.67267,     0.67367,     0.67467,     0.67568,     0.67668,     0.67768,     0.67868,     0.67968,     0.68068,     0.68168,     0.68268,     0.68368,     0.68468,     0.68569,     0.68669,     0.68769,     0.68869,     0.68969,     0.69069,     0.69169,     0.69269,     0.69369,     0.69469,      0.6957,\n",
              "            0.6967,      0.6977,      0.6987,      0.6997,      0.7007,      0.7017,      0.7027,      0.7037,      0.7047,     0.70571,     0.70671,     0.70771,     0.70871,     0.70971,     0.71071,     0.71171,     0.71271,     0.71371,     0.71471,     0.71572,     0.71672,     0.71772,     0.71872,     0.71972,\n",
              "           0.72072,     0.72172,     0.72272,     0.72372,     0.72472,     0.72573,     0.72673,     0.72773,     0.72873,     0.72973,     0.73073,     0.73173,     0.73273,     0.73373,     0.73473,     0.73574,     0.73674,     0.73774,     0.73874,     0.73974,     0.74074,     0.74174,     0.74274,     0.74374,\n",
              "           0.74474,     0.74575,     0.74675,     0.74775,     0.74875,     0.74975,     0.75075,     0.75175,     0.75275,     0.75375,     0.75475,     0.75576,     0.75676,     0.75776,     0.75876,     0.75976,     0.76076,     0.76176,     0.76276,     0.76376,     0.76476,     0.76577,     0.76677,     0.76777,\n",
              "           0.76877,     0.76977,     0.77077,     0.77177,     0.77277,     0.77377,     0.77477,     0.77578,     0.77678,     0.77778,     0.77878,     0.77978,     0.78078,     0.78178,     0.78278,     0.78378,     0.78478,     0.78579,     0.78679,     0.78779,     0.78879,     0.78979,     0.79079,     0.79179,\n",
              "           0.79279,     0.79379,     0.79479,      0.7958,      0.7968,      0.7978,      0.7988,      0.7998,      0.8008,      0.8018,      0.8028,      0.8038,      0.8048,     0.80581,     0.80681,     0.80781,     0.80881,     0.80981,     0.81081,     0.81181,     0.81281,     0.81381,     0.81481,     0.81582,\n",
              "           0.81682,     0.81782,     0.81882,     0.81982,     0.82082,     0.82182,     0.82282,     0.82382,     0.82482,     0.82583,     0.82683,     0.82783,     0.82883,     0.82983,     0.83083,     0.83183,     0.83283,     0.83383,     0.83483,     0.83584,     0.83684,     0.83784,     0.83884,     0.83984,\n",
              "           0.84084,     0.84184,     0.84284,     0.84384,     0.84484,     0.84585,     0.84685,     0.84785,     0.84885,     0.84985,     0.85085,     0.85185,     0.85285,     0.85385,     0.85485,     0.85586,     0.85686,     0.85786,     0.85886,     0.85986,     0.86086,     0.86186,     0.86286,     0.86386,\n",
              "           0.86486,     0.86587,     0.86687,     0.86787,     0.86887,     0.86987,     0.87087,     0.87187,     0.87287,     0.87387,     0.87487,     0.87588,     0.87688,     0.87788,     0.87888,     0.87988,     0.88088,     0.88188,     0.88288,     0.88388,     0.88488,     0.88589,     0.88689,     0.88789,\n",
              "           0.88889,     0.88989,     0.89089,     0.89189,     0.89289,     0.89389,     0.89489,      0.8959,      0.8969,      0.8979,      0.8989,      0.8999,      0.9009,      0.9019,      0.9029,      0.9039,      0.9049,     0.90591,     0.90691,     0.90791,     0.90891,     0.90991,     0.91091,     0.91191,\n",
              "           0.91291,     0.91391,     0.91491,     0.91592,     0.91692,     0.91792,     0.91892,     0.91992,     0.92092,     0.92192,     0.92292,     0.92392,     0.92492,     0.92593,     0.92693,     0.92793,     0.92893,     0.92993,     0.93093,     0.93193,     0.93293,     0.93393,     0.93493,     0.93594,\n",
              "           0.93694,     0.93794,     0.93894,     0.93994,     0.94094,     0.94194,     0.94294,     0.94394,     0.94494,     0.94595,     0.94695,     0.94795,     0.94895,     0.94995,     0.95095,     0.95195,     0.95295,     0.95395,     0.95495,     0.95596,     0.95696,     0.95796,     0.95896,     0.95996,\n",
              "           0.96096,     0.96196,     0.96296,     0.96396,     0.96496,     0.96597,     0.96697,     0.96797,     0.96897,     0.96997,     0.97097,     0.97197,     0.97297,     0.97397,     0.97497,     0.97598,     0.97698,     0.97798,     0.97898,     0.97998,     0.98098,     0.98198,     0.98298,     0.98398,\n",
              "           0.98498,     0.98599,     0.98699,     0.98799,     0.98899,     0.98999,     0.99099,     0.99199,     0.99299,     0.99399,     0.99499,       0.996,       0.997,       0.998,       0.999,           1]), array([[    0.97973,     0.97973,     0.97297, ...,           0,           0,           0],\n",
              "       [    0.99143,     0.99143,     0.98857, ...,           0,           0,           0]]), 'Confidence', 'Recall']]\n",
              "fitness: 0.6561770853455278\n",
              "keys: ['metrics/precision(B)', 'metrics/recall(B)', 'metrics/mAP50(B)', 'metrics/mAP50-95(B)']\n",
              "maps: array([    0.57236,     0.69816])\n",
              "names: {0: 'nonviolence', 1: 'violence'}\n",
              "plot: True\n",
              "results_dict: {'metrics/precision(B)': 0.7941437448614956, 'metrics/recall(B)': 0.7695238566268972, 'metrics/mAP50(B)': 0.8444382028506655, 'metrics/mAP50-95(B)': 0.6352591834005124, 'fitness': 0.6561770853455278}\n",
              "save_dir: PosixPath('runs/detect/train')\n",
              "speed: {'preprocess': 0.29796630591900397, 'inference': 2.4033221657168684, 'loss': 0.001083829367101093, 'postprocess': 3.0081467158806343}\n",
              "task: 'detect'"
            ]
          },
          "metadata": {},
          "execution_count": 8
        }
      ]
    },
    {
      "cell_type": "markdown",
      "source": [
        "# Test Model Results"
      ],
      "metadata": {
        "id": "gk7JctyFIrl6"
      }
    },
    {
      "cell_type": "code",
      "source": [
        "# Define path to video file\n",
        "source = \"/content/violence.mp4\"\n",
        "\n",
        "# Run inference on the source\n",
        "results = model(source, stream=True)  # generator of Results objects"
      ],
      "metadata": {
        "id": "sLjZeUG_qU53"
      },
      "execution_count": null,
      "outputs": []
    },
    {
      "cell_type": "markdown",
      "source": [
        "### Extract Frames"
      ],
      "metadata": {
        "id": "TNZu2GRcI2lm"
      }
    },
    {
      "cell_type": "code",
      "source": [
        "import cv2\n",
        "import os\n",
        "\n",
        "# Initialize a list to hold frames (optional if you want to save them directly)\n",
        "frames = []\n",
        "\n",
        "# Specify the output folder where the frames will be saved\n",
        "output_folder = 'extracted_frames'\n",
        "os.makedirs(output_folder, exist_ok=True)  # Create the folder if it doesn't exist\n",
        "\n",
        "# Process results list\n",
        "for idx, result in enumerate(results):\n",
        "    # Extract result details (if needed)\n",
        "    boxes = result.boxes\n",
        "    masks = result.masks\n",
        "    keypoints = result.keypoints\n",
        "    probs = result.probs\n",
        "    obb = result.obb\n",
        "\n",
        "    # Use result.plot() to get the annotated image as a NumPy array\n",
        "    annotated_frame = result.plot()\n",
        "    frames.append(annotated_frame)\n",
        "\n",
        "    # Construct the filename for the image\n",
        "    image_filename = os.path.join(output_folder, f'frame_{idx:04d}.png')  # e.g., frame_0001.png\n",
        "\n",
        "    # Save the frame as an image file\n",
        "    cv2.imwrite(image_filename, annotated_frame)\n",
        "\n",
        "print(f\"Frames have been saved to the folder: {output_folder}\")\n"
      ],
      "metadata": {
        "colab": {
          "base_uri": "https://localhost:8080/"
        },
        "id": "d_kH87fzpvGj",
        "outputId": "0e1fe77d-04cf-4965-e8da-7a34f06ba7cd"
      },
      "execution_count": null,
      "outputs": [
        {
          "output_type": "stream",
          "name": "stdout",
          "text": [
            "\n",
            "video 1/1 (frame 1/162) /content/violence.mp4: 384x640 2 violences, 47.8ms\n",
            "video 1/1 (frame 2/162) /content/violence.mp4: 384x640 1 violence, 8.0ms\n",
            "video 1/1 (frame 3/162) /content/violence.mp4: 384x640 3 violences, 11.2ms\n",
            "video 1/1 (frame 4/162) /content/violence.mp4: 384x640 3 violences, 11.2ms\n",
            "video 1/1 (frame 5/162) /content/violence.mp4: 384x640 2 violences, 7.7ms\n",
            "video 1/1 (frame 6/162) /content/violence.mp4: 384x640 2 violences, 8.2ms\n",
            "video 1/1 (frame 7/162) /content/violence.mp4: 384x640 1 violence, 6.7ms\n",
            "video 1/1 (frame 8/162) /content/violence.mp4: 384x640 2 violences, 7.9ms\n",
            "video 1/1 (frame 9/162) /content/violence.mp4: 384x640 2 violences, 7.6ms\n",
            "video 1/1 (frame 10/162) /content/violence.mp4: 384x640 3 violences, 7.2ms\n",
            "video 1/1 (frame 11/162) /content/violence.mp4: 384x640 1 violence, 8.8ms\n",
            "video 1/1 (frame 12/162) /content/violence.mp4: 384x640 1 violence, 6.7ms\n",
            "video 1/1 (frame 13/162) /content/violence.mp4: 384x640 1 violence, 11.6ms\n",
            "video 1/1 (frame 14/162) /content/violence.mp4: 384x640 2 violences, 7.8ms\n",
            "video 1/1 (frame 15/162) /content/violence.mp4: 384x640 2 violences, 13.3ms\n",
            "video 1/1 (frame 16/162) /content/violence.mp4: 384x640 1 violence, 8.9ms\n",
            "video 1/1 (frame 17/162) /content/violence.mp4: 384x640 2 violences, 8.1ms\n",
            "video 1/1 (frame 18/162) /content/violence.mp4: 384x640 3 violences, 8.8ms\n",
            "video 1/1 (frame 19/162) /content/violence.mp4: 384x640 3 violences, 7.8ms\n",
            "video 1/1 (frame 20/162) /content/violence.mp4: 384x640 2 violences, 7.9ms\n",
            "video 1/1 (frame 21/162) /content/violence.mp4: 384x640 2 violences, 7.1ms\n",
            "video 1/1 (frame 22/162) /content/violence.mp4: 384x640 2 violences, 7.8ms\n",
            "video 1/1 (frame 23/162) /content/violence.mp4: 384x640 3 violences, 7.8ms\n",
            "video 1/1 (frame 24/162) /content/violence.mp4: 384x640 2 violences, 7.8ms\n",
            "video 1/1 (frame 25/162) /content/violence.mp4: 384x640 2 violences, 8.3ms\n",
            "video 1/1 (frame 26/162) /content/violence.mp4: 384x640 2 violences, 7.6ms\n",
            "video 1/1 (frame 27/162) /content/violence.mp4: 384x640 1 violence, 10.6ms\n",
            "video 1/1 (frame 28/162) /content/violence.mp4: 384x640 1 violence, 6.7ms\n",
            "video 1/1 (frame 29/162) /content/violence.mp4: 384x640 1 violence, 6.9ms\n",
            "video 1/1 (frame 30/162) /content/violence.mp4: 384x640 1 violence, 7.9ms\n",
            "video 1/1 (frame 31/162) /content/violence.mp4: 384x640 1 violence, 7.8ms\n",
            "video 1/1 (frame 32/162) /content/violence.mp4: 384x640 1 violence, 8.6ms\n",
            "video 1/1 (frame 33/162) /content/violence.mp4: 384x640 2 violences, 7.0ms\n",
            "video 1/1 (frame 34/162) /content/violence.mp4: 384x640 1 violence, 6.7ms\n",
            "video 1/1 (frame 35/162) /content/violence.mp4: 384x640 1 violence, 7.9ms\n",
            "video 1/1 (frame 36/162) /content/violence.mp4: 384x640 1 nonviolence, 1 violence, 6.9ms\n",
            "video 1/1 (frame 37/162) /content/violence.mp4: 384x640 3 violences, 7.1ms\n",
            "video 1/1 (frame 38/162) /content/violence.mp4: 384x640 1 nonviolence, 1 violence, 12.2ms\n",
            "video 1/1 (frame 39/162) /content/violence.mp4: 384x640 2 violences, 7.8ms\n",
            "video 1/1 (frame 40/162) /content/violence.mp4: 384x640 1 violence, 8.7ms\n",
            "video 1/1 (frame 41/162) /content/violence.mp4: 384x640 2 violences, 7.0ms\n",
            "video 1/1 (frame 42/162) /content/violence.mp4: 384x640 1 violence, 7.8ms\n",
            "video 1/1 (frame 43/162) /content/violence.mp4: 384x640 2 violences, 6.9ms\n",
            "video 1/1 (frame 44/162) /content/violence.mp4: 384x640 2 violences, 7.1ms\n",
            "video 1/1 (frame 45/162) /content/violence.mp4: 384x640 2 violences, 7.6ms\n",
            "video 1/1 (frame 46/162) /content/violence.mp4: 384x640 1 violence, 7.4ms\n",
            "video 1/1 (frame 47/162) /content/violence.mp4: 384x640 1 violence, 7.6ms\n",
            "video 1/1 (frame 48/162) /content/violence.mp4: 384x640 2 violences, 7.7ms\n",
            "video 1/1 (frame 49/162) /content/violence.mp4: 384x640 1 violence, 8.2ms\n",
            "video 1/1 (frame 50/162) /content/violence.mp4: 384x640 2 violences, 8.0ms\n",
            "video 1/1 (frame 51/162) /content/violence.mp4: 384x640 2 violences, 7.7ms\n",
            "video 1/1 (frame 52/162) /content/violence.mp4: 384x640 1 violence, 7.6ms\n",
            "video 1/1 (frame 53/162) /content/violence.mp4: 384x640 2 violences, 9.1ms\n",
            "video 1/1 (frame 54/162) /content/violence.mp4: 384x640 2 violences, 7.0ms\n",
            "video 1/1 (frame 55/162) /content/violence.mp4: 384x640 1 violence, 6.7ms\n",
            "video 1/1 (frame 56/162) /content/violence.mp4: 384x640 1 violence, 7.8ms\n",
            "video 1/1 (frame 57/162) /content/violence.mp4: 384x640 2 violences, 7.5ms\n",
            "video 1/1 (frame 58/162) /content/violence.mp4: 384x640 1 violence, 9.9ms\n",
            "video 1/1 (frame 59/162) /content/violence.mp4: 384x640 2 violences, 7.2ms\n",
            "video 1/1 (frame 60/162) /content/violence.mp4: 384x640 2 violences, 7.0ms\n",
            "video 1/1 (frame 61/162) /content/violence.mp4: 384x640 2 violences, 7.8ms\n",
            "video 1/1 (frame 62/162) /content/violence.mp4: 384x640 1 violence, 7.8ms\n",
            "video 1/1 (frame 63/162) /content/violence.mp4: 384x640 1 violence, 7.6ms\n",
            "video 1/1 (frame 64/162) /content/violence.mp4: 384x640 1 violence, 6.9ms\n",
            "video 1/1 (frame 65/162) /content/violence.mp4: 384x640 (no detections), 7.1ms\n",
            "video 1/1 (frame 66/162) /content/violence.mp4: 384x640 (no detections), 10.7ms\n",
            "video 1/1 (frame 67/162) /content/violence.mp4: 384x640 1 violence, 7.9ms\n",
            "video 1/1 (frame 68/162) /content/violence.mp4: 384x640 1 violence, 7.6ms\n",
            "video 1/1 (frame 69/162) /content/violence.mp4: 384x640 1 violence, 6.9ms\n",
            "video 1/1 (frame 70/162) /content/violence.mp4: 384x640 1 violence, 7.2ms\n",
            "video 1/1 (frame 71/162) /content/violence.mp4: 384x640 1 violence, 7.5ms\n",
            "video 1/1 (frame 72/162) /content/violence.mp4: 384x640 1 violence, 6.7ms\n",
            "video 1/1 (frame 73/162) /content/violence.mp4: 384x640 2 violences, 7.3ms\n",
            "video 1/1 (frame 74/162) /content/violence.mp4: 384x640 2 violences, 7.6ms\n",
            "video 1/1 (frame 75/162) /content/violence.mp4: 384x640 1 violence, 7.5ms\n",
            "video 1/1 (frame 76/162) /content/violence.mp4: 384x640 1 violence, 8.2ms\n",
            "video 1/1 (frame 77/162) /content/violence.mp4: 384x640 1 violence, 7.0ms\n",
            "video 1/1 (frame 78/162) /content/violence.mp4: 384x640 1 violence, 8.5ms\n",
            "video 1/1 (frame 79/162) /content/violence.mp4: 384x640 1 violence, 7.2ms\n",
            "video 1/1 (frame 80/162) /content/violence.mp4: 384x640 1 violence, 7.7ms\n",
            "video 1/1 (frame 81/162) /content/violence.mp4: 384x640 1 violence, 7.2ms\n",
            "video 1/1 (frame 82/162) /content/violence.mp4: 384x640 2 violences, 7.0ms\n",
            "video 1/1 (frame 83/162) /content/violence.mp4: 384x640 2 violences, 8.1ms\n",
            "video 1/1 (frame 84/162) /content/violence.mp4: 384x640 1 violence, 7.2ms\n",
            "video 1/1 (frame 85/162) /content/violence.mp4: 384x640 1 violence, 10.1ms\n",
            "video 1/1 (frame 86/162) /content/violence.mp4: 384x640 1 violence, 9.8ms\n",
            "video 1/1 (frame 87/162) /content/violence.mp4: 384x640 1 violence, 13.8ms\n",
            "video 1/1 (frame 88/162) /content/violence.mp4: 384x640 1 nonviolence, 1 violence, 14.8ms\n",
            "video 1/1 (frame 89/162) /content/violence.mp4: 384x640 1 nonviolence, 1 violence, 8.8ms\n",
            "video 1/1 (frame 90/162) /content/violence.mp4: 384x640 1 nonviolence, 8.5ms\n",
            "video 1/1 (frame 91/162) /content/violence.mp4: 384x640 1 nonviolence, 9.8ms\n",
            "video 1/1 (frame 92/162) /content/violence.mp4: 384x640 (no detections), 8.4ms\n",
            "video 1/1 (frame 93/162) /content/violence.mp4: 384x640 1 violence, 8.1ms\n",
            "video 1/1 (frame 94/162) /content/violence.mp4: 384x640 1 violence, 8.1ms\n",
            "video 1/1 (frame 95/162) /content/violence.mp4: 384x640 1 nonviolence, 2 violences, 12.8ms\n",
            "video 1/1 (frame 96/162) /content/violence.mp4: 384x640 2 violences, 11.2ms\n",
            "video 1/1 (frame 97/162) /content/violence.mp4: 384x640 2 violences, 8.7ms\n",
            "video 1/1 (frame 98/162) /content/violence.mp4: 384x640 1 nonviolence, 10.2ms\n",
            "video 1/1 (frame 99/162) /content/violence.mp4: 384x640 1 nonviolence, 2 violences, 11.2ms\n",
            "video 1/1 (frame 100/162) /content/violence.mp4: 384x640 3 violences, 9.1ms\n",
            "video 1/1 (frame 101/162) /content/violence.mp4: 384x640 1 nonviolence, 2 violences, 13.9ms\n",
            "video 1/1 (frame 102/162) /content/violence.mp4: 384x640 1 nonviolence, 2 violences, 8.5ms\n",
            "video 1/1 (frame 103/162) /content/violence.mp4: 384x640 2 nonviolences, 3 violences, 8.3ms\n",
            "video 1/1 (frame 104/162) /content/violence.mp4: 384x640 1 nonviolence, 2 violences, 8.2ms\n",
            "video 1/1 (frame 105/162) /content/violence.mp4: 384x640 1 nonviolence, 1 violence, 8.3ms\n",
            "video 1/1 (frame 106/162) /content/violence.mp4: 384x640 1 nonviolence, 1 violence, 8.4ms\n",
            "video 1/1 (frame 107/162) /content/violence.mp4: 384x640 1 nonviolence, 1 violence, 8.1ms\n",
            "video 1/1 (frame 108/162) /content/violence.mp4: 384x640 1 nonviolence, 1 violence, 14.0ms\n",
            "video 1/1 (frame 109/162) /content/violence.mp4: 384x640 1 nonviolence, 2 violences, 9.4ms\n",
            "video 1/1 (frame 110/162) /content/violence.mp4: 384x640 1 nonviolence, 1 violence, 14.7ms\n",
            "video 1/1 (frame 111/162) /content/violence.mp4: 384x640 1 nonviolence, 2 violences, 8.7ms\n",
            "video 1/1 (frame 112/162) /content/violence.mp4: 384x640 2 violences, 17.1ms\n",
            "video 1/1 (frame 113/162) /content/violence.mp4: 384x640 1 nonviolence, 2 violences, 11.8ms\n",
            "video 1/1 (frame 114/162) /content/violence.mp4: 384x640 1 nonviolence, 3 violences, 47.2ms\n",
            "video 1/1 (frame 115/162) /content/violence.mp4: 384x640 1 nonviolence, 4 violences, 11.0ms\n",
            "video 1/1 (frame 116/162) /content/violence.mp4: 384x640 1 nonviolence, 2 violences, 11.3ms\n",
            "video 1/1 (frame 117/162) /content/violence.mp4: 384x640 1 nonviolence, 3 violences, 10.9ms\n",
            "video 1/1 (frame 118/162) /content/violence.mp4: 384x640 1 nonviolence, 3 violences, 10.1ms\n",
            "video 1/1 (frame 119/162) /content/violence.mp4: 384x640 2 violences, 10.2ms\n",
            "video 1/1 (frame 120/162) /content/violence.mp4: 384x640 2 violences, 9.8ms\n",
            "video 1/1 (frame 121/162) /content/violence.mp4: 384x640 2 violences, 11.3ms\n",
            "video 1/1 (frame 122/162) /content/violence.mp4: 384x640 1 nonviolence, 2 violences, 11.8ms\n",
            "video 1/1 (frame 123/162) /content/violence.mp4: 384x640 1 nonviolence, 1 violence, 9.9ms\n",
            "video 1/1 (frame 124/162) /content/violence.mp4: 384x640 2 nonviolences, 1 violence, 15.9ms\n",
            "video 1/1 (frame 125/162) /content/violence.mp4: 384x640 1 violence, 13.3ms\n",
            "video 1/1 (frame 126/162) /content/violence.mp4: 384x640 1 nonviolence, 2 violences, 11.6ms\n",
            "video 1/1 (frame 127/162) /content/violence.mp4: 384x640 1 violence, 10.4ms\n",
            "video 1/1 (frame 128/162) /content/violence.mp4: 384x640 1 violence, 10.5ms\n",
            "video 1/1 (frame 129/162) /content/violence.mp4: 384x640 1 violence, 13.8ms\n",
            "video 1/1 (frame 130/162) /content/violence.mp4: 384x640 1 violence, 11.1ms\n",
            "video 1/1 (frame 131/162) /content/violence.mp4: 384x640 2 violences, 10.4ms\n",
            "video 1/1 (frame 132/162) /content/violence.mp4: 384x640 2 violences, 11.9ms\n",
            "video 1/1 (frame 133/162) /content/violence.mp4: 384x640 1 violence, 15.8ms\n",
            "video 1/1 (frame 134/162) /content/violence.mp4: 384x640 1 violence, 13.9ms\n",
            "video 1/1 (frame 135/162) /content/violence.mp4: 384x640 1 violence, 18.8ms\n",
            "video 1/1 (frame 136/162) /content/violence.mp4: 384x640 2 violences, 10.8ms\n",
            "video 1/1 (frame 137/162) /content/violence.mp4: 384x640 4 violences, 11.8ms\n",
            "video 1/1 (frame 138/162) /content/violence.mp4: 384x640 1 violence, 12.3ms\n",
            "video 1/1 (frame 139/162) /content/violence.mp4: 384x640 1 violence, 13.1ms\n",
            "video 1/1 (frame 140/162) /content/violence.mp4: 384x640 1 violence, 7.9ms\n",
            "video 1/1 (frame 141/162) /content/violence.mp4: 384x640 1 nonviolence, 1 violence, 8.4ms\n",
            "video 1/1 (frame 142/162) /content/violence.mp4: 384x640 1 violence, 6.9ms\n",
            "video 1/1 (frame 143/162) /content/violence.mp4: 384x640 1 violence, 10.7ms\n",
            "video 1/1 (frame 144/162) /content/violence.mp4: 384x640 2 violences, 6.8ms\n",
            "video 1/1 (frame 145/162) /content/violence.mp4: 384x640 2 violences, 6.7ms\n",
            "video 1/1 (frame 146/162) /content/violence.mp4: 384x640 2 nonviolences, 1 violence, 8.0ms\n",
            "video 1/1 (frame 147/162) /content/violence.mp4: 384x640 2 nonviolences, 1 violence, 10.6ms\n",
            "video 1/1 (frame 148/162) /content/violence.mp4: 384x640 1 violence, 6.8ms\n",
            "video 1/1 (frame 149/162) /content/violence.mp4: 384x640 1 nonviolence, 2 violences, 12.2ms\n",
            "video 1/1 (frame 150/162) /content/violence.mp4: 384x640 2 violences, 18.8ms\n",
            "video 1/1 (frame 151/162) /content/violence.mp4: 384x640 2 violences, 8.0ms\n",
            "video 1/1 (frame 152/162) /content/violence.mp4: 384x640 1 violence, 7.8ms\n",
            "video 1/1 (frame 153/162) /content/violence.mp4: 384x640 1 violence, 7.3ms\n",
            "video 1/1 (frame 154/162) /content/violence.mp4: 384x640 1 violence, 8.2ms\n",
            "video 1/1 (frame 155/162) /content/violence.mp4: 384x640 1 violence, 7.2ms\n",
            "video 1/1 (frame 156/162) /content/violence.mp4: 384x640 (no detections), 6.8ms\n",
            "video 1/1 (frame 157/162) /content/violence.mp4: 384x640 1 nonviolence, 7.7ms\n",
            "video 1/1 (frame 158/162) /content/violence.mp4: 384x640 1 nonviolence, 1 violence, 8.5ms\n",
            "video 1/1 (frame 159/162) /content/violence.mp4: 384x640 1 nonviolence, 1 violence, 10.8ms\n",
            "video 1/1 (frame 160/162) /content/violence.mp4: 384x640 2 violences, 7.0ms\n",
            "video 1/1 (frame 161/162) /content/violence.mp4: 384x640 2 violences, 6.7ms\n",
            "video 1/1 (frame 162/162) /content/violence.mp4: 384x640 2 violences, 7.0ms\n",
            "Speed: 2.2ms preprocess, 9.6ms inference, 1.7ms postprocess per image at shape (1, 3, 384, 640)\n",
            "Frames have been saved to the folder: extracted_frames\n"
          ]
        }
      ]
    },
    {
      "cell_type": "code",
      "source": [
        "!pip install transformers"
      ],
      "metadata": {
        "colab": {
          "base_uri": "https://localhost:8080/"
        },
        "id": "HGI7Tmr7q4qi",
        "outputId": "ac82ad6e-5beb-4967-ebb6-0baa00753b5b"
      },
      "execution_count": null,
      "outputs": [
        {
          "output_type": "stream",
          "name": "stdout",
          "text": [
            "Requirement already satisfied: transformers in /usr/local/lib/python3.10/dist-packages (4.44.2)\n",
            "Requirement already satisfied: filelock in /usr/local/lib/python3.10/dist-packages (from transformers) (3.16.0)\n",
            "Requirement already satisfied: huggingface-hub<1.0,>=0.23.2 in /usr/local/lib/python3.10/dist-packages (from transformers) (0.24.7)\n",
            "Requirement already satisfied: numpy>=1.17 in /usr/local/lib/python3.10/dist-packages (from transformers) (1.26.4)\n",
            "Requirement already satisfied: packaging>=20.0 in /usr/local/lib/python3.10/dist-packages (from transformers) (24.1)\n",
            "Requirement already satisfied: pyyaml>=5.1 in /usr/local/lib/python3.10/dist-packages (from transformers) (6.0.2)\n",
            "Requirement already satisfied: regex!=2019.12.17 in /usr/local/lib/python3.10/dist-packages (from transformers) (2024.9.11)\n",
            "Requirement already satisfied: requests in /usr/local/lib/python3.10/dist-packages (from transformers) (2.32.3)\n",
            "Requirement already satisfied: safetensors>=0.4.1 in /usr/local/lib/python3.10/dist-packages (from transformers) (0.4.5)\n",
            "Requirement already satisfied: tokenizers<0.20,>=0.19 in /usr/local/lib/python3.10/dist-packages (from transformers) (0.19.1)\n",
            "Requirement already satisfied: tqdm>=4.27 in /usr/local/lib/python3.10/dist-packages (from transformers) (4.66.5)\n",
            "Requirement already satisfied: fsspec>=2023.5.0 in /usr/local/lib/python3.10/dist-packages (from huggingface-hub<1.0,>=0.23.2->transformers) (2024.6.1)\n",
            "Requirement already satisfied: typing-extensions>=3.7.4.3 in /usr/local/lib/python3.10/dist-packages (from huggingface-hub<1.0,>=0.23.2->transformers) (4.12.2)\n",
            "Requirement already satisfied: charset-normalizer<4,>=2 in /usr/local/lib/python3.10/dist-packages (from requests->transformers) (3.3.2)\n",
            "Requirement already satisfied: idna<4,>=2.5 in /usr/local/lib/python3.10/dist-packages (from requests->transformers) (3.7)\n",
            "Requirement already satisfied: urllib3<3,>=1.21.1 in /usr/local/lib/python3.10/dist-packages (from requests->transformers) (2.0.7)\n",
            "Requirement already satisfied: certifi>=2017.4.17 in /usr/local/lib/python3.10/dist-packages (from requests->transformers) (2024.8.30)\n"
          ]
        }
      ]
    },
    {
      "cell_type": "markdown",
      "source": [
        "### Generate Cpations"
      ],
      "metadata": {
        "id": "iC52-ve8JDvg"
      }
    },
    {
      "cell_type": "code",
      "source": [
        "from transformers import AutoProcessor, Blip2ForConditionalGeneration\n",
        "import torch\n",
        "# Load BLIP-2 processor and model\n",
        "processor = AutoProcessor.from_pretrained(\"Salesforce/blip2-opt-2.7b\")\n",
        "model = Blip2ForConditionalGeneration.from_pretrained(\"Salesforce/blip2-opt-2.7b\", torch_dtype=torch.float16).to(\"cuda\")\n",
        "\n"
      ],
      "metadata": {
        "colab": {
          "base_uri": "https://localhost:8080/",
          "height": 214,
          "referenced_widgets": [
            "0f5b88b3f3bb487298262fcd849f44fb",
            "b9c0122de44d432ba3cc9f2a0039721b",
            "e3bdb2c57ea94da681f86756f1a41ba1",
            "5281699219914688a08352fe512ba550",
            "376cfe689a0d4a82bce3fd6f485eabd4",
            "5bf1693450ba4eb0a9eb18af681c7536",
            "15713fdedaed43be8c3f78d0ea61fe72",
            "146e2230a5c3464dbbe0c1f51b77164f",
            "1e281a754d78489db957b87f9f2750cb",
            "77147e46bcac45e3aa36b3e16cb8fe52",
            "f03febe5446f473c812843e79d3d5bd3"
          ]
        },
        "id": "vQbsPLB5q4M7",
        "outputId": "de43920b-b61b-447a-d3cf-9e40bd28ba36"
      },
      "execution_count": null,
      "outputs": [
        {
          "output_type": "stream",
          "name": "stderr",
          "text": [
            "/usr/local/lib/python3.10/dist-packages/huggingface_hub/utils/_token.py:89: UserWarning: \n",
            "The secret `HF_TOKEN` does not exist in your Colab secrets.\n",
            "To authenticate with the Hugging Face Hub, create a token in your settings tab (https://huggingface.co/settings/tokens), set it as secret in your Google Colab and restart your session.\n",
            "You will be able to reuse this secret in all of your notebooks.\n",
            "Please note that authentication is recommended but still optional to access public models or datasets.\n",
            "  warnings.warn(\n",
            "/usr/local/lib/python3.10/dist-packages/transformers/tokenization_utils_base.py:1601: FutureWarning: `clean_up_tokenization_spaces` was not set. It will be set to `True` by default. This behavior will be depracted in transformers v4.45, and will be then set to `False` by default. For more details check this issue: https://github.com/huggingface/transformers/issues/31884\n",
            "  warnings.warn(\n"
          ]
        },
        {
          "output_type": "display_data",
          "data": {
            "text/plain": [
              "Loading checkpoint shards:   0%|          | 0/2 [00:00<?, ?it/s]"
            ],
            "application/vnd.jupyter.widget-view+json": {
              "version_major": 2,
              "version_minor": 0,
              "model_id": "0f5b88b3f3bb487298262fcd849f44fb"
            }
          },
          "metadata": {}
        }
      ]
    },
    {
      "cell_type": "code",
      "source": [
        "import os\n",
        "import cv2\n",
        "import torch\n",
        "from ultralytics import YOLO\n",
        "from transformers import AutoProcessor, Blip2ForConditionalGeneration\n",
        "# Load YOLOv8 model for violence detection\n",
        "yolo_model = YOLO('/content/drive/MyDrive/NTI_GP/runs/detect/train/weights/best.pt')\n",
        "\n",
        "# Load BLIP-2 processor and model for caption generation\n",
        "processor = AutoProcessor.from_pretrained(\"Salesforce/blip2-opt-2.7b\")\n",
        "caption_model = Blip2ForConditionalGeneration.from_pretrained(\"Salesforce/blip2-opt-2.7b\", torch_dtype=torch.float16).to(\"cuda\")\n",
        "\n",
        "# Function to generate caption using BLIP-2\n",
        "def generate_caption(frame):\n",
        "    inputs = processor(images=frame, return_tensors=\"pt\").to(\"cuda\", torch.float16)\n",
        "    with torch.no_grad():\n",
        "        generated_ids = caption_model.generate(**inputs, max_length=50)\n",
        "        caption = processor.decode(generated_ids[0], skip_special_tokens=True)\n",
        "    return caption\n",
        "\n",
        "# Function to overlay caption on the frame\n",
        "def overlay_caption_on_frame(frame, caption):\n",
        "    # Set font and positioning for the caption\n",
        "    font = cv2.FONT_HERSHEY_SIMPLEX\n",
        "    font_scale = 1\n",
        "    font_thickness = 2\n",
        "    caption_color = (255, 255, 255)  # White text\n",
        "    text_position = (50, 50)  # Position of the text on the frame\n",
        "\n",
        "    # Draw the caption on the frame\n",
        "    cv2.putText(frame, caption, text_position, font, font_scale, caption_color, font_thickness, cv2.LINE_AA)\n",
        "    return frame\n",
        "\n",
        "# Define folders and process results\n",
        "output_folder = 'processed_frames'\n",
        "captions_file = 'captions.txt3'  # Ensure correct path for captions\n",
        "os.makedirs(output_folder, exist_ok=True)\n",
        "\n",
        "# Open the file to save captions\n",
        "with open(captions_file, 'w') as f:\n",
        "    # Load frames from the directory\n",
        "    frames_folder = '/content/drive/MyDrive/NTI_GP/extracted_frames'\n",
        "    frame_files = [os.path.join(frames_folder, file) for file in os.listdir(frames_folder) if file.endswith(('.png', '.jpg'))]\n",
        "\n",
        "    for idx, frame_path in enumerate(frame_files):\n",
        "        # Load the frame\n",
        "        frame = cv2.imread(frame_path)\n",
        "\n",
        "        if frame is None:\n",
        "            print(f\"Error loading frame {frame_path}. Skipping.\")\n",
        "            continue\n",
        "\n",
        "        # Generate a caption using BLIP-2\n",
        "        caption = generate_caption(frame)\n",
        "\n",
        "        if caption:  # Check if the caption is not empty\n",
        "            print(f\"Generated caption for frame {idx}: {caption}\")\n",
        "\n",
        "            # Overlay caption on the frame\n",
        "            annotated_frame_with_caption = overlay_caption_on_frame(frame, caption)\n",
        "\n",
        "            # Save the frame with caption overlay\n",
        "            frame_filename = os.path.join(output_folder, f'frame_{idx:04d}.png')\n",
        "            cv2.imwrite(frame_filename, annotated_frame_with_caption)\n",
        "\n",
        "            # Save the caption in the captions file\n",
        "            f.write(f\"Frame {idx:04d}: {caption}\\n\")\n",
        "        else:\n",
        "            print(f\"Warning: No caption generated for frame {idx}\")\n",
        "\n",
        "print(f\"Processed frames saved to {output_folder} and captions saved to {captions_file}\")"
      ],
      "metadata": {
        "colab": {
          "base_uri": "https://localhost:8080/",
          "height": 1000,
          "referenced_widgets": [
            "63170daeccd747398d79ca0898345da4",
            "7c16a5f575554310998eb9e91a414857",
            "92784e6d291f4da78cb60fa0cb3c7b0c",
            "33d79a4295e44c1ba2fa765a08b45472",
            "38a6f8a1d4c2453e89fcab9c11bdfa63",
            "642975eb108743d7b9bfdaa9f39da3d6",
            "3661f4419ec74142ba610d555fe418c1",
            "6ec8e09ec1d1450a99869dfaff02c817",
            "de9acdbfb1c549bf8dcee7008eb58a8e",
            "fb6891f502bd4b519ab4b3f3e3152bc3",
            "87cc968e44e344339ed0dc7ce0b24a2f"
          ]
        },
        "id": "LO_fLGpq_CTW",
        "outputId": "91194aed-c061-4ee0-98ad-85b466603d23"
      },
      "execution_count": null,
      "outputs": [
        {
          "output_type": "stream",
          "name": "stderr",
          "text": [
            "/usr/local/lib/python3.10/dist-packages/transformers/tokenization_utils_base.py:1601: FutureWarning: `clean_up_tokenization_spaces` was not set. It will be set to `True` by default. This behavior will be depracted in transformers v4.45, and will be then set to `False` by default. For more details check this issue: https://github.com/huggingface/transformers/issues/31884\n",
            "  warnings.warn(\n"
          ]
        },
        {
          "output_type": "display_data",
          "data": {
            "text/plain": [
              "Loading checkpoint shards:   0%|          | 0/2 [00:00<?, ?it/s]"
            ],
            "application/vnd.jupyter.widget-view+json": {
              "version_major": 2,
              "version_minor": 0,
              "model_id": "63170daeccd747398d79ca0898345da4"
            }
          },
          "metadata": {}
        },
        {
          "output_type": "stream",
          "name": "stdout",
          "text": [
            "Generated caption for frame 0: a group of people are standing around a car\n",
            "\n",
            "Generated caption for frame 1: a group of people are fighting in the street\n",
            "\n",
            "Generated caption for frame 2: a group of people are shown in a video with a yellow box\n",
            "\n",
            "Generated caption for frame 3: a group of people are standing around a building\n",
            "\n",
            "Generated caption for frame 4: a group of people are standing around a building\n",
            "\n",
            "Generated caption for frame 5: a group of people are standing in front of a building\n",
            "\n",
            "Generated caption for frame 6: a group of people are standing around a blue door\n",
            "\n",
            "Generated caption for frame 7: two people are fighting in the street with one person being hit\n",
            "\n",
            "Generated caption for frame 8: a group of people are standing in front of a building\n",
            "\n",
            "Generated caption for frame 9: a group of people are standing in front of a car\n",
            "\n",
            "Generated caption for frame 10: a group of people are standing around a blue door\n",
            "\n",
            "Generated caption for frame 11: a group of people are fighting in a parking lot\n",
            "\n",
            "Generated caption for frame 12: a group of people are standing around a blue car\n",
            "\n",
            "Generated caption for frame 13: a group of people are standing in front of a car\n",
            "\n",
            "Generated caption for frame 14: a group of people are shown in a video with blue paint on their faces\n",
            "\n",
            "Generated caption for frame 15: a group of people are standing around a man in blue paint\n",
            "\n",
            "Generated caption for frame 16: a group of people are standing in front of a building\n",
            "\n",
            "Generated caption for frame 17: a group of people are standing in front of a building\n",
            "\n",
            "Generated caption for frame 18: a group of people are standing in front of a building\n",
            "\n",
            "Generated caption for frame 19: a group of people are standing in front of a building\n",
            "\n",
            "Generated caption for frame 20: a group of people are standing in front of a building\n",
            "\n",
            "Generated caption for frame 21: a man is being attacked by a group of people\n",
            "\n",
            "Generated caption for frame 22: a group of people are standing around a bus\n",
            "\n",
            "Generated caption for frame 23: a group of people are standing in front of a building\n",
            "\n",
            "Generated caption for frame 24: a group of people are standing in front of a bus\n",
            "\n",
            "Generated caption for frame 25: a group of people are standing in front of a bus\n",
            "\n",
            "Generated caption for frame 26: a group of people are fighting in the street\n",
            "\n",
            "Generated caption for frame 27: a group of people are standing around a building\n",
            "\n",
            "Generated caption for frame 28: a group of people are fighting in the street\n",
            "\n",
            "Generated caption for frame 29: a man is being attacked by a group of people\n",
            "\n",
            "Generated caption for frame 30: a man is being attacked by a group of people\n",
            "\n",
            "Generated caption for frame 31: a man is being attacked by a group of people\n",
            "\n",
            "Generated caption for frame 32: two men are fighting in the street with a camera\n",
            "\n",
            "Generated caption for frame 33: a man is being attacked by a group of people\n",
            "\n",
            "Generated caption for frame 34: a man is being attacked by a group of people\n",
            "\n",
            "Generated caption for frame 35: two men are fighting in the street with a camera\n",
            "\n",
            "Generated caption for frame 36: a man is being attacked by a group of people\n",
            "\n",
            "Generated caption for frame 37: a man is being attacked by a group of people\n",
            "\n",
            "Generated caption for frame 38: a man is being attacked by a group of people\n",
            "\n",
            "Generated caption for frame 39: a man is being attacked by a group of people\n",
            "\n",
            "Generated caption for frame 40: a video showing a man being attacked by a group of people\n",
            "\n",
            "Generated caption for frame 41: a man is being attacked by a group of people\n",
            "\n",
            "Generated caption for frame 42: two images of people in blue shirts and blue pants\n",
            "\n",
            "Generated caption for frame 43: a man is being pulled by a truck in the middle of the road\n",
            "\n",
            "Generated caption for frame 44: a group of people are standing in front of a bus\n",
            "\n",
            "Generated caption for frame 45: a man is being attacked by a group of people\n",
            "\n",
            "Generated caption for frame 46: a man is being pulled by a blue shirt\n",
            "\n",
            "Generated caption for frame 47: a man is being attacked by a group of people\n",
            "\n",
            "Generated caption for frame 48: a man is being pulled by a rope in the air\n",
            "\n",
            "Generated caption for frame 49: a group of people are standing around a bus\n",
            "\n",
            "Generated caption for frame 50: a man is being attacked by a group of people\n",
            "\n",
            "Generated caption for frame 51: a man is being attacked by a group of people\n",
            "\n",
            "Generated caption for frame 52: a video showing a man being attacked by a group of people\n",
            "\n",
            "Generated caption for frame 53: a man is being pulled by a rope in the middle of a crowd\n",
            "\n",
            "Generated caption for frame 54: a man is being pushed by a blue man\n",
            "\n",
            "Generated caption for frame 55: a man is being attacked by a group of people\n",
            "\n",
            "Generated caption for frame 56: a man is being attacked by a group of people\n",
            "\n",
            "Generated caption for frame 57: a man is being attacked by a group of people\n",
            "\n",
            "Generated caption for frame 58: a man is being attacked by a group of people\n",
            "\n",
            "Generated caption for frame 59: two people are fighting in the street with a yellow line\n",
            "\n",
            "Generated caption for frame 60: a man is being attacked by a group of people\n",
            "\n",
            "Generated caption for frame 61: a man is being attacked by a group of people\n",
            "\n",
            "Generated caption for frame 62: a man is being attacked by another man in a video\n",
            "\n",
            "Generated caption for frame 63: a man is being attacked by a group of people\n",
            "\n",
            "Generated caption for frame 64: a group of people are fighting in a room\n",
            "\n",
            "Generated caption for frame 65: a group of people are fighting in a room\n",
            "\n",
            "Generated caption for frame 66: a man is being attacked by a group of people\n",
            "\n",
            "Generated caption for frame 67: a man is being attacked by a group of people\n",
            "\n",
            "Generated caption for frame 68: a man is being attacked by a group of people\n",
            "\n",
            "Generated caption for frame 69: a man is being attacked by a group of people\n",
            "\n",
            "Generated caption for frame 70: a man is being attacked by a group of people\n",
            "\n",
            "Generated caption for frame 71: a man is being attacked by a group of people\n",
            "\n",
            "Generated caption for frame 72: two people are fighting in the street with a camera\n",
            "\n",
            "Generated caption for frame 73: a man is walking down the street with a camera\n",
            "\n",
            "Generated caption for frame 74: a man is being attacked by a group of people\n",
            "\n",
            "Generated caption for frame 75: a man is being held by a man in a blue shirt\n",
            "\n",
            "Generated caption for frame 76: a man is being attacked by a group of people\n",
            "\n",
            "Generated caption for frame 77: a man is being attacked by a group of people\n",
            "\n",
            "Generated caption for frame 78: a man is being held by a police officer\n",
            "\n",
            "Generated caption for frame 79: a man is being attacked by a group of people\n",
            "\n",
            "Generated caption for frame 80: a man is being attacked by a group of people\n",
            "\n",
            "Generated caption for frame 81: a man is being attacked by a group of people\n",
            "\n",
            "Generated caption for frame 82: a man is being attacked by a group of people\n",
            "\n",
            "Generated caption for frame 83: a man is being attacked by a group of people\n",
            "\n",
            "Generated caption for frame 84: a man is being attacked by a group of people\n",
            "\n",
            "Generated caption for frame 85: a man is being attacked by a group of people\n",
            "\n",
            "Generated caption for frame 86: a man is being attacked by a group of people\n",
            "\n",
            "Generated caption for frame 87: two men are fighting in the street with a camera\n",
            "\n",
            "Generated caption for frame 88: two men are fighting in the street with one man being hit\n",
            "\n",
            "Generated caption for frame 89: a man is being attacked by a group of people\n",
            "\n",
            "Generated caption for frame 90: a man is being attacked by a group of people\n",
            "\n",
            "Generated caption for frame 91: a group of people are fighting in a room\n",
            "\n",
            "Generated caption for frame 92: a man is being attacked by a group of people\n",
            "\n",
            "Generated caption for frame 93: a man is being attacked by a group of people\n",
            "\n",
            "Generated caption for frame 94: two men are standing in front of a bus\n",
            "\n",
            "Generated caption for frame 95: two men are standing in front of a bus with blue paint on their faces\n",
            "\n",
            "Generated caption for frame 96: a man is being chased by a group of people\n",
            "\n",
            "Generated caption for frame 97: a man is being attacked by a group of people\n",
            "\n",
            "Generated caption for frame 98: two people are fighting in the street with a camera\n",
            "\n",
            "Generated caption for frame 99: a man is standing in front of a car with a yellow box\n",
            "\n",
            "Generated caption for frame 100: two men are fighting in the street with a camera\n",
            "\n",
            "Generated caption for frame 101: two people are standing in front of a building\n",
            "\n",
            "Generated caption for frame 102: a man is standing in front of a car with two other people\n",
            "\n",
            "Generated caption for frame 103: two men are fighting in the street with a camera\n",
            "\n",
            "Generated caption for frame 104: two people are standing in front of a car\n",
            "\n",
            "Generated caption for frame 105: two people are standing in front of a building\n",
            "\n",
            "Generated caption for frame 106: two men are fighting in the street with a blue shirt\n",
            "\n",
            "Generated caption for frame 107: two people are fighting in the street with blue paint on their faces\n",
            "\n",
            "Generated caption for frame 108: two people are fighting in the street with blue paint on their faces\n",
            "\n",
            "Generated caption for frame 109: two men are fighting in the street with blue paint on their faces\n",
            "\n",
            "Generated caption for frame 110: two people are fighting in the street with a blue shirt\n",
            "\n",
            "Generated caption for frame 111: two people are fighting in the street with blue paint on their faces\n",
            "\n",
            "Generated caption for frame 112: a man is being held by a woman in a blue shirt\n",
            "\n",
            "Generated caption for frame 113: a woman is being attacked by a man in the video\n",
            "\n",
            "Generated caption for frame 114: a man is walking down the street with a camera\n",
            "\n",
            "Generated caption for frame 115: a man is being attacked by a group of people\n",
            "\n",
            "Generated caption for frame 116: a man is walking down the street with a camera\n",
            "\n",
            "Generated caption for frame 117: a man is walking down the street with a camera\n",
            "\n",
            "Generated caption for frame 118: two people are standing in front of a bus\n",
            "\n",
            "Generated caption for frame 119: two people are standing in front of a train\n",
            "\n",
            "Generated caption for frame 120: two people are standing in front of a bus\n",
            "\n",
            "Generated caption for frame 121: two people are standing on the street and one is being pushed by another\n",
            "\n",
            "Generated caption for frame 122: two people are standing next to a bus with a camera\n",
            "\n",
            "Generated caption for frame 123: a man is walking down the street with a camera on his head\n",
            "\n",
            "Generated caption for frame 124: a man is being attacked by a group of people\n",
            "\n",
            "Generated caption for frame 125: two people are standing in front of a train\n",
            "\n",
            "Generated caption for frame 126: a man is being attacked by a dog in the street\n",
            "\n",
            "Generated caption for frame 127: a man is being attacked by a group of people\n",
            "\n",
            "Generated caption for frame 128: a man is being attacked by a group of people\n",
            "\n",
            "Generated caption for frame 129: a man is being attacked by a group of people\n",
            "\n",
            "Generated caption for frame 130: two people are fighting in the street with a camera\n",
            "\n",
            "Generated caption for frame 131: two people are standing in front of a building\n",
            "\n",
            "Generated caption for frame 132: a group of people are standing in front of a building\n",
            "\n",
            "Generated caption for frame 133: a man is being pulled by a rope in the air\n",
            "\n",
            "Generated caption for frame 134: a man is being attacked by a group of people\n",
            "\n",
            "Generated caption for frame 135: two people are fighting in the street with a camera\n",
            "\n",
            "Generated caption for frame 136: a man is being held by a police officer\n",
            "\n",
            "Generated caption for frame 137: a man is being attacked by a group of people\n",
            "\n",
            "Generated caption for frame 138: a man is being dragged by a man in a blue shirt\n",
            "\n",
            "Generated caption for frame 139: a man is being pulled by a rope through a door\n",
            "\n",
            "Generated caption for frame 140: a man is being pulled by a rope in the air\n",
            "\n",
            "Generated caption for frame 141: a man is being attacked by a group of people\n",
            "\n",
            "Generated caption for frame 142: a man is being attacked by a group of people\n",
            "\n",
            "Generated caption for frame 143: two people are shown in the same frame with a camera\n",
            "\n",
            "Generated caption for frame 144: two images of people in blue paint on the ground\n",
            "\n",
            "Generated caption for frame 145: two people are standing in front of a train\n",
            "\n",
            "Generated caption for frame 146: a man is being filmed by a camera\n",
            "\n",
            "Generated caption for frame 147: a man is standing in front of a blue door\n",
            "\n",
            "Generated caption for frame 148: two people are standing in front of a train\n",
            "\n",
            "Generated caption for frame 149: a man is being attacked by a group of people\n",
            "\n",
            "Generated caption for frame 150: two images of people standing on a train platform\n",
            "\n",
            "Generated caption for frame 151: a man is being pulled by a rope in the air\n",
            "\n",
            "Generated caption for frame 152: a man is being attacked by a group of people\n",
            "\n",
            "Generated caption for frame 153: a man is standing in front of a truck with a blue face paint\n",
            "\n",
            "Generated caption for frame 154: a man is being pulled by a rope in the back of a truck\n",
            "\n",
            "Generated caption for frame 155: a group of people are standing around a train\n",
            "\n",
            "Generated caption for frame 156: a man is being pushed by a man in blue paint\n",
            "\n",
            "Generated caption for frame 157: a man is being filmed by a camera in front of a train\n",
            "\n",
            "Generated caption for frame 158: two people are standing in front of a train\n",
            "\n",
            "Generated caption for frame 159: two people are walking down the street with a camera\n",
            "\n",
            "Generated caption for frame 160: two images of people in blue paint on the ground\n",
            "\n",
            "Generated caption for frame 161: two people are walking down the street with a camera\n",
            "\n",
            "Generated caption for frame 162: a group of people are standing around a building\n",
            "\n",
            "Generated caption for frame 163: a group of people are shown in a video with blue paint on their faces\n",
            "\n",
            "Generated caption for frame 164: a group of people are shown in a video with yellow lines\n",
            "\n",
            "Generated caption for frame 165: a group of people are shown in a yellow box\n",
            "\n",
            "Generated caption for frame 166: a group of people are standing in front of a building\n",
            "\n",
            "Generated caption for frame 167: a group of people are standing in front of a building\n",
            "\n",
            "Generated caption for frame 168: a group of people are standing in front of a building\n",
            "\n",
            "Generated caption for frame 169: two images of people fighting in the street\n",
            "\n",
            "Generated caption for frame 170: a man is standing in front of a blue wall\n",
            "\n",
            "Generated caption for frame 171: a group of people are standing in front of a bus\n",
            "\n",
            "Generated caption for frame 172: a group of people are standing in front of a building\n",
            "\n",
            "Generated caption for frame 173: a group of people are standing in front of a building\n",
            "\n",
            "Generated caption for frame 174: a group of people are shown in a photo with blue paint on their faces\n",
            "\n",
            "Generated caption for frame 175: a group of people are standing in front of a car\n",
            "\n",
            "Generated caption for frame 176: a group of people are shown in a video with yellow lines\n",
            "\n",
            "Generated caption for frame 177: a group of people are shown in a photo with yellow lines\n",
            "\n",
            "Generated caption for frame 178: a group of people are standing in front of a building\n",
            "\n",
            "Generated caption for frame 179: a group of people are standing around a street\n",
            "\n",
            "Generated caption for frame 180: a group of people are standing in front of a building\n",
            "\n",
            "Generated caption for frame 181: a group of people are shown in a video with yellow lines\n",
            "\n",
            "Generated caption for frame 182: a man is being attacked by a group of people\n",
            "\n",
            "Generated caption for frame 183: a group of people are standing in front of a building\n",
            "\n",
            "Generated caption for frame 184: a group of people are standing in front of a bus\n",
            "\n",
            "Generated caption for frame 185: two images of people in blue paint on the street\n",
            "\n",
            "Generated caption for frame 186: a group of people are standing around a bus\n",
            "\n",
            "Generated caption for frame 187: a group of people are standing in front of a building\n",
            "\n",
            "Generated caption for frame 188: a group of people are standing in front of a car\n",
            "\n",
            "Generated caption for frame 189: a group of people are standing in front of a building\n",
            "\n",
            "Generated caption for frame 190: a man is being attacked by a group of people\n",
            "\n",
            "Generated caption for frame 191: a group of people are standing around a bus\n",
            "\n",
            "Generated caption for frame 192: two people are fighting in the street with a camera\n",
            "\n",
            "Generated caption for frame 193: a man is being attacked by a group of people\n",
            "\n",
            "Generated caption for frame 194: a group of people are standing around a bus\n",
            "\n",
            "Generated caption for frame 195: two people are fighting in the street with a camera\n",
            "\n",
            "Generated caption for frame 196: a group of people are standing in front of a bus\n",
            "\n",
            "Generated caption for frame 197: a group of people are shown in a video with their faces blurred\n",
            "\n",
            "Generated caption for frame 198: a group of people are shown in a video with a camera\n",
            "\n",
            "Generated caption for frame 199: a man is being attacked by a group of people\n",
            "\n",
            "Generated caption for frame 200: a man is being attacked by a group of people\n",
            "\n",
            "Generated caption for frame 201: a man is being attacked by a group of people\n",
            "\n",
            "Generated caption for frame 202: a man is being pulled by a truck in the middle of the road\n",
            "\n",
            "Generated caption for frame 203: a man is being attacked by a group of people\n",
            "\n",
            "Generated caption for frame 204: a man is being pulled out of a train by a man\n",
            "\n",
            "Generated caption for frame 205: a group of people are standing in front of a bus\n",
            "\n",
            "Generated caption for frame 206: a yellow image shows a group of people in a bus\n",
            "\n",
            "Generated caption for frame 207: a man is being attacked by a group of people\n",
            "\n",
            "Generated caption for frame 208: a man is being pushed by a blue person\n",
            "\n",
            "Generated caption for frame 209: a man is being attacked by a group of people\n",
            "\n",
            "Generated caption for frame 210: a man is being pulled by a rope in the back of a truck\n",
            "\n",
            "Generated caption for frame 211: a man is being attacked by a group of people\n",
            "\n",
            "Generated caption for frame 212: a yellow box with a man in the middle and a man in the background\n",
            "\n",
            "Generated caption for frame 213: a video showing a man being attacked by a group of people\n",
            "\n",
            "Generated caption for frame 214: a yellow box with a picture of people in it\n",
            "\n",
            "Generated caption for frame 215: a video showing a man being hit by a car\n",
            "\n",
            "Generated caption for frame 216: a man is being pulled by a blue man\n",
            "\n",
            "Generated caption for frame 217: a video of a man being attacked by a group of people\n",
            "\n",
            "Generated caption for frame 218: a man is being chased by a dog in the street\n",
            "\n",
            "Generated caption for frame 219: a man is being attacked by a group of people\n",
            "\n",
            "Generated caption for frame 220: a yellow box with a picture of a man in a blue shirt\n",
            "\n",
            "Generated caption for frame 221: a man is being attacked by a group of people\n",
            "\n",
            "Generated caption for frame 222: a man is being attacked by a group of people\n",
            "\n",
            "Generated caption for frame 223: a man is being attacked by a group of people\n",
            "\n",
            "Generated caption for frame 224: a man is being chased by a police officer\n",
            "\n",
            "Generated caption for frame 225: a man is being attacked by a group of people\n",
            "\n",
            "Generated caption for frame 226: a group of people are fighting in a room\n",
            "\n",
            "Generated caption for frame 227: a group of people are fighting in a room\n",
            "\n",
            "Generated caption for frame 228: a man is being attacked by a group of people\n",
            "\n",
            "Generated caption for frame 229: a man is being attacked by a group of people\n",
            "\n",
            "Generated caption for frame 230: a man is being chased by a group of people\n",
            "\n",
            "Generated caption for frame 231: a man is being attacked by a group of people\n",
            "\n",
            "Generated caption for frame 232: a man is being attacked by a group of people\n",
            "\n",
            "Generated caption for frame 233: a man is being attacked by a group of people\n",
            "\n",
            "Generated caption for frame 234: two people are fighting in the street with a yellow box\n",
            "\n",
            "Generated caption for frame 235: a man is being held by a police officer\n",
            "\n",
            "Generated caption for frame 236: a man is being attacked by a group of people\n",
            "\n",
            "Generated caption for frame 237: a man is being held by a man in a blue shirt\n",
            "\n",
            "Generated caption for frame 238: a man is being attacked by a group of people\n",
            "\n",
            "Generated caption for frame 239: a man is being held by a police officer\n",
            "\n",
            "Generated caption for frame 240: a man is standing in front of a blue wall\n",
            "\n",
            "Generated caption for frame 241: two images of people in blue shirts and blue pants\n",
            "\n",
            "Generated caption for frame 242: two images of people in a room with a camera\n",
            "\n",
            "Generated caption for frame 243: a man is being attacked by a group of people\n",
            "\n",
            "Generated caption for frame 244: a group of people are shown in a video with yellow lines\n",
            "\n",
            "Generated caption for frame 245: a man is being chased by a group of people\n",
            "\n",
            "Generated caption for frame 246: a man is being held by a blue man\n",
            "\n",
            "Generated caption for frame 247: a man is being attacked by a group of people\n",
            "\n",
            "Generated caption for frame 248: a man is being attacked by a group of people\n",
            "\n",
            "Generated caption for frame 249: a group of people are standing in front of a building\n",
            "\n",
            "Generated caption for frame 250: a group of people are standing in front of a building\n",
            "\n",
            "Generated caption for frame 251: a man is being attacked by a group of people\n",
            "\n",
            "Generated caption for frame 252: a man is being attacked by a group of people\n",
            "\n",
            "Generated caption for frame 253: a group of people are fighting in a room\n",
            "\n",
            "Generated caption for frame 254: a man is being attacked by a group of people\n",
            "\n",
            "Generated caption for frame 255: a man is being attacked by a group of people\n",
            "\n",
            "Generated caption for frame 256: a group of people are standing in front of a bus\n",
            "\n",
            "Generated caption for frame 257: two people are standing in front of a building with a camera\n",
            "\n",
            "Generated caption for frame 258: a group of people are standing in front of a building\n",
            "\n",
            "Generated caption for frame 259: a man is being attacked by a group of people\n",
            "\n",
            "Generated caption for frame 260: two people are standing in front of a building\n",
            "\n",
            "Generated caption for frame 261: a man is walking down the street with a yellow box around him\n",
            "\n",
            "Generated caption for frame 262: two people are standing in front of a car\n",
            "\n",
            "Generated caption for frame 263: a man is being attacked by a group of people\n",
            "\n",
            "Generated caption for frame 264: a group of people are standing in front of a building\n",
            "\n",
            "Generated caption for frame 265: a man is being attacked by a group of people\n",
            "\n",
            "Generated caption for frame 266: two images of people in blue shirts and blue pants\n",
            "\n",
            "Generated caption for frame 267: two people are standing in front of a building\n",
            "\n",
            "Generated caption for frame 268: two people are standing in front of a building\n",
            "\n",
            "Generated caption for frame 269: two people are fighting in the street with blue paint on their faces\n",
            "\n",
            "Generated caption for frame 270: a man is being attacked by a group of people\n",
            "\n",
            "Generated caption for frame 271: two people are fighting in the street with blue paint on their faces\n",
            "\n",
            "Generated caption for frame 272: two images of people in blue paint on the ground\n",
            "\n",
            "Generated caption for frame 273: a man is being attacked by a group of people\n",
            "\n",
            "Generated caption for frame 274: a man is walking down the street with a camera\n",
            "\n",
            "Generated caption for frame 275: a man is walking down the street with a camera\n",
            "\n",
            "Generated caption for frame 276: a man is walking down the street with a camera\n",
            "\n",
            "Generated caption for frame 277: a group of people are shown in a video with a camera\n",
            "\n",
            "Generated caption for frame 278: a man is walking down the street with a camera\n",
            "\n",
            "Generated caption for frame 279: a man is walking down the street with a camera\n",
            "\n",
            "Generated caption for frame 280: a group of people are standing in front of a building\n",
            "\n",
            "Generated caption for frame 281: a group of people are standing in front of a bus\n",
            "\n",
            "Generated caption for frame 282: a man is walking down the street with a camera\n",
            "\n",
            "Generated caption for frame 283: two people are standing on the street and one is being pushed by another\n",
            "\n",
            "Generated caption for frame 284: a man is being pulled out of a bus by a man in blue\n",
            "\n",
            "Generated caption for frame 285: two people are standing in front of a bus\n",
            "\n",
            "Generated caption for frame 286: a man is standing in front of a train with a blue face paint\n",
            "\n",
            "Generated caption for frame 287: a man is walking down the street with a camera on his face\n",
            "\n",
            "Generated caption for frame 288: two people are standing in front of a train\n",
            "\n",
            "Generated caption for frame 289: two people are standing in front of a train\n",
            "\n",
            "Generated caption for frame 290: a man is being chased by a police officer\n",
            "\n",
            "Generated caption for frame 291: a man is being attacked by a group of people\n",
            "\n",
            "Generated caption for frame 292: a man is standing in front of a camera with two other people\n",
            "\n",
            "Generated caption for frame 293: a video showing a woman being attacked by a man\n",
            "\n",
            "Generated caption for frame 294: a man is being attacked by a group of people\n",
            "\n",
            "Generated caption for frame 295: a group of people are standing in front of a door\n",
            "\n",
            "Generated caption for frame 296: a man is being attacked by a group of people\n",
            "\n",
            "Generated caption for frame 297: two images of people in a room with a camera\n",
            "\n",
            "Generated caption for frame 298: a man is standing in front of a large metal door\n",
            "\n",
            "Generated caption for frame 299: a video of a man being attacked by a group of people\n",
            "\n",
            "Generated caption for frame 300: two people are standing in front of a train\n",
            "\n",
            "Generated caption for frame 301: a man is being pulled by a rope through a train\n",
            "\n",
            "Generated caption for frame 302: a man is standing in front of a train with a camera\n",
            "\n",
            "Generated caption for frame 303: a man is being pulled by a rope in the video\n",
            "\n",
            "Generated caption for frame 304: a man is being chased by a group of people\n",
            "\n",
            "Generated caption for frame 305: a man is being filmed by a camera\n",
            "\n",
            "Generated caption for frame 306: two pictures of people in blue paint on the same train\n",
            "\n",
            "Generated caption for frame 307: a man is standing in front of a blue painted wall\n",
            "\n",
            "Generated caption for frame 308: a man is standing in front of a camera with a blue face\n",
            "\n",
            "Generated caption for frame 309: a man is standing in front of a blue wall\n",
            "\n",
            "Generated caption for frame 310: a man is standing in front of a camera with a blue face\n",
            "\n",
            "Generated caption for frame 311: a man is standing on a train with two cameras\n",
            "\n",
            "Generated caption for frame 312: a man is standing in front of a train with a blue face\n",
            "\n",
            "Generated caption for frame 313: two people are standing in front of a truck\n",
            "\n",
            "Generated caption for frame 314: a man is being pulled by a rope in the video\n",
            "\n",
            "Generated caption for frame 315: a man is being pulled by a rope in the air\n",
            "\n",
            "Generated caption for frame 316: a man is being pulled by a rope in the back of a truck\n",
            "\n",
            "Generated caption for frame 317: a group of people are standing around a train\n",
            "\n",
            "Generated caption for frame 318: a man is being filmed by a camera while he is in the middle of a crowd\n",
            "\n",
            "Generated caption for frame 319: a man is being filmed by a camera in front of a train\n",
            "\n",
            "Generated caption for frame 320: a man is walking down the street with a camera on his face\n",
            "\n",
            "Generated caption for frame 321: two people are walking down the street with a camera\n",
            "\n",
            "Generated caption for frame 322: two images of people in blue paint on the ground\n",
            "\n",
            "Generated caption for frame 323: a man is walking down the street with two cameras\n",
            "\n",
            "Processed frames saved to processed_frames and captions saved to captions.txt3\n"
          ]
        }
      ]
    },
    {
      "cell_type": "code",
      "source": [
        "import requests\n",
        "from PIL import Image\n",
        "\n",
        "url = 'https://www.coptstoday.com/img/2022/9/coptstoday-11663836677.jpg'\n",
        "image = Image.open(requests.get(url, stream=True).raw).convert('RGB')\n",
        "display(image.resize((596, 437)))\n"
      ],
      "metadata": {
        "colab": {
          "base_uri": "https://localhost:8080/",
          "height": 454
        },
        "id": "7pJm_9ogNEtz",
        "outputId": "e98d213f-c977-4eb7-9349-5ce162e4167a"
      },
      "execution_count": null,
      "outputs": [
        {
          "output_type": "display_data",
          "data": {
            "text/plain": [
              "<PIL.Image.Image image mode=RGB size=596x437>"
            ],
            "image/png": "[encoded data removed]",
            "image/jpeg": "[encoded data removed]"
          },
          "metadata": {}
        }
      ]
    },
    {
      "cell_type": "code",
      "source": [
        "from transformers import AutoProcessor, Blip2ForConditionalGeneration\n",
        "import torch\n",
        "\n",
        "processor = AutoProcessor.from_pretrained(\"Salesforce/blip2-opt-2.7b\")\n",
        "model = Blip2ForConditionalGeneration.from_pretrained(\"Salesforce/blip2-opt-2.7b\", torch_dtype=torch.float16)\n"
      ],
      "metadata": {
        "colab": {
          "base_uri": "https://localhost:8080/",
          "height": 49,
          "referenced_widgets": [
            "8448ac6826644513b86b1d4b19180399",
            "f83e2698344e467ca03f102f7193710a",
            "4e7edb73df604b318bd3070e812cafb8",
            "398d5a10b72b40f4bb576e6798a6f34d",
            "1998b7cba17a4ad985179fdd4edfb87f",
            "317fbe3238f64d56996102d4fdb14230",
            "62ca9bbafe444cda9750a690acd838ed",
            "ee926d69644c45e285fe0a443dbc592d",
            "6bad09fffde0445e8e5c2d8113523614",
            "4906d581646946f4868966aa93edc30e",
            "322d3e01e1574b12a3224abcde74872e"
          ]
        },
        "id": "ISIkANjFLo-s",
        "outputId": "0d922209-52ab-4a96-ae68-2192cc885c49"
      },
      "execution_count": null,
      "outputs": [
        {
          "output_type": "display_data",
          "data": {
            "text/plain": [
              "Loading checkpoint shards:   0%|          | 0/2 [00:00<?, ?it/s]"
            ],
            "application/vnd.jupyter.widget-view+json": {
              "version_major": 2,
              "version_minor": 0,
              "model_id": "8448ac6826644513b86b1d4b19180399"
            }
          },
          "metadata": {}
        }
      ]
    },
    {
      "cell_type": "code",
      "source": [
        "device = \"cuda\" if torch.cuda.is_available() else \"cpu\"\n",
        "model.to(device)\n"
      ],
      "metadata": {
        "id": "2LMKrk_kNlt5",
        "colab": {
          "base_uri": "https://localhost:8080/"
        },
        "outputId": "1e2ab8fa-7dbb-48bc-b709-143b1a5832d2"
      },
      "execution_count": null,
      "outputs": [
        {
          "output_type": "execute_result",
          "data": {
            "text/plain": [
              "Blip2ForConditionalGeneration(\n",
              "  (vision_model): Blip2VisionModel(\n",
              "    (embeddings): Blip2VisionEmbeddings(\n",
              "      (patch_embedding): Conv2d(3, 1408, kernel_size=(14, 14), stride=(14, 14))\n",
              "    )\n",
              "    (encoder): Blip2Encoder(\n",
              "      (layers): ModuleList(\n",
              "        (0-38): 39 x Blip2EncoderLayer(\n",
              "          (self_attn): Blip2Attention(\n",
              "            (dropout): Dropout(p=0.0, inplace=False)\n",
              "            (qkv): Linear(in_features=1408, out_features=4224, bias=True)\n",
              "            (projection): Linear(in_features=1408, out_features=1408, bias=True)\n",
              "          )\n",
              "          (layer_norm1): LayerNorm((1408,), eps=1e-06, elementwise_affine=True)\n",
              "          (mlp): Blip2MLP(\n",
              "            (activation_fn): GELUActivation()\n",
              "            (fc1): Linear(in_features=1408, out_features=6144, bias=True)\n",
              "            (fc2): Linear(in_features=6144, out_features=1408, bias=True)\n",
              "          )\n",
              "          (layer_norm2): LayerNorm((1408,), eps=1e-06, elementwise_affine=True)\n",
              "        )\n",
              "      )\n",
              "    )\n",
              "    (post_layernorm): LayerNorm((1408,), eps=1e-06, elementwise_affine=True)\n",
              "  )\n",
              "  (qformer): Blip2QFormerModel(\n",
              "    (layernorm): LayerNorm((768,), eps=1e-12, elementwise_affine=True)\n",
              "    (dropout): Dropout(p=0.1, inplace=False)\n",
              "    (encoder): Blip2QFormerEncoder(\n",
              "      (layer): ModuleList(\n",
              "        (0): Blip2QFormerLayer(\n",
              "          (attention): Blip2QFormerAttention(\n",
              "            (attention): Blip2QFormerMultiHeadAttention(\n",
              "              (query): Linear(in_features=768, out_features=768, bias=True)\n",
              "              (key): Linear(in_features=768, out_features=768, bias=True)\n",
              "              (value): Linear(in_features=768, out_features=768, bias=True)\n",
              "              (dropout): Dropout(p=0.1, inplace=False)\n",
              "            )\n",
              "            (output): Blip2QFormerSelfOutput(\n",
              "              (dense): Linear(in_features=768, out_features=768, bias=True)\n",
              "              (LayerNorm): LayerNorm((768,), eps=1e-12, elementwise_affine=True)\n",
              "              (dropout): Dropout(p=0.1, inplace=False)\n",
              "            )\n",
              "          )\n",
              "          (crossattention): Blip2QFormerAttention(\n",
              "            (attention): Blip2QFormerMultiHeadAttention(\n",
              "              (query): Linear(in_features=768, out_features=768, bias=True)\n",
              "              (key): Linear(in_features=1408, out_features=768, bias=True)\n",
              "              (value): Linear(in_features=1408, out_features=768, bias=True)\n",
              "              (dropout): Dropout(p=0.1, inplace=False)\n",
              "            )\n",
              "            (output): Blip2QFormerSelfOutput(\n",
              "              (dense): Linear(in_features=768, out_features=768, bias=True)\n",
              "              (LayerNorm): LayerNorm((768,), eps=1e-12, elementwise_affine=True)\n",
              "              (dropout): Dropout(p=0.1, inplace=False)\n",
              "            )\n",
              "          )\n",
              "          (intermediate_query): Blip2QFormerIntermediate(\n",
              "            (dense): Linear(in_features=768, out_features=3072, bias=True)\n",
              "            (intermediate_act_fn): GELUActivation()\n",
              "          )\n",
              "          (output_query): Blip2QFormerOutput(\n",
              "            (dense): Linear(in_features=3072, out_features=768, bias=True)\n",
              "            (LayerNorm): LayerNorm((768,), eps=1e-12, elementwise_affine=True)\n",
              "            (dropout): Dropout(p=0.1, inplace=False)\n",
              "          )\n",
              "        )\n",
              "        (1): Blip2QFormerLayer(\n",
              "          (attention): Blip2QFormerAttention(\n",
              "            (attention): Blip2QFormerMultiHeadAttention(\n",
              "              (query): Linear(in_features=768, out_features=768, bias=True)\n",
              "              (key): Linear(in_features=768, out_features=768, bias=True)\n",
              "              (value): Linear(in_features=768, out_features=768, bias=True)\n",
              "              (dropout): Dropout(p=0.1, inplace=False)\n",
              "            )\n",
              "            (output): Blip2QFormerSelfOutput(\n",
              "              (dense): Linear(in_features=768, out_features=768, bias=True)\n",
              "              (LayerNorm): LayerNorm((768,), eps=1e-12, elementwise_affine=True)\n",
              "              (dropout): Dropout(p=0.1, inplace=False)\n",
              "            )\n",
              "          )\n",
              "          (intermediate_query): Blip2QFormerIntermediate(\n",
              "            (dense): Linear(in_features=768, out_features=3072, bias=True)\n",
              "            (intermediate_act_fn): GELUActivation()\n",
              "          )\n",
              "          (output_query): Blip2QFormerOutput(\n",
              "            (dense): Linear(in_features=3072, out_features=768, bias=True)\n",
              "            (LayerNorm): LayerNorm((768,), eps=1e-12, elementwise_affine=True)\n",
              "            (dropout): Dropout(p=0.1, inplace=False)\n",
              "          )\n",
              "        )\n",
              "        (2): Blip2QFormerLayer(\n",
              "          (attention): Blip2QFormerAttention(\n",
              "            (attention): Blip2QFormerMultiHeadAttention(\n",
              "              (query): Linear(in_features=768, out_features=768, bias=True)\n",
              "              (key): Linear(in_features=768, out_features=768, bias=True)\n",
              "              (value): Linear(in_features=768, out_features=768, bias=True)\n",
              "              (dropout): Dropout(p=0.1, inplace=False)\n",
              "            )\n",
              "            (output): Blip2QFormerSelfOutput(\n",
              "              (dense): Linear(in_features=768, out_features=768, bias=True)\n",
              "              (LayerNorm): LayerNorm((768,), eps=1e-12, elementwise_affine=True)\n",
              "              (dropout): Dropout(p=0.1, inplace=False)\n",
              "            )\n",
              "          )\n",
              "          (crossattention): Blip2QFormerAttention(\n",
              "            (attention): Blip2QFormerMultiHeadAttention(\n",
              "              (query): Linear(in_features=768, out_features=768, bias=True)\n",
              "              (key): Linear(in_features=1408, out_features=768, bias=True)\n",
              "              (value): Linear(in_features=1408, out_features=768, bias=True)\n",
              "              (dropout): Dropout(p=0.1, inplace=False)\n",
              "            )\n",
              "            (output): Blip2QFormerSelfOutput(\n",
              "              (dense): Linear(in_features=768, out_features=768, bias=True)\n",
              "              (LayerNorm): LayerNorm((768,), eps=1e-12, elementwise_affine=True)\n",
              "              (dropout): Dropout(p=0.1, inplace=False)\n",
              "            )\n",
              "          )\n",
              "          (intermediate_query): Blip2QFormerIntermediate(\n",
              "            (dense): Linear(in_features=768, out_features=3072, bias=True)\n",
              "            (intermediate_act_fn): GELUActivation()\n",
              "          )\n",
              "          (output_query): Blip2QFormerOutput(\n",
              "            (dense): Linear(in_features=3072, out_features=768, bias=True)\n",
              "            (LayerNorm): LayerNorm((768,), eps=1e-12, elementwise_affine=True)\n",
              "            (dropout): Dropout(p=0.1, inplace=False)\n",
              "          )\n",
              "        )\n",
              "        (3): Blip2QFormerLayer(\n",
              "          (attention): Blip2QFormerAttention(\n",
              "            (attention): Blip2QFormerMultiHeadAttention(\n",
              "              (query): Linear(in_features=768, out_features=768, bias=True)\n",
              "              (key): Linear(in_features=768, out_features=768, bias=True)\n",
              "              (value): Linear(in_features=768, out_features=768, bias=True)\n",
              "              (dropout): Dropout(p=0.1, inplace=False)\n",
              "            )\n",
              "            (output): Blip2QFormerSelfOutput(\n",
              "              (dense): Linear(in_features=768, out_features=768, bias=True)\n",
              "              (LayerNorm): LayerNorm((768,), eps=1e-12, elementwise_affine=True)\n",
              "              (dropout): Dropout(p=0.1, inplace=False)\n",
              "            )\n",
              "          )\n",
              "          (intermediate_query): Blip2QFormerIntermediate(\n",
              "            (dense): Linear(in_features=768, out_features=3072, bias=True)\n",
              "            (intermediate_act_fn): GELUActivation()\n",
              "          )\n",
              "          (output_query): Blip2QFormerOutput(\n",
              "            (dense): Linear(in_features=3072, out_features=768, bias=True)\n",
              "            (LayerNorm): LayerNorm((768,), eps=1e-12, elementwise_affine=True)\n",
              "            (dropout): Dropout(p=0.1, inplace=False)\n",
              "          )\n",
              "        )\n",
              "        (4): Blip2QFormerLayer(\n",
              "          (attention): Blip2QFormerAttention(\n",
              "            (attention): Blip2QFormerMultiHeadAttention(\n",
              "              (query): Linear(in_features=768, out_features=768, bias=True)\n",
              "              (key): Linear(in_features=768, out_features=768, bias=True)\n",
              "              (value): Linear(in_features=768, out_features=768, bias=True)\n",
              "              (dropout): Dropout(p=0.1, inplace=False)\n",
              "            )\n",
              "            (output): Blip2QFormerSelfOutput(\n",
              "              (dense): Linear(in_features=768, out_features=768, bias=True)\n",
              "              (LayerNorm): LayerNorm((768,), eps=1e-12, elementwise_affine=True)\n",
              "              (dropout): Dropout(p=0.1, inplace=False)\n",
              "            )\n",
              "          )\n",
              "          (crossattention): Blip2QFormerAttention(\n",
              "            (attention): Blip2QFormerMultiHeadAttention(\n",
              "              (query): Linear(in_features=768, out_features=768, bias=True)\n",
              "              (key): Linear(in_features=1408, out_features=768, bias=True)\n",
              "              (value): Linear(in_features=1408, out_features=768, bias=True)\n",
              "              (dropout): Dropout(p=0.1, inplace=False)\n",
              "            )\n",
              "            (output): Blip2QFormerSelfOutput(\n",
              "              (dense): Linear(in_features=768, out_features=768, bias=True)\n",
              "              (LayerNorm): LayerNorm((768,), eps=1e-12, elementwise_affine=True)\n",
              "              (dropout): Dropout(p=0.1, inplace=False)\n",
              "            )\n",
              "          )\n",
              "          (intermediate_query): Blip2QFormerIntermediate(\n",
              "            (dense): Linear(in_features=768, out_features=3072, bias=True)\n",
              "            (intermediate_act_fn): GELUActivation()\n",
              "          )\n",
              "          (output_query): Blip2QFormerOutput(\n",
              "            (dense): Linear(in_features=3072, out_features=768, bias=True)\n",
              "            (LayerNorm): LayerNorm((768,), eps=1e-12, elementwise_affine=True)\n",
              "            (dropout): Dropout(p=0.1, inplace=False)\n",
              "          )\n",
              "        )\n",
              "        (5): Blip2QFormerLayer(\n",
              "          (attention): Blip2QFormerAttention(\n",
              "            (attention): Blip2QFormerMultiHeadAttention(\n",
              "              (query): Linear(in_features=768, out_features=768, bias=True)\n",
              "              (key): Linear(in_features=768, out_features=768, bias=True)\n",
              "              (value): Linear(in_features=768, out_features=768, bias=True)\n",
              "              (dropout): Dropout(p=0.1, inplace=False)\n",
              "            )\n",
              "            (output): Blip2QFormerSelfOutput(\n",
              "              (dense): Linear(in_features=768, out_features=768, bias=True)\n",
              "              (LayerNorm): LayerNorm((768,), eps=1e-12, elementwise_affine=True)\n",
              "              (dropout): Dropout(p=0.1, inplace=False)\n",
              "            )\n",
              "          )\n",
              "          (intermediate_query): Blip2QFormerIntermediate(\n",
              "            (dense): Linear(in_features=768, out_features=3072, bias=True)\n",
              "            (intermediate_act_fn): GELUActivation()\n",
              "          )\n",
              "          (output_query): Blip2QFormerOutput(\n",
              "            (dense): Linear(in_features=3072, out_features=768, bias=True)\n",
              "            (LayerNorm): LayerNorm((768,), eps=1e-12, elementwise_affine=True)\n",
              "            (dropout): Dropout(p=0.1, inplace=False)\n",
              "          )\n",
              "        )\n",
              "        (6): Blip2QFormerLayer(\n",
              "          (attention): Blip2QFormerAttention(\n",
              "            (attention): Blip2QFormerMultiHeadAttention(\n",
              "              (query): Linear(in_features=768, out_features=768, bias=True)\n",
              "              (key): Linear(in_features=768, out_features=768, bias=True)\n",
              "              (value): Linear(in_features=768, out_features=768, bias=True)\n",
              "              (dropout): Dropout(p=0.1, inplace=False)\n",
              "            )\n",
              "            (output): Blip2QFormerSelfOutput(\n",
              "              (dense): Linear(in_features=768, out_features=768, bias=True)\n",
              "              (LayerNorm): LayerNorm((768,), eps=1e-12, elementwise_affine=True)\n",
              "              (dropout): Dropout(p=0.1, inplace=False)\n",
              "            )\n",
              "          )\n",
              "          (crossattention): Blip2QFormerAttention(\n",
              "            (attention): Blip2QFormerMultiHeadAttention(\n",
              "              (query): Linear(in_features=768, out_features=768, bias=True)\n",
              "              (key): Linear(in_features=1408, out_features=768, bias=True)\n",
              "              (value): Linear(in_features=1408, out_features=768, bias=True)\n",
              "              (dropout): Dropout(p=0.1, inplace=False)\n",
              "            )\n",
              "            (output): Blip2QFormerSelfOutput(\n",
              "              (dense): Linear(in_features=768, out_features=768, bias=True)\n",
              "              (LayerNorm): LayerNorm((768,), eps=1e-12, elementwise_affine=True)\n",
              "              (dropout): Dropout(p=0.1, inplace=False)\n",
              "            )\n",
              "          )\n",
              "          (intermediate_query): Blip2QFormerIntermediate(\n",
              "            (dense): Linear(in_features=768, out_features=3072, bias=True)\n",
              "            (intermediate_act_fn): GELUActivation()\n",
              "          )\n",
              "          (output_query): Blip2QFormerOutput(\n",
              "            (dense): Linear(in_features=3072, out_features=768, bias=True)\n",
              "            (LayerNorm): LayerNorm((768,), eps=1e-12, elementwise_affine=True)\n",
              "            (dropout): Dropout(p=0.1, inplace=False)\n",
              "          )\n",
              "        )\n",
              "        (7): Blip2QFormerLayer(\n",
              "          (attention): Blip2QFormerAttention(\n",
              "            (attention): Blip2QFormerMultiHeadAttention(\n",
              "              (query): Linear(in_features=768, out_features=768, bias=True)\n",
              "              (key): Linear(in_features=768, out_features=768, bias=True)\n",
              "              (value): Linear(in_features=768, out_features=768, bias=True)\n",
              "              (dropout): Dropout(p=0.1, inplace=False)\n",
              "            )\n",
              "            (output): Blip2QFormerSelfOutput(\n",
              "              (dense): Linear(in_features=768, out_features=768, bias=True)\n",
              "              (LayerNorm): LayerNorm((768,), eps=1e-12, elementwise_affine=True)\n",
              "              (dropout): Dropout(p=0.1, inplace=False)\n",
              "            )\n",
              "          )\n",
              "          (intermediate_query): Blip2QFormerIntermediate(\n",
              "            (dense): Linear(in_features=768, out_features=3072, bias=True)\n",
              "            (intermediate_act_fn): GELUActivation()\n",
              "          )\n",
              "          (output_query): Blip2QFormerOutput(\n",
              "            (dense): Linear(in_features=3072, out_features=768, bias=True)\n",
              "            (LayerNorm): LayerNorm((768,), eps=1e-12, elementwise_affine=True)\n",
              "            (dropout): Dropout(p=0.1, inplace=False)\n",
              "          )\n",
              "        )\n",
              "        (8): Blip2QFormerLayer(\n",
              "          (attention): Blip2QFormerAttention(\n",
              "            (attention): Blip2QFormerMultiHeadAttention(\n",
              "              (query): Linear(in_features=768, out_features=768, bias=True)\n",
              "              (key): Linear(in_features=768, out_features=768, bias=True)\n",
              "              (value): Linear(in_features=768, out_features=768, bias=True)\n",
              "              (dropout): Dropout(p=0.1, inplace=False)\n",
              "            )\n",
              "            (output): Blip2QFormerSelfOutput(\n",
              "              (dense): Linear(in_features=768, out_features=768, bias=True)\n",
              "              (LayerNorm): LayerNorm((768,), eps=1e-12, elementwise_affine=True)\n",
              "              (dropout): Dropout(p=0.1, inplace=False)\n",
              "            )\n",
              "          )\n",
              "          (crossattention): Blip2QFormerAttention(\n",
              "            (attention): Blip2QFormerMultiHeadAttention(\n",
              "              (query): Linear(in_features=768, out_features=768, bias=True)\n",
              "              (key): Linear(in_features=1408, out_features=768, bias=True)\n",
              "              (value): Linear(in_features=1408, out_features=768, bias=True)\n",
              "              (dropout): Dropout(p=0.1, inplace=False)\n",
              "            )\n",
              "            (output): Blip2QFormerSelfOutput(\n",
              "              (dense): Linear(in_features=768, out_features=768, bias=True)\n",
              "              (LayerNorm): LayerNorm((768,), eps=1e-12, elementwise_affine=True)\n",
              "              (dropout): Dropout(p=0.1, inplace=False)\n",
              "            )\n",
              "          )\n",
              "          (intermediate_query): Blip2QFormerIntermediate(\n",
              "            (dense): Linear(in_features=768, out_features=3072, bias=True)\n",
              "            (intermediate_act_fn): GELUActivation()\n",
              "          )\n",
              "          (output_query): Blip2QFormerOutput(\n",
              "            (dense): Linear(in_features=3072, out_features=768, bias=True)\n",
              "            (LayerNorm): LayerNorm((768,), eps=1e-12, elementwise_affine=True)\n",
              "            (dropout): Dropout(p=0.1, inplace=False)\n",
              "          )\n",
              "        )\n",
              "        (9): Blip2QFormerLayer(\n",
              "          (attention): Blip2QFormerAttention(\n",
              "            (attention): Blip2QFormerMultiHeadAttention(\n",
              "              (query): Linear(in_features=768, out_features=768, bias=True)\n",
              "              (key): Linear(in_features=768, out_features=768, bias=True)\n",
              "              (value): Linear(in_features=768, out_features=768, bias=True)\n",
              "              (dropout): Dropout(p=0.1, inplace=False)\n",
              "            )\n",
              "            (output): Blip2QFormerSelfOutput(\n",
              "              (dense): Linear(in_features=768, out_features=768, bias=True)\n",
              "              (LayerNorm): LayerNorm((768,), eps=1e-12, elementwise_affine=True)\n",
              "              (dropout): Dropout(p=0.1, inplace=False)\n",
              "            )\n",
              "          )\n",
              "          (intermediate_query): Blip2QFormerIntermediate(\n",
              "            (dense): Linear(in_features=768, out_features=3072, bias=True)\n",
              "            (intermediate_act_fn): GELUActivation()\n",
              "          )\n",
              "          (output_query): Blip2QFormerOutput(\n",
              "            (dense): Linear(in_features=3072, out_features=768, bias=True)\n",
              "            (LayerNorm): LayerNorm((768,), eps=1e-12, elementwise_affine=True)\n",
              "            (dropout): Dropout(p=0.1, inplace=False)\n",
              "          )\n",
              "        )\n",
              "        (10): Blip2QFormerLayer(\n",
              "          (attention): Blip2QFormerAttention(\n",
              "            (attention): Blip2QFormerMultiHeadAttention(\n",
              "              (query): Linear(in_features=768, out_features=768, bias=True)\n",
              "              (key): Linear(in_features=768, out_features=768, bias=True)\n",
              "              (value): Linear(in_features=768, out_features=768, bias=True)\n",
              "              (dropout): Dropout(p=0.1, inplace=False)\n",
              "            )\n",
              "            (output): Blip2QFormerSelfOutput(\n",
              "              (dense): Linear(in_features=768, out_features=768, bias=True)\n",
              "              (LayerNorm): LayerNorm((768,), eps=1e-12, elementwise_affine=True)\n",
              "              (dropout): Dropout(p=0.1, inplace=False)\n",
              "            )\n",
              "          )\n",
              "          (crossattention): Blip2QFormerAttention(\n",
              "            (attention): Blip2QFormerMultiHeadAttention(\n",
              "              (query): Linear(in_features=768, out_features=768, bias=True)\n",
              "              (key): Linear(in_features=1408, out_features=768, bias=True)\n",
              "              (value): Linear(in_features=1408, out_features=768, bias=True)\n",
              "              (dropout): Dropout(p=0.1, inplace=False)\n",
              "            )\n",
              "            (output): Blip2QFormerSelfOutput(\n",
              "              (dense): Linear(in_features=768, out_features=768, bias=True)\n",
              "              (LayerNorm): LayerNorm((768,), eps=1e-12, elementwise_affine=True)\n",
              "              (dropout): Dropout(p=0.1, inplace=False)\n",
              "            )\n",
              "          )\n",
              "          (intermediate_query): Blip2QFormerIntermediate(\n",
              "            (dense): Linear(in_features=768, out_features=3072, bias=True)\n",
              "            (intermediate_act_fn): GELUActivation()\n",
              "          )\n",
              "          (output_query): Blip2QFormerOutput(\n",
              "            (dense): Linear(in_features=3072, out_features=768, bias=True)\n",
              "            (LayerNorm): LayerNorm((768,), eps=1e-12, elementwise_affine=True)\n",
              "            (dropout): Dropout(p=0.1, inplace=False)\n",
              "          )\n",
              "        )\n",
              "        (11): Blip2QFormerLayer(\n",
              "          (attention): Blip2QFormerAttention(\n",
              "            (attention): Blip2QFormerMultiHeadAttention(\n",
              "              (query): Linear(in_features=768, out_features=768, bias=True)\n",
              "              (key): Linear(in_features=768, out_features=768, bias=True)\n",
              "              (value): Linear(in_features=768, out_features=768, bias=True)\n",
              "              (dropout): Dropout(p=0.1, inplace=False)\n",
              "            )\n",
              "            (output): Blip2QFormerSelfOutput(\n",
              "              (dense): Linear(in_features=768, out_features=768, bias=True)\n",
              "              (LayerNorm): LayerNorm((768,), eps=1e-12, elementwise_affine=True)\n",
              "              (dropout): Dropout(p=0.1, inplace=False)\n",
              "            )\n",
              "          )\n",
              "          (intermediate_query): Blip2QFormerIntermediate(\n",
              "            (dense): Linear(in_features=768, out_features=3072, bias=True)\n",
              "            (intermediate_act_fn): GELUActivation()\n",
              "          )\n",
              "          (output_query): Blip2QFormerOutput(\n",
              "            (dense): Linear(in_features=3072, out_features=768, bias=True)\n",
              "            (LayerNorm): LayerNorm((768,), eps=1e-12, elementwise_affine=True)\n",
              "            (dropout): Dropout(p=0.1, inplace=False)\n",
              "          )\n",
              "        )\n",
              "      )\n",
              "    )\n",
              "  )\n",
              "  (language_projection): Linear(in_features=768, out_features=2560, bias=True)\n",
              "  (language_model): OPTForCausalLM(\n",
              "    (model): OPTModel(\n",
              "      (decoder): OPTDecoder(\n",
              "        (embed_tokens): Embedding(50272, 2560, padding_idx=1)\n",
              "        (embed_positions): OPTLearnedPositionalEmbedding(2050, 2560)\n",
              "        (final_layer_norm): LayerNorm((2560,), eps=1e-05, elementwise_affine=True)\n",
              "        (layers): ModuleList(\n",
              "          (0-31): 32 x OPTDecoderLayer(\n",
              "            (self_attn): OPTAttention(\n",
              "              (k_proj): Linear(in_features=2560, out_features=2560, bias=True)\n",
              "              (v_proj): Linear(in_features=2560, out_features=2560, bias=True)\n",
              "              (q_proj): Linear(in_features=2560, out_features=2560, bias=True)\n",
              "              (out_proj): Linear(in_features=2560, out_features=2560, bias=True)\n",
              "            )\n",
              "            (activation_fn): ReLU()\n",
              "            (self_attn_layer_norm): LayerNorm((2560,), eps=1e-05, elementwise_affine=True)\n",
              "            (fc1): Linear(in_features=2560, out_features=10240, bias=True)\n",
              "            (fc2): Linear(in_features=10240, out_features=2560, bias=True)\n",
              "            (final_layer_norm): LayerNorm((2560,), eps=1e-05, elementwise_affine=True)\n",
              "          )\n",
              "        )\n",
              "      )\n",
              "    )\n",
              "    (lm_head): Linear(in_features=2560, out_features=50272, bias=False)\n",
              "  )\n",
              ")"
            ]
          },
          "metadata": {},
          "execution_count": 4
        }
      ]
    },
    {
      "cell_type": "code",
      "source": [
        "inputs = processor(image, return_tensors=\"pt\").to(device, torch.float16)\n",
        "\n",
        "generated_ids = model.generate(**inputs, max_new_tokens=20)\n",
        "generated_text = processor.batch_decode(generated_ids, skip_special_tokens=True)[0].strip()\n",
        "print(generated_text)"
      ],
      "metadata": {
        "id": "OfV_JiNiNJ9U",
        "colab": {
          "base_uri": "https://localhost:8080/"
        },
        "outputId": "ed0de156-fd2b-418b-f3c1-bb0ae06b5bb0"
      },
      "execution_count": null,
      "outputs": [
        {
          "output_type": "stream",
          "name": "stderr",
          "text": [
            "Both `max_new_tokens` (=20) and `max_length`(=51) seem to have been set. `max_new_tokens` will take precedence. Please refer to the documentation for more information. (https://huggingface.co/docs/transformers/main/en/main_classes/text_generation)\n"
          ]
        },
        {
          "output_type": "stream",
          "name": "stdout",
          "text": [
            "a group of people are running down the street\n"
          ]
        }
      ]
    },
    {
      "cell_type": "markdown",
      "source": [
        "### Trying another video ####"
      ],
      "metadata": {
        "id": "bH-F5-kbUACa"
      }
    },
    {
      "cell_type": "code",
      "source": [
        "source=\"/content/V_10.mp4\"\n",
        "results_2 = yolo_model(source, stream=True)  # generator of Results objects"
      ],
      "metadata": {
        "id": "agB5CTNsOVn8"
      },
      "execution_count": null,
      "outputs": []
    },
    {
      "cell_type": "code",
      "source": [
        "import cv2\n",
        "import os\n",
        "\n",
        "# Initialize a list to hold frames (optional if you want to save them directly)\n",
        "frames = []\n",
        "\n",
        "# Specify the output folder where the frames will be saved\n",
        "output_folder = 'extracted_frames_new'\n",
        "os.makedirs(output_folder, exist_ok=True)  # Create the folder if it doesn't exist\n",
        "\n",
        "# Process results list\n",
        "for idx, result in enumerate(results_2):\n",
        "    # Extract result details (if needed)\n",
        "    boxes = result.boxes\n",
        "    masks = result.masks\n",
        "    keypoints = result.keypoints\n",
        "    probs = result.probs\n",
        "    obb = result.obb\n",
        "\n",
        "    # Use result.plot() to get the annotated image as a NumPy array\n",
        "    annotated_frame = result.plot()\n",
        "    frames.append(annotated_frame)\n",
        "\n",
        "    # Construct the filename for the image\n",
        "    image_filename = os.path.join(output_folder, f'frame_{idx:04d}.png')  # e.g., frame_0001.png\n",
        "\n",
        "    # Save the frame as an image file\n",
        "    cv2.imwrite(image_filename, annotated_frame)\n",
        "\n",
        "print(f\"Frames have been saved to the folder: {output_folder}\")\n"
      ],
      "metadata": {
        "colab": {
          "base_uri": "https://localhost:8080/"
        },
        "id": "CxBpNgJfTRfx",
        "outputId": "19da6773-454c-4107-ee82-2b8d601e608d"
      },
      "execution_count": null,
      "outputs": [
        {
          "output_type": "stream",
          "name": "stdout",
          "text": [
            "\n",
            "video 1/1 (frame 1/96) /content/V_10.mp4: 384x640 2 nonviolences, 1 violence, 85.0ms\n",
            "video 1/1 (frame 2/96) /content/V_10.mp4: 384x640 2 nonviolences, 1 violence, 10.9ms\n",
            "video 1/1 (frame 3/96) /content/V_10.mp4: 384x640 2 nonviolences, 1 violence, 19.3ms\n",
            "video 1/1 (frame 4/96) /content/V_10.mp4: 384x640 2 nonviolences, 1 violence, 16.1ms\n",
            "video 1/1 (frame 5/96) /content/V_10.mp4: 384x640 2 nonviolences, 1 violence, 11.7ms\n",
            "video 1/1 (frame 6/96) /content/V_10.mp4: 384x640 2 nonviolences, 1 violence, 21.7ms\n",
            "video 1/1 (frame 7/96) /content/V_10.mp4: 384x640 2 nonviolences, 1 violence, 10.9ms\n",
            "video 1/1 (frame 8/96) /content/V_10.mp4: 384x640 2 nonviolences, 1 violence, 11.3ms\n",
            "video 1/1 (frame 9/96) /content/V_10.mp4: 384x640 2 nonviolences, 1 violence, 10.6ms\n",
            "video 1/1 (frame 10/96) /content/V_10.mp4: 384x640 2 nonviolences, 1 violence, 13.8ms\n",
            "video 1/1 (frame 11/96) /content/V_10.mp4: 384x640 2 nonviolences, 1 violence, 11.2ms\n",
            "video 1/1 (frame 12/96) /content/V_10.mp4: 384x640 2 nonviolences, 1 violence, 13.3ms\n",
            "video 1/1 (frame 13/96) /content/V_10.mp4: 384x640 2 nonviolences, 1 violence, 11.7ms\n",
            "video 1/1 (frame 14/96) /content/V_10.mp4: 384x640 2 nonviolences, 1 violence, 18.5ms\n",
            "video 1/1 (frame 15/96) /content/V_10.mp4: 384x640 2 nonviolences, 1 violence, 21.9ms\n",
            "video 1/1 (frame 16/96) /content/V_10.mp4: 384x640 2 nonviolences, 1 violence, 11.2ms\n",
            "video 1/1 (frame 17/96) /content/V_10.mp4: 384x640 2 nonviolences, 1 violence, 11.0ms\n",
            "video 1/1 (frame 18/96) /content/V_10.mp4: 384x640 2 nonviolences, 1 violence, 11.0ms\n",
            "video 1/1 (frame 19/96) /content/V_10.mp4: 384x640 2 nonviolences, 1 violence, 17.3ms\n",
            "video 1/1 (frame 20/96) /content/V_10.mp4: 384x640 1 nonviolence, 1 violence, 11.5ms\n",
            "video 1/1 (frame 21/96) /content/V_10.mp4: 384x640 1 nonviolence, 1 violence, 11.2ms\n",
            "video 1/1 (frame 22/96) /content/V_10.mp4: 384x640 1 nonviolence, 1 violence, 13.6ms\n",
            "video 1/1 (frame 23/96) /content/V_10.mp4: 384x640 2 nonviolences, 1 violence, 11.6ms\n",
            "video 1/1 (frame 24/96) /content/V_10.mp4: 384x640 2 nonviolences, 1 violence, 11.5ms\n",
            "video 1/1 (frame 25/96) /content/V_10.mp4: 384x640 2 nonviolences, 1 violence, 11.2ms\n",
            "video 1/1 (frame 26/96) /content/V_10.mp4: 384x640 2 nonviolences, 1 violence, 11.3ms\n",
            "video 1/1 (frame 27/96) /content/V_10.mp4: 384x640 2 nonviolences, 1 violence, 18.1ms\n",
            "video 1/1 (frame 28/96) /content/V_10.mp4: 384x640 2 nonviolences, 1 violence, 11.3ms\n",
            "video 1/1 (frame 29/96) /content/V_10.mp4: 384x640 2 nonviolences, 1 violence, 17.4ms\n",
            "video 1/1 (frame 30/96) /content/V_10.mp4: 384x640 2 nonviolences, 1 violence, 10.9ms\n",
            "video 1/1 (frame 31/96) /content/V_10.mp4: 384x640 2 nonviolences, 1 violence, 11.0ms\n",
            "video 1/1 (frame 32/96) /content/V_10.mp4: 384x640 2 nonviolences, 1 violence, 11.0ms\n",
            "video 1/1 (frame 33/96) /content/V_10.mp4: 384x640 2 nonviolences, 1 violence, 11.1ms\n",
            "video 1/1 (frame 34/96) /content/V_10.mp4: 384x640 2 nonviolences, 1 violence, 11.7ms\n",
            "video 1/1 (frame 35/96) /content/V_10.mp4: 384x640 2 nonviolences, 1 violence, 11.4ms\n",
            "video 1/1 (frame 36/96) /content/V_10.mp4: 384x640 2 nonviolences, 1 violence, 11.0ms\n",
            "video 1/1 (frame 37/96) /content/V_10.mp4: 384x640 2 nonviolences, 1 violence, 11.2ms\n",
            "video 1/1 (frame 38/96) /content/V_10.mp4: 384x640 2 nonviolences, 1 violence, 13.5ms\n",
            "video 1/1 (frame 39/96) /content/V_10.mp4: 384x640 2 nonviolences, 1 violence, 10.7ms\n",
            "video 1/1 (frame 40/96) /content/V_10.mp4: 384x640 2 nonviolences, 1 violence, 7.1ms\n",
            "video 1/1 (frame 41/96) /content/V_10.mp4: 384x640 2 nonviolences, 1 violence, 7.4ms\n",
            "video 1/1 (frame 42/96) /content/V_10.mp4: 384x640 2 nonviolences, 1 violence, 7.3ms\n",
            "video 1/1 (frame 43/96) /content/V_10.mp4: 384x640 1 nonviolence, 1 violence, 11.1ms\n",
            "video 1/1 (frame 44/96) /content/V_10.mp4: 384x640 1 nonviolence, 1 violence, 7.0ms\n",
            "video 1/1 (frame 45/96) /content/V_10.mp4: 384x640 1 nonviolence, 1 violence, 7.0ms\n",
            "video 1/1 (frame 46/96) /content/V_10.mp4: 384x640 2 violences, 7.4ms\n",
            "video 1/1 (frame 47/96) /content/V_10.mp4: 384x640 2 violences, 11.0ms\n",
            "video 1/1 (frame 48/96) /content/V_10.mp4: 384x640 2 violences, 7.4ms\n",
            "video 1/1 (frame 49/96) /content/V_10.mp4: 384x640 2 violences, 7.0ms\n",
            "video 1/1 (frame 50/96) /content/V_10.mp4: 384x640 2 violences, 7.3ms\n",
            "video 1/1 (frame 51/96) /content/V_10.mp4: 384x640 2 violences, 10.5ms\n",
            "video 1/1 (frame 52/96) /content/V_10.mp4: 384x640 2 violences, 7.2ms\n",
            "video 1/1 (frame 53/96) /content/V_10.mp4: 384x640 2 violences, 8.1ms\n",
            "video 1/1 (frame 54/96) /content/V_10.mp4: 384x640 1 nonviolence, 2 violences, 11.0ms\n",
            "video 1/1 (frame 55/96) /content/V_10.mp4: 384x640 1 nonviolence, 2 violences, 10.8ms\n",
            "video 1/1 (frame 56/96) /content/V_10.mp4: 384x640 1 nonviolence, 2 violences, 6.9ms\n",
            "video 1/1 (frame 57/96) /content/V_10.mp4: 384x640 1 nonviolence, 2 violences, 6.9ms\n",
            "video 1/1 (frame 58/96) /content/V_10.mp4: 384x640 2 violences, 7.4ms\n",
            "video 1/1 (frame 59/96) /content/V_10.mp4: 384x640 2 violences, 13.5ms\n",
            "video 1/1 (frame 60/96) /content/V_10.mp4: 384x640 2 violences, 11.9ms\n",
            "video 1/1 (frame 61/96) /content/V_10.mp4: 384x640 2 violences, 9.5ms\n",
            "video 1/1 (frame 62/96) /content/V_10.mp4: 384x640 1 nonviolence, 2 violences, 9.0ms\n",
            "video 1/1 (frame 63/96) /content/V_10.mp4: 384x640 1 nonviolence, 2 violences, 12.9ms\n",
            "video 1/1 (frame 64/96) /content/V_10.mp4: 384x640 1 nonviolence, 2 violences, 9.5ms\n",
            "video 1/1 (frame 65/96) /content/V_10.mp4: 384x640 1 nonviolence, 2 violences, 13.3ms\n",
            "video 1/1 (frame 66/96) /content/V_10.mp4: 384x640 1 nonviolence, 1 violence, 12.6ms\n",
            "video 1/1 (frame 67/96) /content/V_10.mp4: 384x640 1 nonviolence, 1 violence, 14.1ms\n",
            "video 1/1 (frame 68/96) /content/V_10.mp4: 384x640 1 nonviolence, 1 violence, 16.7ms\n",
            "video 1/1 (frame 69/96) /content/V_10.mp4: 384x640 2 violences, 9.3ms\n",
            "video 1/1 (frame 70/96) /content/V_10.mp4: 384x640 2 violences, 9.3ms\n",
            "video 1/1 (frame 71/96) /content/V_10.mp4: 384x640 2 violences, 9.6ms\n",
            "video 1/1 (frame 72/96) /content/V_10.mp4: 384x640 2 violences, 15.0ms\n",
            "video 1/1 (frame 73/96) /content/V_10.mp4: 384x640 2 violences, 13.2ms\n",
            "video 1/1 (frame 74/96) /content/V_10.mp4: 384x640 2 violences, 10.7ms\n",
            "video 1/1 (frame 75/96) /content/V_10.mp4: 384x640 2 violences, 23.7ms\n",
            "video 1/1 (frame 76/96) /content/V_10.mp4: 384x640 2 violences, 10.8ms\n",
            "video 1/1 (frame 77/96) /content/V_10.mp4: 384x640 1 violence, 12.2ms\n",
            "video 1/1 (frame 78/96) /content/V_10.mp4: 384x640 1 violence, 12.1ms\n",
            "video 1/1 (frame 79/96) /content/V_10.mp4: 384x640 1 violence, 24.2ms\n",
            "video 1/1 (frame 80/96) /content/V_10.mp4: 384x640 1 violence, 10.5ms\n",
            "video 1/1 (frame 81/96) /content/V_10.mp4: 384x640 1 violence, 12.0ms\n",
            "video 1/1 (frame 82/96) /content/V_10.mp4: 384x640 1 violence, 10.3ms\n",
            "video 1/1 (frame 83/96) /content/V_10.mp4: 384x640 1 violence, 27.4ms\n",
            "video 1/1 (frame 84/96) /content/V_10.mp4: 384x640 1 violence, 14.8ms\n",
            "video 1/1 (frame 85/96) /content/V_10.mp4: 384x640 1 violence, 13.2ms\n",
            "video 1/1 (frame 86/96) /content/V_10.mp4: 384x640 1 violence, 7.4ms\n",
            "video 1/1 (frame 87/96) /content/V_10.mp4: 384x640 1 violence, 10.9ms\n",
            "video 1/1 (frame 88/96) /content/V_10.mp4: 384x640 1 violence, 7.1ms\n",
            "video 1/1 (frame 89/96) /content/V_10.mp4: 384x640 1 nonviolence, 1 violence, 8.4ms\n",
            "video 1/1 (frame 90/96) /content/V_10.mp4: 384x640 1 nonviolence, 1 violence, 7.5ms\n",
            "video 1/1 (frame 91/96) /content/V_10.mp4: 384x640 1 nonviolence, 1 violence, 7.5ms\n",
            "video 1/1 (frame 92/96) /content/V_10.mp4: 384x640 1 nonviolence, 1 violence, 7.4ms\n",
            "video 1/1 (frame 93/96) /content/V_10.mp4: 384x640 1 nonviolence, 7.6ms\n",
            "video 1/1 (frame 94/96) /content/V_10.mp4: 384x640 1 nonviolence, 8.2ms\n",
            "video 1/1 (frame 95/96) /content/V_10.mp4: 384x640 1 nonviolence, 7.7ms\n",
            "video 1/1 (frame 96/96) /content/V_10.mp4: 384x640 1 nonviolence, 8.2ms\n",
            "Speed: 3.9ms preprocess, 12.3ms inference, 2.2ms postprocess per image at shape (1, 3, 384, 640)\n",
            "Frames have been saved to the folder: extracted_frames_new\n"
          ]
        }
      ]
    },
    {
      "cell_type": "code",
      "source": [
        "import os\n",
        "import cv2\n",
        "import torch\n",
        "from ultralytics import YOLO\n",
        "from transformers import AutoProcessor, Blip2ForConditionalGeneration\n",
        "# Load YOLOv8 model for violence detection\n",
        "yolo_model = YOLO('/content/drive/MyDrive/NTI_GP/runs/detect/train/weights/best.pt')\n",
        "\n",
        "# Load BLIP-2 processor and model for caption generation\n",
        "processor = AutoProcessor.from_pretrained(\"Salesforce/blip2-opt-2.7b\")\n",
        "caption_model = Blip2ForConditionalGeneration.from_pretrained(\"Salesforce/blip2-opt-2.7b\", torch_dtype=torch.float16).to(\"cuda\")\n",
        "\n",
        "# Function to generate caption using BLIP-2\n",
        "def generate_caption(frame):\n",
        "    inputs = processor(images=frame, return_tensors=\"pt\").to(\"cuda\", torch.float16)\n",
        "    with torch.no_grad():\n",
        "        generated_ids = caption_model.generate(**inputs, max_length=50)\n",
        "        caption = processor.decode(generated_ids[0], skip_special_tokens=True)\n",
        "    return caption\n",
        "\n",
        "# Function to overlay caption on the frame\n",
        "def overlay_caption_on_frame(frame, caption):\n",
        "    # Set font and positioning for the caption\n",
        "    font = cv2.FONT_HERSHEY_SIMPLEX\n",
        "    font_scale = 1\n",
        "    font_thickness = 2\n",
        "    caption_color = (255, 255, 255)  # White text\n",
        "    text_position = (50, 50)  # Position of the text on the frame\n",
        "\n",
        "    # Draw the caption on the frame\n",
        "    cv2.putText(frame, caption, text_position, font, font_scale, caption_color, font_thickness, cv2.LINE_AA)\n",
        "    return frame\n",
        "\n",
        "# Define folders and process results\n",
        "output_folder = 'processed_frames'\n",
        "captions_file = 'captions.txt3'  # Ensure correct path for captions\n",
        "os.makedirs(output_folder, exist_ok=True)\n",
        "\n",
        "# Open the file to save captions\n",
        "with open(captions_file, 'w') as f:\n",
        "    # Load frames from the directory\n",
        "    frames_folder = '/content/extracted_frames_new'\n",
        "    frame_files = [os.path.join(frames_folder, file) for file in os.listdir(frames_folder) if file.endswith(('.png', '.jpg'))]\n",
        "\n",
        "    for idx, frame_path in enumerate(frame_files):\n",
        "        # Load the frame\n",
        "        frame = cv2.imread(frame_path)\n",
        "\n",
        "        if frame is None:\n",
        "            print(f\"Error loading frame {frame_path}. Skipping.\")\n",
        "            continue\n",
        "\n",
        "        # Generate a caption using BLIP-2\n",
        "        caption = generate_caption(frame)\n",
        "\n",
        "        if caption:  # Check if the caption is not empty\n",
        "            print(f\"Generated caption for frame {idx}: {caption}\")\n",
        "\n",
        "            # Overlay caption on the frame\n",
        "            annotated_frame_with_caption = overlay_caption_on_frame(frame, caption)\n",
        "\n",
        "            # Save the frame with caption overlay\n",
        "            frame_filename = os.path.join(output_folder, f'frame_{idx:04d}.png')\n",
        "            cv2.imwrite(frame_filename, annotated_frame_with_caption)\n",
        "\n",
        "            # Save the caption in the captions file\n",
        "            f.write(f\"Frame {idx:04d}: {caption}\\n\")\n",
        "        else:\n",
        "            print(f\"Warning: No caption generated for frame {idx}\")\n",
        "\n",
        "print(f\"Processed frames saved to {output_folder} and captions saved to {captions_file}\")"
      ],
      "metadata": {
        "colab": {
          "base_uri": "https://localhost:8080/",
          "height": 1000,
          "referenced_widgets": [
            "7d2ed87ad8aa421d9438ae2699798537",
            "5f322e541a364f8c80eafaff19310dfd",
            "1ec47e4288a347959c59f7f1df7b6441",
            "72b2785c0efe4464b3275a20c17459d5",
            "69122683202e4df2b984c1f9ccad639a",
            "f47dc72753f640d19d93c39f2ef0c41c",
            "6c8c7ee06386457e9083159843165575",
            "ae806f97dbed4860bde7b1ff32d351f5",
            "0e7aa7eee43d4f9f808a188d1c69badc",
            "e710457dec034cc7a58fba039dc0af5c",
            "8fcb70e84445419dad8b08ef3ec6cb0a"
          ]
        },
        "id": "eiGL6lm-TwXl",
        "outputId": "b57f70f3-c050-431e-fb88-8c702591d351"
      },
      "execution_count": null,
      "outputs": [
        {
          "output_type": "stream",
          "name": "stderr",
          "text": [
            "/usr/local/lib/python3.10/dist-packages/huggingface_hub/utils/_token.py:89: UserWarning: \n",
            "The secret `HF_TOKEN` does not exist in your Colab secrets.\n",
            "To authenticate with the Hugging Face Hub, create a token in your settings tab (https://huggingface.co/settings/tokens), set it as secret in your Google Colab and restart your session.\n",
            "You will be able to reuse this secret in all of your notebooks.\n",
            "Please note that authentication is recommended but still optional to access public models or datasets.\n",
            "  warnings.warn(\n",
            "/usr/local/lib/python3.10/dist-packages/transformers/tokenization_utils_base.py:1601: FutureWarning: `clean_up_tokenization_spaces` was not set. It will be set to `True` by default. This behavior will be depracted in transformers v4.45, and will be then set to `False` by default. For more details check this issue: https://github.com/huggingface/transformers/issues/31884\n",
            "  warnings.warn(\n"
          ]
        },
        {
          "output_type": "display_data",
          "data": {
            "text/plain": [
              "Loading checkpoint shards:   0%|          | 0/2 [00:00<?, ?it/s]"
            ],
            "application/vnd.jupyter.widget-view+json": {
              "version_major": 2,
              "version_minor": 0,
              "model_id": "7d2ed87ad8aa421d9438ae2699798537"
            }
          },
          "metadata": {}
        },
        {
          "output_type": "stream",
          "name": "stdout",
          "text": [
            "Generated caption for frame 0: a man sitting on a bench with a yellow box\n",
            "\n",
            "Generated caption for frame 1: a man sitting at a table with a camera in front of him\n",
            "\n",
            "Generated caption for frame 2: a man sitting on a bench with a cell phone\n",
            "\n",
            "Generated caption for frame 3: a man sitting on a bench with a phone in his hand\n",
            "\n",
            "Generated caption for frame 4: a man sitting on a bench with a camera in front of him\n",
            "\n",
            "Generated caption for frame 5: a man sitting at a table with a camera in front of him\n",
            "\n",
            "Generated caption for frame 6: a man sitting on a bench with his back to the camera\n",
            "\n",
            "Generated caption for frame 7: a man sitting on a bench with a yellow box\n",
            "\n",
            "Generated caption for frame 8: a man sitting on a bench with a camera in front of him\n",
            "\n",
            "Generated caption for frame 9: a man sitting on a bench with a camera in front of him\n",
            "\n",
            "Generated caption for frame 10: a man sitting on a bench with a camera in front of him\n",
            "\n",
            "Generated caption for frame 11: a man sitting on a bench with a phone in his hand\n",
            "\n",
            "Generated caption for frame 12: a man sitting on a bench with a yellow box\n",
            "\n",
            "Generated caption for frame 13: a man is sitting on a bench with a knife\n",
            "\n",
            "Generated caption for frame 14: a man sitting on a bench with a yellow square\n",
            "\n",
            "Generated caption for frame 15: a man sitting at a table with a laptop and a camera\n",
            "\n",
            "Generated caption for frame 16: a man is sitting on a bench with a knife\n",
            "\n",
            "Generated caption for frame 17: a man sitting on a bench with a yellow box\n",
            "\n",
            "Generated caption for frame 18: a man sitting on a bench with a camera in front of him\n",
            "\n",
            "Generated caption for frame 19: a man sitting on a bench with his head in the air\n",
            "\n",
            "Generated caption for frame 20: a man sitting at a table with a laptop and a camera\n",
            "\n",
            "Generated caption for frame 21: a man sitting on a bench with a camera in front of him\n",
            "\n",
            "Generated caption for frame 22: a man sitting on a bench with his cell phone\n",
            "\n",
            "Generated caption for frame 23: a man sitting on a bench with a cell phone\n",
            "\n",
            "Generated caption for frame 24: a man sitting at a table with a tablet computer\n",
            "\n",
            "Generated caption for frame 25: a man sitting on a bench with a camera in front of him\n",
            "\n",
            "Generated caption for frame 26: a man sitting on a bench with a cell phone\n",
            "\n",
            "Generated caption for frame 27: a man sitting on a bench with a yellow box around him\n",
            "\n",
            "Generated caption for frame 28: a man sitting on a bench with a camera in front of him\n",
            "\n",
            "Generated caption for frame 29: a man sitting on a bench with a phone in his hand\n",
            "\n",
            "Generated caption for frame 30: a man sitting on a bench with a camera in front of him\n",
            "\n",
            "Generated caption for frame 31: a man sitting on a bench with a camera in front of him\n",
            "\n",
            "Generated caption for frame 32: a man sitting on a bench with a yellow box\n",
            "\n",
            "Generated caption for frame 33: a man sitting at a table with a laptop and a camera\n",
            "\n",
            "Generated caption for frame 34: a man sitting on a bench with his back to the camera\n",
            "\n",
            "Generated caption for frame 35: a man sitting at a table with his cell phone\n",
            "\n",
            "Generated caption for frame 36: a man sitting at a table with a tablet computer\n",
            "\n",
            "Generated caption for frame 37: a man sitting on a bench with a yellow box\n",
            "\n",
            "Generated caption for frame 38: a man is sitting on a bench with a knife\n",
            "\n",
            "Generated caption for frame 39: a man sitting on a bench with a yellow box\n",
            "\n",
            "Generated caption for frame 40: a man is sitting on a bench with a knife\n",
            "\n",
            "Generated caption for frame 41: a man sitting at a table with a tablet computer\n",
            "\n",
            "Generated caption for frame 42: a man sitting on a bench with a camera in front of him\n",
            "\n",
            "Generated caption for frame 43: a man sitting at a table with a tablet computer\n",
            "\n",
            "Generated caption for frame 44: a man sitting on a bench with a yellow box around him\n",
            "\n",
            "Generated caption for frame 45: a man sitting on a bench with a red circle around him\n",
            "\n",
            "Generated caption for frame 46: a man is sitting on a bench with a camera\n",
            "\n",
            "Generated caption for frame 47: a man sitting on a bench with a phone in his hand\n",
            "\n",
            "Generated caption for frame 48: a man sitting on a bench with a red circle around him\n",
            "\n",
            "Generated caption for frame 49: a man sitting on a bench with a yellow square\n",
            "\n",
            "Generated caption for frame 50: a man sitting on a bench with a camera in front of him\n",
            "\n",
            "Generated caption for frame 51: a man sitting on a bench with a tablet computer\n",
            "\n",
            "Generated caption for frame 52: a man sitting on a bench with a camera in front of him\n",
            "\n",
            "Generated caption for frame 53: a man sitting at a table with a laptop and a camera\n",
            "\n",
            "Generated caption for frame 54: a man sitting on a bench with a yellow box\n",
            "\n",
            "Generated caption for frame 55: a man sitting on a bench with a camera in front of him\n",
            "\n",
            "Generated caption for frame 56: a man sitting on a bench with a camera in front of him\n",
            "\n",
            "Generated caption for frame 57: a man sitting on a bench with a camera in front of him\n",
            "\n",
            "Generated caption for frame 58: a man sitting on a bench with a camera in front of him\n",
            "\n",
            "Generated caption for frame 59: a man sitting on a bench with a camera in front of him\n",
            "\n",
            "Generated caption for frame 60: a man sitting on a bench with his head in the air\n",
            "\n",
            "Generated caption for frame 61: a man sitting on a bench with a yellow square\n",
            "\n",
            "Generated caption for frame 62: a man sitting on a bench with a camera in front of him\n",
            "\n",
            "Generated caption for frame 63: a man sitting on a bench with a camera in front of him\n",
            "\n",
            "Generated caption for frame 64: a man sitting on a bench with a cell phone\n",
            "\n",
            "Generated caption for frame 65: a man sitting at a table with a laptop and a camera\n",
            "\n",
            "Generated caption for frame 66: a man sitting at a table with a camera in front of him\n",
            "\n",
            "Generated caption for frame 67: a man sitting on a bench with a yellow box\n",
            "\n",
            "Generated caption for frame 68: a man sitting on a bench with a yellow square\n",
            "\n",
            "Generated caption for frame 69: a man sitting on a bench with his head in the air\n",
            "\n",
            "Generated caption for frame 70: a man sitting on a bench with a yellow box\n",
            "\n",
            "Generated caption for frame 71: a man sitting on a bench with a yellow box\n",
            "\n",
            "Generated caption for frame 72: a man sitting on a bench with a camera in front of him\n",
            "\n",
            "Generated caption for frame 73: a man sitting on a bench with a yellow box\n",
            "\n",
            "Generated caption for frame 74: a man sitting at a table with a laptop and a camera\n",
            "\n",
            "Generated caption for frame 75: a man sitting on a bench with a phone in his hand\n",
            "\n",
            "Generated caption for frame 76: a man sitting on a bench with a yellow box\n",
            "\n",
            "Generated caption for frame 77: a man sitting on a bench with a camera in front of him\n",
            "\n",
            "Generated caption for frame 78: a man sitting on a bench with a cell phone\n",
            "\n",
            "Generated caption for frame 79: a man sitting at a table with his cell phone\n",
            "\n",
            "Generated caption for frame 80: a man sitting on a bench with a tablet computer\n",
            "\n",
            "Generated caption for frame 81: a man sitting on a bench with a camera in front of him\n",
            "\n",
            "Generated caption for frame 82: a man sitting on a bench with a phone in his hand\n",
            "\n",
            "Generated caption for frame 83: a man sitting on a bench with a camera in front of him\n",
            "\n",
            "Generated caption for frame 84: a man sitting on a bench with a yellow box\n",
            "\n",
            "Generated caption for frame 85: a man sitting on a bench with a camera in front of him\n",
            "\n",
            "Generated caption for frame 86: a man sitting on a bench with a camera in front of him\n",
            "\n",
            "Generated caption for frame 87: a man sitting at a table with a camera in front of him\n",
            "\n",
            "Generated caption for frame 88: a man sitting on a bench with his back to the camera\n",
            "\n",
            "Generated caption for frame 89: a man sitting on a bench with a camera in front of him\n",
            "\n",
            "Generated caption for frame 90: a man sitting on a bench with a camera in front of him\n",
            "\n",
            "Generated caption for frame 91: a man sitting on a bench with a cell phone\n",
            "\n",
            "Generated caption for frame 92: a man sitting on a bench with his head in the air\n",
            "\n",
            "Generated caption for frame 93: a man sitting on a bench with his back to the camera\n",
            "\n",
            "Generated caption for frame 94: a man is sitting on a bench with a phone in his hand\n",
            "\n",
            "Generated caption for frame 95: a man sitting on a bench with a camera in front of him\n",
            "\n",
            "Processed frames saved to processed_frames and captions saved to captions.txt3\n"
          ]
        }
      ]
    },
    {
      "cell_type": "code",
      "source": [],
      "metadata": {
        "id": "-9i6OD5hT9Hv"
      },
      "execution_count": null,
      "outputs": []
    }
  ]
}